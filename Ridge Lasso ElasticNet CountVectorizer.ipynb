{
 "cells": [
  {
   "cell_type": "code",
   "execution_count": 1,
   "metadata": {},
   "outputs": [],
   "source": [
    "%matplotlib inline \n",
    "import pandas as pd "
   ]
  },
  {
   "cell_type": "code",
   "execution_count": 2,
   "metadata": {},
   "outputs": [
    {
     "data": {
      "text/plain": [
       "'C:\\\\Users\\\\2918261\\\\Dropbox\\\\Corner Office Interviews'"
      ]
     },
     "execution_count": 2,
     "metadata": {},
     "output_type": "execute_result"
    }
   ],
   "source": [
    "import os\n",
    "os.chdir('C://Users//2918261//Dropbox//Corner Office Interviews')\n",
    "# ('C://Users//Toshiba//Dropbox//Corner Office Interviews')\n",
    "# ('C://Users//2918261//Courses//Oslo Summer School//notebooks//Interviews//Text')\n",
    "os.getcwd()"
   ]
  },
  {
   "cell_type": "code",
   "execution_count": 3,
   "metadata": {},
   "outputs": [],
   "source": [
    "pd.set_option('display.max_colwidth', 120)"
   ]
  },
  {
   "cell_type": "code",
   "execution_count": null,
   "metadata": {},
   "outputs": [],
   "source": [
    "# table = pd.read_excel('C://Users//2918261//Dropbox//Corner Office Interviews//FeatureTable.xlsx')"
   ]
  },
  {
   "cell_type": "code",
   "execution_count": null,
   "metadata": {},
   "outputs": [],
   "source": [
    "# table = pd.read_excel('FeatureTable.xlsx')"
   ]
  },
  {
   "cell_type": "code",
   "execution_count": 4,
   "metadata": {},
   "outputs": [],
   "source": [
    "table = pd.read_json('C:/Users/2918261/Dropbox/Corner Office Interviews/ComparisonCorpusText/Json Tables for ML/interviews_full.json')"
   ]
  },
  {
   "cell_type": "code",
   "execution_count": 5,
   "metadata": {},
   "outputs": [],
   "source": [
    "import matplotlib.pyplot as plt\n",
    "import numpy as np \n",
    "import pandas as pd\n",
    "import matplotlib\n",
    "matplotlib.rcParams.update({'font.size': 12})\n",
    "from sklearn.model_selection import train_test_split\n",
    "from sklearn import preprocessing\n",
    "import matplotlib.cm as cm\n",
    "from sklearn.linear_model import LogisticRegressionCV"
   ]
  },
  {
   "cell_type": "code",
   "execution_count": null,
   "metadata": {},
   "outputs": [],
   "source": [
    "# table = table.drop(['Name ', 'Year', 'Sector_Grouped'], axis = 1)"
   ]
  },
  {
   "cell_type": "markdown",
   "metadata": {},
   "source": [
    "## Logistic (Ridge by default)"
   ]
  },
  {
   "cell_type": "code",
   "execution_count": 6,
   "metadata": {},
   "outputs": [],
   "source": [
    "from sklearn.linear_model import LogisticRegression"
   ]
  },
  {
   "cell_type": "code",
   "execution_count": 7,
   "metadata": {},
   "outputs": [],
   "source": [
    "ln_classifier = LogisticRegression(penalty = 'l2', C = 5, solver = 'liblinear')"
   ]
  },
  {
   "cell_type": "code",
   "execution_count": 8,
   "metadata": {},
   "outputs": [],
   "source": [
    "from textblob import TextBlob\n",
    "\n",
    "# Use TextBlob\n",
    "def textblob_tokenizer(str_input):\n",
    "    blob = TextBlob(str_input.lower())\n",
    "    tokens = blob.words\n",
    "    words = [token.stem() for token in tokens]\n",
    "    return words"
   ]
  },
  {
   "cell_type": "code",
   "execution_count": 9,
   "metadata": {},
   "outputs": [],
   "source": [
    "from sklearn.feature_extraction.text import CountVectorizer\n",
    "vectorizer = CountVectorizer(lowercase = True,\n",
    "                             # token_pattern = r\"(?u)\\b\\w+\\b\",\n",
    "                             token_pattern = '[a-zA-Z]\\w+',\n",
    "                             ngram_range = (1,3),\n",
    "                             stop_words = ['000'],\n",
    "                             tokenizer=textblob_tokenizer,      \n",
    "                             max_df    = .9,\n",
    "                             min_df    = .2)"
   ]
  },
  {
   "cell_type": "code",
   "execution_count": null,
   "metadata": {},
   "outputs": [],
   "source": [
    "## table = pd.read_excel('Complete.xlsx')"
   ]
  },
  {
   "cell_type": "code",
   "execution_count": 10,
   "metadata": {},
   "outputs": [
    {
     "data": {
      "text/plain": [
       "['filename',\n",
       " 'text',\n",
       " 'Name ',\n",
       " 'Gender',\n",
       " 'Organization',\n",
       " 'Current Age',\n",
       " 'NativeSpeaker',\n",
       " 'Traded',\n",
       " 'MBA',\n",
       " 'Sector_Grouped',\n",
       " 'Female',\n",
       " 'Sector_Grouped_Dic',\n",
       " 'Femininity',\n",
       " 'Masculinity']"
      ]
     },
     "execution_count": 10,
     "metadata": {},
     "output_type": "execute_result"
    }
   ],
   "source": [
    "list(table.columns)"
   ]
  },
  {
   "cell_type": "code",
   "execution_count": 11,
   "metadata": {},
   "outputs": [],
   "source": [
    "table = table.drop(['filename','Name ','Gender','Organization','Current Age','NativeSpeaker','Traded','MBA',\n",
    " 'Sector_Grouped','Sector_Grouped_Dic','Femininity','Masculinity'], axis = 1)"
   ]
  },
  {
   "cell_type": "code",
   "execution_count": 12,
   "metadata": {},
   "outputs": [],
   "source": [
    "train, test = train_test_split(table, test_size=0.2)"
   ]
  },
  {
   "cell_type": "code",
   "execution_count": 13,
   "metadata": {},
   "outputs": [
    {
     "data": {
      "text/plain": [
       "CountVectorizer(analyzer='word', binary=False, decode_error='strict',\n",
       "        dtype=<class 'numpy.int64'>, encoding='utf-8', input='content',\n",
       "        lowercase=True, max_df=0.9, max_features=None, min_df=0.2,\n",
       "        ngram_range=(1, 3), preprocessor=None, stop_words=['000'],\n",
       "        strip_accents=None, token_pattern='[a-zA-Z]\\\\w+',\n",
       "        tokenizer=<function textblob_tokenizer at 0x0000020BBC0031E0>,\n",
       "        vocabulary=None)"
      ]
     },
     "execution_count": 13,
     "metadata": {},
     "output_type": "execute_result"
    }
   ],
   "source": [
    "vectorizer.fit(train['text'])"
   ]
  },
  {
   "cell_type": "code",
   "execution_count": 14,
   "metadata": {},
   "outputs": [],
   "source": [
    "review_word_counts = vectorizer.transform(table['text'])"
   ]
  },
  {
   "cell_type": "code",
   "execution_count": 15,
   "metadata": {},
   "outputs": [
    {
     "name": "stdout",
     "output_type": "stream",
     "text": [
      "2498\n"
     ]
    }
   ],
   "source": [
    "print(len(vectorizer.get_feature_names()))"
   ]
  },
  {
   "cell_type": "code",
   "execution_count": 16,
   "metadata": {
    "scrolled": true
   },
   "outputs": [
    {
     "data": {
      "text/plain": [
       "LogisticRegression(C=5, class_weight=None, dual=False, fit_intercept=True,\n",
       "          intercept_scaling=1, max_iter=100, multi_class='warn',\n",
       "          n_jobs=None, penalty='l2', random_state=None, solver='liblinear',\n",
       "          tol=0.0001, verbose=0, warm_start=False)"
      ]
     },
     "execution_count": 16,
     "metadata": {},
     "output_type": "execute_result"
    }
   ],
   "source": [
    "ln_classifier.fit(vectorizer.transform(train['text']), train['Female'])"
   ]
  },
  {
   "cell_type": "code",
   "execution_count": 17,
   "metadata": {},
   "outputs": [],
   "source": [
    "from sklearn.metrics import classification_report, confusion_matrix, accuracy_score"
   ]
  },
  {
   "cell_type": "code",
   "execution_count": 19,
   "metadata": {},
   "outputs": [
    {
     "name": "stdout",
     "output_type": "stream",
     "text": [
      "1.0\n"
     ]
    }
   ],
   "source": [
    "print(accuracy_score(train['Female'],\n",
    "                     ln_classifier.predict(vectorizer.transform(train['text']))))"
   ]
  },
  {
   "cell_type": "code",
   "execution_count": 22,
   "metadata": {},
   "outputs": [
    {
     "name": "stdout",
     "output_type": "stream",
     "text": [
      "0.7619047619047619\n"
     ]
    }
   ],
   "source": [
    "print(accuracy_score(test['Female'],\n",
    "                     ln_classifier.predict(vectorizer.transform(test['text']))))"
   ]
  },
  {
   "cell_type": "code",
   "execution_count": 20,
   "metadata": {},
   "outputs": [],
   "source": [
    "import seaborn as sns"
   ]
  },
  {
   "cell_type": "code",
   "execution_count": 23,
   "metadata": {},
   "outputs": [
    {
     "data": {
      "text/plain": [
       "<matplotlib.axes._subplots.AxesSubplot at 0x20bcfd099e8>"
      ]
     },
     "execution_count": 23,
     "metadata": {},
     "output_type": "execute_result"
    },
    {
     "data": {
      "image/png": "[encoded data removed]",
      "text/plain": [
       "<Figure size 432x288 with 2 Axes>"
      ]
     },
     "metadata": {},
     "output_type": "display_data"
    }
   ],
   "source": [
    "test_prediction = ln_classifier.predict(vectorizer.transform(test['text']))\n",
    "\n",
    "cm = confusion_matrix(test['Female'], test_prediction)\n",
    "sns.heatmap(cm, annot=True, cmap=\"Greens\", fmt='g')"
   ]
  },
  {
   "cell_type": "code",
   "execution_count": 24,
   "metadata": {},
   "outputs": [
    {
     "name": "stdout",
     "output_type": "stream",
     "text": [
      "              precision    recall  f1-score   support\n",
      "\n",
      "           0       0.79      0.87      0.83        69\n",
      "           1       0.69      0.56      0.62        36\n",
      "\n",
      "   micro avg       0.76      0.76      0.76       105\n",
      "   macro avg       0.74      0.71      0.72       105\n",
      "weighted avg       0.76      0.76      0.75       105\n",
      "\n"
     ]
    }
   ],
   "source": [
    "print(classification_report(test['Female'], test_prediction))"
   ]
  },
  {
   "cell_type": "code",
   "execution_count": 25,
   "metadata": {},
   "outputs": [],
   "source": [
    "coeficients = pd.Series(ln_classifier.coef_[0],\n",
    "                        index = vectorizer.get_feature_names())"
   ]
  },
  {
   "cell_type": "code",
   "execution_count": 26,
   "metadata": {},
   "outputs": [
    {
     "data": {
      "text/plain": [
       "tri to      -0.271310\n",
       "guy         -0.269095\n",
       "real        -0.202268\n",
       "use         -0.201025\n",
       "leader      -0.195764\n",
       "cultur      -0.186115\n",
       "never       -0.185600\n",
       "stuff       -0.183193\n",
       "whether     -0.173244\n",
       "actual      -0.173235\n",
       "life        -0.170878\n",
       "possibl     -0.168490\n",
       "father      -0.159828\n",
       "environ     -0.156313\n",
       "you will    -0.147718\n",
       "grow        -0.146063\n",
       "have got    -0.144389\n",
       "no          -0.144020\n",
       "trust       -0.138866\n",
       "peopl can   -0.135383\n",
       "dtype: float64"
      ]
     },
     "execution_count": 26,
     "metadata": {},
     "output_type": "execute_result"
    }
   ],
   "source": [
    "coeficients.sort_values()[:20]"
   ]
  },
  {
   "cell_type": "code",
   "execution_count": 27,
   "metadata": {},
   "outputs": [
    {
     "data": {
      "text/plain": [
       "women        0.406101\n",
       "love         0.296603\n",
       "know what    0.251419\n",
       "she          0.251278\n",
       "wa veri      0.193543\n",
       "i had        0.191894\n",
       "like to      0.186362\n",
       "feel         0.185785\n",
       "train        0.185333\n",
       "famili       0.184652\n",
       "situat       0.179979\n",
       "i know       0.175647\n",
       "new          0.174507\n",
       "model        0.170350\n",
       "had to       0.169338\n",
       "they were    0.168841\n",
       "brand        0.168093\n",
       "both         0.166501\n",
       "i love       0.160143\n",
       "ceo          0.159914\n",
       "dtype: float64"
      ]
     },
     "execution_count": 27,
     "metadata": {},
     "output_type": "execute_result"
    }
   ],
   "source": [
    "coeficients.sort_values(ascending = False)[:20]"
   ]
  },
  {
   "cell_type": "code",
   "execution_count": 28,
   "metadata": {},
   "outputs": [],
   "source": [
    "import mglearn"
   ]
  },
  {
   "cell_type": "code",
   "execution_count": 29,
   "metadata": {},
   "outputs": [
    {
     "data": {
      "image/png": "[encoded data removed]",
      "text/plain": [
       "<Figure size 1080x360 with 1 Axes>"
      ]
     },
     "metadata": {},
     "output_type": "display_data"
    }
   ],
   "source": [
    "mglearn.tools.visualize_coefficients(ln_classifier.coef_[0], vectorizer.get_feature_names(), n_top_features=30)"
   ]
  },
  {
   "cell_type": "markdown",
   "metadata": {},
   "source": [
    "## Logistic Lasso"
   ]
  },
  {
   "cell_type": "code",
   "execution_count": 30,
   "metadata": {},
   "outputs": [],
   "source": [
    "logreg=LogisticRegressionCV(Cs=20,cv=5,penalty='l1',solver='liblinear',refit=True).fit(vectorizer.transform(train['text']), train['Female'])"
   ]
  },
  {
   "cell_type": "code",
   "execution_count": 31,
   "metadata": {},
   "outputs": [
    {
     "name": "stdout",
     "output_type": "stream",
     "text": [
      "1.0\n"
     ]
    }
   ],
   "source": [
    "print(accuracy_score(train['Female'],\n",
    "                     logreg.predict(vectorizer.transform(train['text']))))"
   ]
  },
  {
   "cell_type": "code",
   "execution_count": 32,
   "metadata": {},
   "outputs": [
    {
     "name": "stdout",
     "output_type": "stream",
     "text": [
      "0.7428571428571429\n"
     ]
    }
   ],
   "source": [
    "print(accuracy_score(test['Female'],\n",
    "                     logreg.predict(vectorizer.transform(test['text']))))"
   ]
  },
  {
   "cell_type": "code",
   "execution_count": 33,
   "metadata": {},
   "outputs": [
    {
     "data": {
      "text/plain": [
       "<matplotlib.axes._subplots.AxesSubplot at 0x20bccfba0f0>"
      ]
     },
     "execution_count": 33,
     "metadata": {},
     "output_type": "execute_result"
    },
    {
     "data": {
      "image/png": "[encoded data removed]",
      "text/plain": [
       "<Figure size 432x288 with 2 Axes>"
      ]
     },
     "metadata": {},
     "output_type": "display_data"
    }
   ],
   "source": [
    "test_prediction = logreg.predict(vectorizer.transform(test['text']))\n",
    "\n",
    "cm = confusion_matrix(test['Female'], test_prediction)\n",
    "sns.heatmap(cm, annot=True, cmap=\"Greens\", fmt='g')"
   ]
  },
  {
   "cell_type": "code",
   "execution_count": 34,
   "metadata": {},
   "outputs": [
    {
     "name": "stdout",
     "output_type": "stream",
     "text": [
      "              precision    recall  f1-score   support\n",
      "\n",
      "           0       0.80      0.81      0.81        69\n",
      "           1       0.63      0.61      0.62        36\n",
      "\n",
      "   micro avg       0.74      0.74      0.74       105\n",
      "   macro avg       0.71      0.71      0.71       105\n",
      "weighted avg       0.74      0.74      0.74       105\n",
      "\n"
     ]
    }
   ],
   "source": [
    "print(classification_report(test['Female'], test_prediction))"
   ]
  },
  {
   "cell_type": "code",
   "execution_count": 35,
   "metadata": {},
   "outputs": [],
   "source": [
    "coeficients = pd.Series(logreg.coef_[0],\n",
    "                        index = vectorizer.get_feature_names())"
   ]
  },
  {
   "cell_type": "code",
   "execution_count": 36,
   "metadata": {},
   "outputs": [
    {
     "data": {
      "text/plain": [
       "tri to do    -1.302987\n",
       "peopl can    -1.097728\n",
       "stage        -0.637973\n",
       "father       -0.531905\n",
       "possibl      -0.530004\n",
       "100          -0.497532\n",
       "the cultur   -0.443140\n",
       "environ      -0.433151\n",
       "want to do   -0.429693\n",
       "seen         -0.425943\n",
       "stuff        -0.414422\n",
       "you look     -0.413238\n",
       "guy          -0.403449\n",
       "busi is      -0.396973\n",
       "up and       -0.392408\n",
       "you will     -0.392207\n",
       "for what     -0.386570\n",
       "deal         -0.380423\n",
       "real         -0.363349\n",
       "spend        -0.361318\n",
       "dtype: float64"
      ]
     },
     "execution_count": 36,
     "metadata": {},
     "output_type": "execute_result"
    }
   ],
   "source": [
    "coeficients.sort_values()[:20]"
   ]
  },
  {
   "cell_type": "code",
   "execution_count": 37,
   "metadata": {},
   "outputs": [
    {
     "data": {
      "text/plain": [
       "alway been       0.940490\n",
       "wa veri          0.882146\n",
       "someon who       0.880301\n",
       "wa to            0.734201\n",
       "balanc           0.687193\n",
       "i know           0.652808\n",
       "women            0.633606\n",
       "know what        0.627863\n",
       "to ask           0.608894\n",
       "to my            0.601692\n",
       "both             0.550581\n",
       "i love           0.508911\n",
       "woman            0.495671\n",
       "ye               0.482165\n",
       "to put           0.466396\n",
       "realli import    0.455159\n",
       "they had         0.437459\n",
       "less             0.425445\n",
       "as well as       0.416062\n",
       "not alway        0.413690\n",
       "dtype: float64"
      ]
     },
     "execution_count": 37,
     "metadata": {},
     "output_type": "execute_result"
    }
   ],
   "source": [
    "coeficients.sort_values(ascending = False)[:20]"
   ]
  },
  {
   "cell_type": "code",
   "execution_count": 38,
   "metadata": {
    "scrolled": true
   },
   "outputs": [
    {
     "data": {
      "image/png": "[encoded data removed]",
      "text/plain": [
       "<Figure size 1080x360 with 1 Axes>"
      ]
     },
     "metadata": {},
     "output_type": "display_data"
    }
   ],
   "source": [
    "mglearn.tools.visualize_coefficients(logreg.coef_[0], vectorizer.get_feature_names(), n_top_features=30)"
   ]
  },
  {
   "cell_type": "markdown",
   "metadata": {},
   "source": [
    "## Logistic Ridge "
   ]
  },
  {
   "cell_type": "code",
   "execution_count": 39,
   "metadata": {},
   "outputs": [],
   "source": [
    "model_ridge=LogisticRegressionCV(Cs=20,cv=5,penalty='l2',solver='liblinear',refit=True).fit(vectorizer.transform(train['text']), train['Female'])"
   ]
  },
  {
   "cell_type": "code",
   "execution_count": 40,
   "metadata": {},
   "outputs": [
    {
     "name": "stdout",
     "output_type": "stream",
     "text": [
      "1.0\n"
     ]
    }
   ],
   "source": [
    "print(accuracy_score(train['Female'],\n",
    "                     model_ridge.predict(vectorizer.transform(train['text']))))"
   ]
  },
  {
   "cell_type": "code",
   "execution_count": 41,
   "metadata": {},
   "outputs": [
    {
     "name": "stdout",
     "output_type": "stream",
     "text": [
      "0.7904761904761904\n"
     ]
    }
   ],
   "source": [
    "print(accuracy_score(test['Female'],\n",
    "                     model_ridge.predict(vectorizer.transform(test['text']))))"
   ]
  },
  {
   "cell_type": "code",
   "execution_count": 42,
   "metadata": {},
   "outputs": [
    {
     "data": {
      "text/plain": [
       "<matplotlib.axes._subplots.AxesSubplot at 0x20bcd0dcef0>"
      ]
     },
     "execution_count": 42,
     "metadata": {},
     "output_type": "execute_result"
    },
    {
     "data": {
      "image/png": "[encoded data removed]",
      "text/plain": [
       "<Figure size 432x288 with 2 Axes>"
      ]
     },
     "metadata": {},
     "output_type": "display_data"
    }
   ],
   "source": [
    "test_prediction = model_ridge.predict(vectorizer.transform(test['text']))\n",
    "\n",
    "cm = confusion_matrix(test['Female'], test_prediction)\n",
    "sns.heatmap(cm, annot=True, cmap=\"Greens\", fmt='g')"
   ]
  },
  {
   "cell_type": "code",
   "execution_count": 43,
   "metadata": {},
   "outputs": [
    {
     "name": "stdout",
     "output_type": "stream",
     "text": [
      "              precision    recall  f1-score   support\n",
      "\n",
      "           0       0.81      0.88      0.85        69\n",
      "           1       0.73      0.61      0.67        36\n",
      "\n",
      "   micro avg       0.79      0.79      0.79       105\n",
      "   macro avg       0.77      0.75      0.76       105\n",
      "weighted avg       0.79      0.79      0.79       105\n",
      "\n"
     ]
    }
   ],
   "source": [
    "print(classification_report(test['Female'], test_prediction))"
   ]
  },
  {
   "cell_type": "code",
   "execution_count": 44,
   "metadata": {},
   "outputs": [],
   "source": [
    "coeficients_ridge = pd.Series(model_ridge.coef_[0],\n",
    "                        index = vectorizer.get_feature_names())"
   ]
  },
  {
   "cell_type": "code",
   "execution_count": 45,
   "metadata": {},
   "outputs": [
    {
     "data": {
      "text/plain": [
       "tri to     -0.072417\n",
       "guy        -0.063984\n",
       "use        -0.048491\n",
       "cultur     -0.045032\n",
       "have got   -0.044950\n",
       "real       -0.043355\n",
       "stuff      -0.042698\n",
       "never      -0.042289\n",
       "compani    -0.042086\n",
       "question   -0.040316\n",
       "life       -0.040009\n",
       "actual     -0.039378\n",
       "leader     -0.037655\n",
       "trust      -0.036937\n",
       "possibl    -0.035512\n",
       "you will   -0.035426\n",
       "whether    -0.034328\n",
       "three      -0.034181\n",
       "got to     -0.034091\n",
       "no         -0.033998\n",
       "dtype: float64"
      ]
     },
     "execution_count": 45,
     "metadata": {},
     "output_type": "execute_result"
    }
   ],
   "source": [
    "coeficients_ridge.sort_values()[:20]"
   ]
  },
  {
   "cell_type": "code",
   "execution_count": 46,
   "metadata": {},
   "outputs": [
    {
     "data": {
      "text/plain": [
       "women        0.118386\n",
       "love         0.070519\n",
       "she          0.065491\n",
       "feel         0.057030\n",
       "i had        0.053340\n",
       "know what    0.048798\n",
       "famili       0.046520\n",
       "like to      0.043434\n",
       "brand        0.042018\n",
       "woman        0.040246\n",
       "train        0.040155\n",
       "had to       0.039669\n",
       "model        0.038891\n",
       "wa veri      0.038645\n",
       "ceo          0.037289\n",
       "i love       0.036788\n",
       "i know       0.036784\n",
       "young        0.036776\n",
       "new          0.035925\n",
       "opportun     0.035773\n",
       "dtype: float64"
      ]
     },
     "execution_count": 46,
     "metadata": {},
     "output_type": "execute_result"
    }
   ],
   "source": [
    "coeficients_ridge.sort_values(ascending = False)[:20]"
   ]
  },
  {
   "cell_type": "code",
   "execution_count": 47,
   "metadata": {},
   "outputs": [
    {
     "data": {
      "image/png": "[encoded data removed]",
      "text/plain": [
       "<Figure size 1080x360 with 1 Axes>"
      ]
     },
     "metadata": {},
     "output_type": "display_data"
    }
   ],
   "source": [
    "mglearn.tools.visualize_coefficients(model_ridge.coef_[0], vectorizer.get_feature_names(), n_top_features=30)"
   ]
  },
  {
   "cell_type": "markdown",
   "metadata": {},
   "source": [
    "## Elastic Net"
   ]
  },
  {
   "cell_type": "code",
   "execution_count": 48,
   "metadata": {},
   "outputs": [],
   "source": [
    "import numpy as np\n",
    "from sklearn import linear_model"
   ]
  },
  {
   "cell_type": "code",
   "execution_count": 69,
   "metadata": {},
   "outputs": [],
   "source": [
    "net = linear_model.SGDClassifier(loss = 'log', penalty='elasticnet', max_iter=1000, tol=1e-3).fit(vectorizer.transform(train['text']), train['Female'])"
   ]
  },
  {
   "cell_type": "code",
   "execution_count": 70,
   "metadata": {},
   "outputs": [
    {
     "name": "stdout",
     "output_type": "stream",
     "text": [
      "1.0\n"
     ]
    }
   ],
   "source": [
    "print(accuracy_score(train['Female'],\n",
    "                     net.predict(vectorizer.transform(train['text']))))"
   ]
  },
  {
   "cell_type": "code",
   "execution_count": 71,
   "metadata": {},
   "outputs": [
    {
     "name": "stdout",
     "output_type": "stream",
     "text": [
      "0.7523809523809524\n"
     ]
    }
   ],
   "source": [
    "print(accuracy_score(test['Female'],\n",
    "                     net.predict(vectorizer.transform(test['text']))))"
   ]
  },
  {
   "cell_type": "code",
   "execution_count": 72,
   "metadata": {},
   "outputs": [
    {
     "data": {
      "text/plain": [
       "<matplotlib.axes._subplots.AxesSubplot at 0x20bcbf33898>"
      ]
     },
     "execution_count": 72,
     "metadata": {},
     "output_type": "execute_result"
    },
    {
     "data": {
      "image/png": "[encoded data removed]",
      "text/plain": [
       "<Figure size 432x288 with 2 Axes>"
      ]
     },
     "metadata": {},
     "output_type": "display_data"
    }
   ],
   "source": [
    "test_prediction = net.predict(vectorizer.transform(test['text']))\n",
    "\n",
    "cm = confusion_matrix(test['Female'], test_prediction)\n",
    "sns.heatmap(cm, annot=True, cmap=\"Greens\", fmt='g')"
   ]
  },
  {
   "cell_type": "code",
   "execution_count": 73,
   "metadata": {},
   "outputs": [
    {
     "name": "stdout",
     "output_type": "stream",
     "text": [
      "              precision    recall  f1-score   support\n",
      "\n",
      "           0       0.83      0.78      0.81        69\n",
      "           1       0.62      0.69      0.66        36\n",
      "\n",
      "   micro avg       0.75      0.75      0.75       105\n",
      "   macro avg       0.73      0.74      0.73       105\n",
      "weighted avg       0.76      0.75      0.76       105\n",
      "\n"
     ]
    }
   ],
   "source": [
    "print(classification_report(test['Female'], test_prediction))"
   ]
  },
  {
   "cell_type": "code",
   "execution_count": 74,
   "metadata": {},
   "outputs": [],
   "source": [
    "coeficients_net = pd.Series(net.coef_[0],\n",
    "                        index = vectorizer.get_feature_names())"
   ]
  },
  {
   "cell_type": "code",
   "execution_count": 75,
   "metadata": {},
   "outputs": [
    {
     "data": {
      "text/plain": [
       "tri to     -237.668351\n",
       "guy        -226.846604\n",
       "stuff      -193.311524\n",
       "and so     -186.163683\n",
       "place      -165.830159\n",
       "i want     -165.692665\n",
       "cultur     -152.546024\n",
       "life       -149.999862\n",
       "again      -147.933244\n",
       "build      -147.039992\n",
       "world      -144.841323\n",
       "game       -142.070553\n",
       "we were    -141.961815\n",
       "here       -141.691841\n",
       "grow       -141.251657\n",
       "have got   -140.448433\n",
       "manag      -138.355465\n",
       "that we    -135.908239\n",
       "no         -135.505966\n",
       "will be    -132.154640\n",
       "dtype: float64"
      ]
     },
     "execution_count": 75,
     "metadata": {},
     "output_type": "execute_result"
    }
   ],
   "source": [
    "coeficients_net.sort_values()[:20]"
   ]
  },
  {
   "cell_type": "code",
   "execution_count": 76,
   "metadata": {},
   "outputs": [
    {
     "data": {
      "text/plain": [
       "women         315.194716\n",
       "love          206.959009\n",
       "she           196.712615\n",
       "ye            189.347699\n",
       "oh            185.818486\n",
       "feel          183.994580\n",
       "woman         169.119307\n",
       "brand         162.610706\n",
       "they were     160.178242\n",
       "for me        157.226694\n",
       "like to       156.141330\n",
       "so it         153.677376\n",
       "wa veri       153.156690\n",
       "that wa       151.405552\n",
       "about what    148.430673\n",
       "data          141.525233\n",
       "i had         141.186828\n",
       "qualiti       140.043840\n",
       "togeth        139.796735\n",
       "so that       139.320893\n",
       "dtype: float64"
      ]
     },
     "execution_count": 76,
     "metadata": {},
     "output_type": "execute_result"
    }
   ],
   "source": [
    "coeficients_net.sort_values(ascending = False)[:20]"
   ]
  },
  {
   "cell_type": "code",
   "execution_count": 77,
   "metadata": {},
   "outputs": [
    {
     "data": {
      "image/png": "[encoded data removed]",
      "text/plain": [
       "<Figure size 1080x360 with 1 Axes>"
      ]
     },
     "metadata": {},
     "output_type": "display_data"
    }
   ],
   "source": [
    "mglearn.tools.visualize_coefficients(net.coef_[0], vectorizer.get_feature_names(), n_top_features=30)"
   ]
  },
  {
   "cell_type": "code",
   "execution_count": null,
   "metadata": {},
   "outputs": [],
   "source": []
  },
  {
   "cell_type": "markdown",
   "metadata": {},
   "source": [
    "## Random Forest"
   ]
  },
  {
   "cell_type": "code",
   "execution_count": 59,
   "metadata": {},
   "outputs": [],
   "source": [
    "from sklearn.metrics import accuracy_score"
   ]
  },
  {
   "cell_type": "code",
   "execution_count": 60,
   "metadata": {},
   "outputs": [],
   "source": [
    "from sklearn.ensemble import RandomForestClassifier"
   ]
  },
  {
   "cell_type": "code",
   "execution_count": 61,
   "metadata": {},
   "outputs": [
    {
     "name": "stderr",
     "output_type": "stream",
     "text": [
      "C:\\Users\\2918261\\AppData\\Local\\Continuum\\anaconda3\\lib\\site-packages\\sklearn\\ensemble\\forest.py:246: FutureWarning: The default value of n_estimators will change from 10 in version 0.20 to 100 in 0.22.\n",
      "  \"10 in version 0.20 to 100 in 0.22.\", FutureWarning)\n"
     ]
    }
   ],
   "source": [
    "forest = RandomForestClassifier().fit(vectorizer.transform(train['text']), train['Female'])"
   ]
  },
  {
   "cell_type": "code",
   "execution_count": 62,
   "metadata": {},
   "outputs": [
    {
     "name": "stdout",
     "output_type": "stream",
     "text": [
      "0.9760191846522782\n"
     ]
    }
   ],
   "source": [
    "print(accuracy_score(train['Female'],\n",
    "                     forest.predict(vectorizer.transform(train['text']))))"
   ]
  },
  {
   "cell_type": "code",
   "execution_count": 68,
   "metadata": {},
   "outputs": [
    {
     "name": "stdout",
     "output_type": "stream",
     "text": [
      "0.6571428571428571\n"
     ]
    }
   ],
   "source": [
    "print(accuracy_score(test['Female'],\n",
    "                     forest.predict(vectorizer.transform(test['text']))))"
   ]
  },
  {
   "cell_type": "code",
   "execution_count": 63,
   "metadata": {},
   "outputs": [
    {
     "data": {
      "text/plain": [
       "<matplotlib.axes._subplots.AxesSubplot at 0x20bcc104438>"
      ]
     },
     "execution_count": 63,
     "metadata": {},
     "output_type": "execute_result"
    },
    {
     "data": {
      "image/png": "[encoded data removed]",
      "text/plain": [
       "<Figure size 432x288 with 2 Axes>"
      ]
     },
     "metadata": {},
     "output_type": "display_data"
    }
   ],
   "source": [
    "test_prediction = forest.predict(vectorizer.transform(test['text']))\n",
    "\n",
    "cm = confusion_matrix(test['Female'], test_prediction)\n",
    "sns.heatmap(cm, annot=True, cmap=\"Greens\", fmt='g')"
   ]
  },
  {
   "cell_type": "code",
   "execution_count": 64,
   "metadata": {},
   "outputs": [
    {
     "name": "stdout",
     "output_type": "stream",
     "text": [
      "              precision    recall  f1-score   support\n",
      "\n",
      "           0       0.68      0.91      0.78        69\n",
      "           1       0.50      0.17      0.25        36\n",
      "\n",
      "   micro avg       0.66      0.66      0.66       105\n",
      "   macro avg       0.59      0.54      0.51       105\n",
      "weighted avg       0.62      0.66      0.60       105\n",
      "\n"
     ]
    }
   ],
   "source": [
    "print(classification_report(test['Female'], test_prediction))"
   ]
  },
  {
   "cell_type": "code",
   "execution_count": 65,
   "metadata": {},
   "outputs": [],
   "source": [
    "coeficients_forest = pd.Series(forest.feature_importances_[0],\n",
    "                        index = vectorizer.get_feature_names())"
   ]
  },
  {
   "cell_type": "code",
   "execution_count": 66,
   "metadata": {},
   "outputs": [
    {
     "data": {
      "text/plain": [
       "1             0.0\n",
       "seven         0.0\n",
       "sever         0.0\n",
       "share         0.0\n",
       "she           0.0\n",
       "she is        0.0\n",
       "she wa        0.0\n",
       "shift         0.0\n",
       "short         0.0\n",
       "should        0.0\n",
       "should be     0.0\n",
       "should not    0.0\n",
       "show          0.0\n",
       "side          0.0\n",
       "side of       0.0\n",
       "sign          0.0\n",
       "set of        0.0\n",
       "set           0.0\n",
       "servic        0.0\n",
       "serv          0.0\n",
       "dtype: float64"
      ]
     },
     "execution_count": 66,
     "metadata": {},
     "output_type": "execute_result"
    }
   ],
   "source": [
    "coeficients_forest.sort_values()[:20]"
   ]
  },
  {
   "cell_type": "code",
   "execution_count": 67,
   "metadata": {},
   "outputs": [
    {
     "data": {
      "text/plain": [
       "1          0.0\n",
       "10         0.0\n",
       "10 year    0.0\n",
       "100        0.0\n",
       "12         0.0\n",
       "dtype: float64"
      ]
     },
     "execution_count": 67,
     "metadata": {},
     "output_type": "execute_result"
    }
   ],
   "source": [
    "coeficients_forest.head()"
   ]
  },
  {
   "cell_type": "code",
   "execution_count": null,
   "metadata": {},
   "outputs": [],
   "source": []
  }
 ],
 "metadata": {
  "kernelspec": {
   "display_name": "Python 3",
   "language": "python",
   "name": "python3"
  },
  "language_info": {
   "codemirror_mode": {
    "name": "ipython",
    "version": 3
   },
   "file_extension": ".py",
   "mimetype": "text/x-python",
   "name": "python",
   "nbconvert_exporter": "python",
   "pygments_lexer": "ipython3",
   "version": "3.6.5"
  }
 },
 "nbformat": 4,
 "nbformat_minor": 2
}
