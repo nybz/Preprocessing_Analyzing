{
 "cells": [
  {
   "cell_type": "code",
   "execution_count": 1,
   "metadata": {},
   "outputs": [
    {
     "name": "stderr",
     "output_type": "stream",
     "text": [
      "C:\\Users\\2918261\\AppData\\Local\\Continuum\\anaconda3\\lib\\importlib\\_bootstrap.py:219: RuntimeWarning: cymem.cymem.Pool size changed, may indicate binary incompatibility. Expected 48 from C header, got 64 from PyObject\n",
      "  return f(*args, **kwds)\n",
      "C:\\Users\\2918261\\AppData\\Local\\Continuum\\anaconda3\\lib\\importlib\\_bootstrap.py:219: RuntimeWarning: cymem.cymem.Address size changed, may indicate binary incompatibility. Expected 24 from C header, got 40 from PyObject\n",
      "  return f(*args, **kwds)\n"
     ]
    }
   ],
   "source": [
    "%matplotlib inline \n",
    "import pandas as pd\n",
    "import re, nltk, spacy, gensim\n",
    "from pprint import pprint"
   ]
  },
  {
   "cell_type": "code",
   "execution_count": 2,
   "metadata": {},
   "outputs": [
    {
     "data": {
      "text/plain": [
       "'C:\\\\Users\\\\2918261\\\\Courses\\\\Oslo Summer School\\\\notebooks\\\\Interviews\\\\Text'"
      ]
     },
     "execution_count": 2,
     "metadata": {},
     "output_type": "execute_result"
    }
   ],
   "source": [
    "import os\n",
    "os.chdir('C://Users//2918261//Courses//Oslo Summer School//notebooks//Interviews//Text')\n",
    "os.getcwd()"
   ]
  },
  {
   "cell_type": "code",
   "execution_count": 3,
   "metadata": {},
   "outputs": [],
   "source": [
    "pd.set_option('display.max_colwidth', 120)"
   ]
  },
  {
   "cell_type": "code",
   "execution_count": 4,
   "metadata": {},
   "outputs": [],
   "source": [
    "table = pd.read_json('C://Users//2918261//Dropbox//Corner Office Interviews//ComparisonCorpusText//Json Tables for ML//interviews_full.json')"
   ]
  },
  {
   "cell_type": "code",
   "execution_count": 5,
   "metadata": {},
   "outputs": [],
   "source": [
    "data = table.text.values.tolist()"
   ]
  },
  {
   "cell_type": "code",
   "execution_count": 6,
   "metadata": {},
   "outputs": [],
   "source": [
    "data = [re.sub(\"\\'\", \"\", sent) for sent in data]"
   ]
  },
  {
   "cell_type": "code",
   "execution_count": 7,
   "metadata": {},
   "outputs": [
    {
     "name": "stdout",
     "output_type": "stream",
     "text": [
      "['Very well. Thanks for having me.\\n'\n",
      " 'Yeah. So a little bit about adroll. First of all we were founded in 2007 uh '\n",
      " 'with a mission to bring advertising to brands of all sizes back when we '\n",
      " 'started. Uh the advertising world was very different. Um the advertisements '\n",
      " 'you saw online work so different than the ones you saw offline you know a '\n",
      " 'typical campaign would be nike running a sponsorship on the front page and '\n",
      " 'there was not much space for all the emerging brands out there. Uh and so we '\n",
      " 'set out to change that. And fast forward to today were now the most widely '\n",
      " 'adopted um marketing tech platform out there for brands of all sizes. And we '\n",
      " 'have two business units one focused on consumer called adroll and then a '\n",
      " 'sister brand called inaudible which is focused on B to b advertisers. Uh we '\n",
      " 'started the company in 2007. Um my background before adderall was almost all '\n",
      " 'engineering.\\n'\n",
      " 'Um so I come from a very uh I love to build things. And when I began as CEO '\n",
      " 'here uh I can admit I was pretty far out of my comfort zone. And um I I had '\n",
      " 'to think of ways to adapt my background you know building code writing '\n",
      " 'programs and software into like how do you build a great organization where '\n",
      " 'people thrive. And I and I very quickly came to believe that the people are '\n",
      " 'everything. If you get the people right you can just get everything else '\n",
      " 'wrong and still be okay. And so it all it all started there.\\n'\n",
      " 'Yeah sure. Uh we have uh we have about 500 employees at the company were a '\n",
      " 'number of global offices uh in the United States where San Francisco Utah '\n",
      " 'New York Chicago and internationally we have a hub in Dublin office in '\n",
      " 'London and then Sydney and Tokyo. Um and uh we are uh continuing to grow '\n",
      " 'very fast as a company um about about third of the company is focused on '\n",
      " 'engineering and resources. So we have had to deal with a lot of. I remember '\n",
      " 'back in 2012 when we went from one office to a bunch of offices and that was '\n",
      " 'sort of a pivotal moment for us and you know as we expanded different in the '\n",
      " 'different offices different places how do we make sure that things. So this '\n",
      " 'is the culture does not go sideways. I felt like the biggest risk at that '\n",
      " 'point because we were such a connected company. How do we make sure we do '\n",
      " 'not start going into an immediate direction\\n'\n",
      " 'Well I think they are kind of restorative connected in some ways. I am like '\n",
      " 'I said you got to start with your employees. Everything is derived from your '\n",
      " 'employees. If your employees are not clued in to the right values. We have a '\n",
      " 'value around do right by the customer and the community actually which is '\n",
      " 'customers employees unless you have a way of setting a setting the direction '\n",
      " 'setting values for your employees they will never really know naturally that '\n",
      " 'at our company we prioritize spending time with with the customers. So it '\n",
      " 'all it all stems from the culture you set.\\n'\n",
      " 'Yes.\\n'\n",
      " 'that completely resonates with me.\\n'\n",
      " 'Sure. I think yeah there is that hundred number where the thing is 150. '\n",
      " 'there is only 150 people that you can really know intimately and know their '\n",
      " 'names and once you get past that number things really changed. We had that '\n",
      " 'some sort of crisis is when we moved from one floor to two floors or open up '\n",
      " 'international offices here. And uh and I there is an onion headline I love '\n",
      " 'which says a boss wants friendly relaxed uh office by Friday. So its like '\n",
      " 'its a culture is not something you can a mandate from the top. Its hard for '\n",
      " 'a ceo to go and say like heres the culture that were going to have and bring '\n",
      " 'tablets. You really need to um as a leader culture follows the leader. So '\n",
      " 'you need to set the example. I feel that is the only kind of like half of '\n",
      " 'it. Uh you really need to figure out ways to like involve all your um '\n",
      " 'employees and get them to kind of live those ways too.\\n'\n",
      " 'One thing that we did it was not really a to deliberate but it ended up '\n",
      " 'being really important is we came up with six spirit animals for the adroll '\n",
      " 'values actually wearing my uh one of them today which is a jellyfish which '\n",
      " 'stands for transparency. And um for whatever reason that really brought the '\n",
      " 'company values to life and uh you know instead of having an employee '\n",
      " 'handbook with your values that you kind of give the new employees and it '\n",
      " 'kind of gathers dust on it. You have these different mascots or icons and '\n",
      " 'there is probably a million ways of doing this where you are able to evoke '\n",
      " 'those different um those different mascots in different decisions you make '\n",
      " 'or projects or even teams or working groups and people and people have '\n",
      " 'really enjoyed that part of the company. So and were actually when we have '\n",
      " 'done surveys I really large percentage of the company actually understands '\n",
      " 'the values and says we live by them. So I feel like that was really '\n",
      " 'important. Codifying the values in a way that was like really useful to the '\n",
      " 'company\\n'\n",
      " 'Some of US brainstorming I happen to come from Seattle that is where I grew '\n",
      " 'up in. My parents live in a wall and there is a native American totem pole '\n",
      " 'nearby. Um so I think some of it was actually inspired by kind of my '\n",
      " 'childhood where you could have these different mascots represent or you know '\n",
      " 'different animals represent different ideas. Uh that I thought was pretty '\n",
      " 'interesting. And uh yeah. And then and then it was just we had we painted a '\n",
      " 'mural that was at the front door of our office with the different icons on '\n",
      " 'them.\\n'\n",
      " 'I would say were radically transparent. There are silicon valley at episode. '\n",
      " 'They were making fun of radical candor but we try to be radically '\n",
      " 'transparent which is good. I am actually its kind of fun. there is like all '\n",
      " 'these values are sort of linked together. Our first value is hire great '\n",
      " 'people and help them grow a hiring great people is not a unique thing in our '\n",
      " 'industry but to help them grow as our first value is important and actually '\n",
      " 'think I think helping people grow helping each other grow is really tied to '\n",
      " 'transparency. I am like if you have a manager who goes to an employee and '\n",
      " 'its just like ran radically direct with them all the time uh you know its '\n",
      " 'hard. That can be a challenging relationship come off as abusive. But if '\n",
      " 'those two people are working in a company where they know how important '\n",
      " 'personal growth is um its much more likely for that employee to see that '\n",
      " 'transparency that feed as coaching that my managers really in my corner my '\n",
      " 'companys really my corner to try and get me \\n'\n",
      " 'from a to B and I and I its its good.\\n'\n",
      " 'Its good feedback for me. Um yeah. And then we try to do radical. He tried '\n",
      " 'to do a lot with the other direction too. So actually if you do not mind me '\n",
      " 'talking about this a little bit more we use technology a lot in uh in '\n",
      " 'transparency. Um every Friday we have an all hands and we encourage people '\n",
      " 'to post questions on a q and a board uh which allows anonymous questions. We '\n",
      " 'encourage people to post fears uncertainties and doubts and we have a view. '\n",
      " 'Its much better to confront peoples ideas and talk about them in the open '\n",
      " 'rather than let them fester behind the scenes or at the bar after work. And '\n",
      " 'I could actually plug we recently uh some some um um employees who are at ad '\n",
      " 'roll uh have built a product called Jellyfish which is a slack extension '\n",
      " 'which allows anybody in slack to run a I am an interview or not interview '\n",
      " 'like a I am a type of reddit style q and a with someone which you can do '\n",
      " 'before a meeting or before an all hands and let us people ask questions and '\n",
      " 'slack and put them up and down in preparation for a meeting or an all '\n",
      " 'hands.\\n'\n",
      " 'Uh yeah. So um we in silicon valley there is this this competition for '\n",
      " 'talent. Um you know the the Dotcom days or the early two thousands. It was '\n",
      " 'all about perks. Like how much free food free lunches pool tables those '\n",
      " 'sorts of things. And we have sort of decided early on Id rather spend a '\n"
     ]
    },
    {
     "name": "stdout",
     "output_type": "stream",
     "text": [
      " 'dollar on trading and investing in somebody and uh rather than on some sort '\n",
      " 'of perk um that is kind of more temporary. Uh so we we we tried to put our '\n",
      " 'money there and at ad roll we teach thousands of classes per year. We have '\n",
      " 'employees teach classes maybe on like how to use tablo or you know how to '\n",
      " 'use something in our dough how to understand. Saying in our domain we bring '\n",
      " 'in a lot of external teachers too. I am on almost like virtual mba type '\n",
      " 'stuff. Uh we also have you know the whole the whole whole body type of stuff '\n",
      " 'where we have a we have had teachers come in and teach zoomba classes or '\n",
      " 'other sorts of health related. I am pretty frequently so there is over 3000 '\n",
      " 'classes taught a year here for a 500 person company.\\n'\n",
      " 'Yeah. I think that there is three pillars around culture there is community '\n",
      " 'which is how do people interact how do they get along how inclusive is your '\n",
      " 'environment how comfortable people asking questions uh you know the people '\n",
      " 'will actually enjoy coming to work. They want to spend time together are '\n",
      " 'they going to recommend their friends to come there Um and I think adderall '\n",
      " 'is done really well in that category and as as we grow as a company uh the '\n",
      " 'areas where were needing to grow the most are around performance. Um which '\n",
      " 'is which is you have a performance culture. Do you have a way of setting '\n",
      " 'goals Is your leadership telling me what mountain you are going to Climb Um '\n",
      " 'oftentimes people have defined culture is like who gets promoted who gets '\n",
      " 'hired who gets fired they are so visible and that really shows like what '\n",
      " 'success looks like. Your company.\\n'\n",
      " 'And I kind of defined that performance culture. And the last thing is like '\n",
      " 'governance culture. And I feel like this is an area that really has not been '\n",
      " 'not a lot as a mid stage leader at a company. Its hard to find information '\n",
      " 'about good governance at our at our size and stage because you are at this '\n",
      " 'awkward place between having you know just being a bunch of people in one '\n",
      " 'office or like in the back you know in a in a garage somewhere versus being '\n",
      " 'like a corporate company like if you want to make a change the front page of '\n",
      " 'the website but different texts on there are different. Like who makes that '\n",
      " 'decision does the CEO have a sign off on it Is the product people marketing '\n",
      " 'like what are the chains there And I find almost every mid stage company its '\n",
      " 'really loosely defined. And so how do you how do you deal with that And uh '\n",
      " 'you know how do you deal with deal with communication outside of the '\n",
      " 'reporting structure So that is all about governance. How do you make '\n",
      " 'decisions and does everybody speak the same language around decisions at '\n",
      " 'your company\\n'\n",
      " 'Yeah. So you definitely want uh you know the the the CEO or leadership '\n",
      " 'really has three responsibilities. Um you know number one is they got to set '\n",
      " 'up paints a bold vision of the future of the company. So everybody the '\n",
      " 'company really imagined it all fitting on one sheet of paper. Everybody at '\n",
      " 'the company should be able to recite that and make sure they are aligned '\n",
      " 'with that. The top level. And then the CEO is also responsible for making '\n",
      " 'sure there is money in the bank and setting the cultural tone I think. Um '\n",
      " 'and from there I think its good to have some sort of rhythm uh maybe not '\n",
      " 'when you are just a really small upstart but kind of getting towards the mid '\n",
      " 'stages where like a quarterly system even though you are not public where '\n",
      " 'there is goal setting and accountability around those goal settings and '\n",
      " 'trying to be as as data driven in that goal setting as possible.\\n'\n",
      " 'Um for an early stage company I I run product today at ad roll. I think its '\n",
      " 'important that the goals are very much set on outcomes. Like what metrics do '\n",
      " 'you want to drive versus outputs and outputs. Like for example we need to '\n",
      " 'ship product x on date. Why Uh its really hard is going back to the customer '\n",
      " 'centricity. Its hard to really predict exactly what your customers are going '\n",
      " 'to want six months from now as you kind of go on your journey. So we try to '\n",
      " 'focus more on the metrics then the actual roadmap items but having some sort '\n",
      " 'of rhythm on a quarterly basis that kind of fits into like big thematic big '\n",
      " 'thematic uh initiatives for the year is how we have always done it.\\n'\n",
      " 'Yeah. One thing and its its its there is always this question of do you tie '\n",
      " 'peoples compensation to performance And I would say no I try to keep them '\n",
      " 'separate. Um the performance like the goals you set I mean let me take that '\n",
      " 'back. Compensation should be tied to performance of course but when you are '\n",
      " 'setting goals at a company those are really supposed to be more of a stretch '\n",
      " 'based goals. Thinking big making sure you are not thinking too small and you '\n",
      " 'know coming up with like a target it would be good if you know you reach 60 '\n",
      " 'to 70 percent of your goals uh and making that part of the conversation when '\n",
      " 'you do reviews um but making sure people are are are setting goals a '\n",
      " 'quarterly and its also important. Make sure those quarterly goals are not '\n",
      " 'just focused on that one a quarter that you are actually like those '\n",
      " 'quarterly goals fit into longer like 12 month themes or else you could have '\n",
      " 'people just try and make their numbers look right for that one quarter.\\n'\n",
      " 'Um from a from a lot of different things that we from a product perspective '\n",
      " 'we really try to focus on doing a lot of customer discovery and that is '\n",
      " 'things like having were were interesting because its its not an adderall is '\n",
      " 'not a consumer product meaning its a it can be a little more challenging to '\n",
      " 'find potential customers. And so we have customer advisory boards that we '\n",
      " 'have built out which are great. Sometimes your customer advisory boards can '\n",
      " 'have a lot of early adopters on it which maybe not might. they are great '\n",
      " 'because they like to try new things out and they are open to talk to you but '\n",
      " 'they might not. They might not represent who your ultimate longterm customer '\n",
      " 'is. One thing that we have done in the last year is we have a sales team '\n",
      " 'here and we use a program called chorus to record sales calls and we get the '\n",
      " 'whole product team in a room and we play for them just a just almost like a '\n",
      " 'random a sales call that happened and uh its a way to hear the customer '\n",
      " 'responding in kind of like a um in a in an example situation about our '\n",
      " 'product and almost like a bunch of art students.\\n'\n",
      " 'We kind of critique critique what happened on the call what was said and try '\n",
      " 'to get a view into the customer without actually even having a one on one '\n",
      " 'conversation with the customer which we found to be pretty interesting. Its '\n",
      " 'spurring a lot of really good conversations\\n'\n",
      " 'Yeah. Failure is part of the eel. You cannot learn anything if you are not '\n",
      " 'failing at things if you are not taking it. If you are not a if you do not '\n",
      " 'have products failing if you do not have different issues feeling it means '\n",
      " 'you are probably not taking too many risks. Uh like Peter Teal said if you '\n",
      " 'are not if you are not uncomfortable and you are probably not doing it right '\n",
      " 'so it goes back to it goes back to the values again hire great people and '\n",
      " 'help them grow.\\n'\n",
      " 'Um there is a book we like a lot um called mindset which is a pretty popular '\n",
      " 'book in education circles but it cross applies into into business quite a '\n",
      " 'quite a bit. Um and and talks about how you set the conditions for helping '\n",
      " 'people uh you know make mistakes. Um and uh one thing we have taken on '\n",
      " 'recently is we do a fair bit of retrospectives so you do not make it. So '\n",
      " 'retrospective is like this you have a big project and it failed. Instead of '\n",
      " 'just kind of shelving and moving on its good to break break it down and '\n",
      " 'really understand what happened. The problem is when you are at a company of '\n",
      " 'our stage everybodys so busy you do not want to take like formalize it too '\n",
      " 'much. So at least creating some time and space and having some structure for '\n"
     ]
    },
    {
     "name": "stdout",
     "output_type": "stream",
     "text": [
      " 'looking back on things and making sure that you are actually taking the time '\n",
      " 'to learn from your failures. And I think by people understanding the value '\n",
      " 'in that process then they are more likely to understand its okay to make '\n",
      " 'mistakes.\\n'\n",
      " 'Um that is a good question actually. Uh one thing that you would have asked '\n",
      " 'me about culture would be um well one thing I think its kind of there are '\n",
      " 'two things I can relate to that I am. The first one is how do you measure '\n",
      " 'culture which I think is really important. Um its sorta like how can it goes '\n",
      " 'back to this idea I have where there is this. I think a myth out there were '\n",
      " 'as a company gets bigger the culture gets worse it gets more bureaucratic '\n",
      " 'against more stuffy things get slower there are diseconomies of scale. And I '\n",
      " 'am hell-bent on destroying that myth. So actually as a company gets bigger '\n",
      " 'how do you make sure that the company improves and I think I think '\n",
      " 'measurements will be part of that. So we use software called culture amp and '\n",
      " 'we have a lot of companies do this actually once a year we have a big '\n",
      " 'employee survey and asked a bunch of questions about everything like how we '\n",
      " 'ran the company in three years.\\n'\n",
      " 'When you think about your salary uh do we have a diverse and inclusive '\n",
      " 'environment People answer those questions and it allows us to. We basically '\n",
      " 'really encouraged the whole company to answer it. And then you get these '\n",
      " 'results back and you are able to see across different departments and '\n",
      " 'different geographies where the hotspots are and where were adroll is a '\n",
      " 'little different. Where we do really well is we really focus on addressing '\n",
      " 'those hotspots. So we immediately launched different programs every year to '\n",
      " 'help us bring improve those areas and improve the culture. And so being able '\n",
      " 'to really diagnostic about your culture and open about it can be really '\n",
      " 'helpful with tools. And then the other thing I said is the question I would '\n",
      " 'have the million dollar question is do you think culture is can get better '\n",
      " 'as a company grows in size and I think I think were in early days of a but I '\n",
      " 'think there are a lot of economies of scale to actually improve a culture '\n",
      " 'and have all kinds of different types of people at a company I am working '\n",
      " 'together to create a great environment.\\n'\n",
      " 'Thanks for having me. Take care.\\n'\n",
      " ' I grew up near Seattle in Bellevue and I was a precocious nerdy kid drawn '\n",
      " 'to computers at an early age. I started playing around with programs and '\n",
      " 'creating my own games. Eventually my neighbor took notice of me. He had a '\n",
      " 'software company and they developed Christmas software with screen savers '\n",
      " 'and games.\\n'\n",
      " 'So I was a Jewish boy creating a Santas workshop and games where you fly '\n",
      " 'reindeer around. I loved it. My dad would pick me up after middle school and '\n",
      " 'drive me to work in Redmond nearby.\\n'\n",
      " 'In a bit of serendipity Microsoft was two blocks down the street. And they '\n",
      " 'were hungry for engineers gobbling up talent whenever they could find it. '\n",
      " 'They started pulling people from my neighbors company to work for Microsoft. '\n",
      " 'And as more people left I took on more responsibility at this software '\n",
      " 'company. Pretty soon I was leading the Christmas software project. I was 14 '\n",
      " 'years old.\\n'\n",
      " 'As the people I worked with went to Microsoft they then told the company '\n",
      " 'about me and suddenly I was interviewing at Microsoft when I was 16. They '\n",
      " 'asked programming questions but they also asked interview questions like How '\n",
      " 'do you know the light goes off in the refrigerator when you close the door\\n'\n",
      " 'I had a baby sister so I said I would put my baby sister in the refrigerator '\n",
      " 'and then pull her out and check the dilation of her eyes. They said that is '\n",
      " 'morbid but its pretty clever and they hired me.\\n'\n",
      " 'I spent about six years at Microsoft. I was able to work it out with my high '\n",
      " 'school where classes would end at noon for me and then Id go to Microsoft '\n",
      " 'and try to stay within the labor laws for hours worked. During the summers I '\n",
      " 'would transition to intern and take advantage of those programs.\\n'\n",
      " 'I did manage to spend some time with Bill Gates. Every summer he would have '\n",
      " 'a barbecue for the interns. After being there for so many summers I figured '\n",
      " 'out the pattern. He would come out of his house and go right to the dinner '\n",
      " 'line. So I would wait by the door and when he came out Id get in the dinner '\n",
      " 'line with him. That way Id get to sit next to him too.\\n'\n",
      " 'I have this overall philosophy that a company is like a human body which '\n",
      " 'builds up toxins over time. Every company has problems and issues that build '\n",
      " 'up and you need to find outlets for those things.\\n'\n",
      " 'I think a lot about how you come up with different practices in the company '\n",
      " 'that are a kind of cleanse. So we do a weekly all-hands meeting and its a '\n",
      " 'weekly flush to get the toxins out.\\n'\n",
      " 'Before our all-hands meetings I send out an email with a question-and-answer '\n",
      " 'board and I encourage people to post their questions. You can vote up your '\n",
      " 'favorite questions and they are anonymous.\\n'\n",
      " 'If you give someone a mask they will tell you the truth. I also encourage '\n",
      " 'people to post their fears their uncertainties and doubts. And there is a '\n",
      " 'guarantee that any question that is asked will get answered or addressed by '\n",
      " 'me unless they are personal in nature about someone in particular.\\n'\n",
      " 'The alternative if you do not do that is that you have people behind closed '\n",
      " 'doors chatting about the company gossiping saying negative things.\\n'\n",
      " 'If you address everything people feel much more trust. They feel like they '\n",
      " 'know what is happening. And they are going to make better decisions because '\n",
      " 'they know what is going on.\\n'\n",
      " 'After you have been at AdRoll for six months you have to write a letter to '\n",
      " 'yourself as a new employee about what you wish you had known and had been '\n",
      " 'taught. Then we compile those and new hires get a 100-page book of these '\n",
      " 'letters. It encourages people to really help each other out.\\n'\n",
      " 'there is no silver bullet question but I usually advise my employees to ask '\n",
      " 'themselves about the person they are interviewing What is the No. 1 thing '\n",
      " 'you are worried about When you leave the interview what are you going to be '\n",
      " 'thinking about or wondering about\\n'\n",
      " 'Then I tell them to spend all their time drilling into that one area. Keep '\n",
      " 'asking questions. Its O.K. to prod during interviews.\\n'\n",
      " 'I also like to look at transitions between jobs because that is a time when '\n",
      " 'someone kind of popped their head up and said This is not working for me. '\n",
      " 'Either they got fired or it was mutually not working or there is some other '\n",
      " 'explanation but I will try to get the real story of what happened.\\n'\n",
      " 'For a company at our stage of growth Id also say its really important to '\n",
      " 'find people who are interested in building something great rather than '\n",
      " 'people who are interested in joining something great. So having people who '\n",
      " 'care is a big thing.\\n'\n",
      " 'In those transitions on their rsum you can understand a lot of things. If '\n",
      " 'they talk about problems at a previous company then the question is Were you '\n",
      " 'part of the solution or are you just complaining about it\\n'\n",
      " 'I definitely suggest people work for early stage or midstage companies '\n",
      " 'because you are going to learn a lot more. I try to steer them away from '\n",
      " 'larger companies. The company is going through more change at smaller '\n",
      " 'companies and you tend to be in a deeper end of the pool where things are '\n",
      " 'going to get done. So its just more of an extension of college. there is '\n",
      " 'accelerated learning in that period.\\n']\n"
     ]
    }
   ],
   "source": [
    "pprint(data[:1])"
   ]
  },
  {
   "cell_type": "markdown",
   "metadata": {},
   "source": [
    "## tokenizing and cleaning up with gensim "
   ]
  },
  {
   "cell_type": "code",
   "execution_count": 8,
   "metadata": {},
   "outputs": [
    {
     "name": "stdout",
     "output_type": "stream",
     "text": [
      "[['very', 'well', 'thanks', 'for', 'having', 'me', 'yeah', 'so', 'little', 'bit', 'about', 'adroll', 'first', 'of', 'all', 'we', 'were', 'founded', 'in', 'uh', 'with', 'mission', 'to', 'bring', 'advertising', 'to', 'brands', 'of', 'all', 'sizes', 'back', 'when', 'we', 'started', 'uh', 'the', 'advertising', 'world', 'was', 'very', 'different', 'um', 'the', 'advertisements', 'you', 'saw', 'online', 'work', 'so', 'different', 'than', 'the', 'ones', 'you', 'saw', 'offline', 'you', 'know', 'typical', 'campaign', 'would', 'be', 'nike', 'running', 'sponsorship', 'on', 'the', 'front', 'page', 'and', 'there', 'was', 'not', 'much', 'space', 'for', 'all', 'the', 'emerging', 'brands', 'out', 'there', 'uh', 'and', 'so', 'we', 'set', 'out', 'to', 'change', 'that', 'and', 'fast', 'forward', 'to', 'today', 'were', 'now', 'the', 'most', 'widely', 'adopted', 'um', 'marketing', 'tech', 'platform', 'out', 'there', 'for', 'brands', 'of', 'all', 'sizes', 'and', 'we', 'have', 'two', 'business', 'units', 'one', 'focused', 'on', 'consumer', 'called', 'adroll', 'and', 'then', 'sister', 'brand', 'called', 'inaudible', 'which', 'is', 'focused', 'on', 'to', 'advertisers', 'uh', 'we', 'started', 'the', 'company', 'in', 'um', 'my', 'background', 'before', 'adderall', 'was', 'almost', 'all', 'engineering', 'um', 'so', 'come', 'from', 'very', 'uh', 'love', 'to', 'build', 'things', 'and', 'when', 'began', 'as', 'ceo', 'here', 'uh', 'can', 'admit', 'was', 'pretty', 'far', 'out', 'of', 'my', 'comfort', 'zone', 'and', 'um', 'had', 'to', 'think', 'of', 'ways', 'to', 'adapt', 'my', 'background', 'you', 'know', 'building', 'code', 'writing', 'programs', 'and', 'software', 'into', 'like', 'how', 'do', 'you', 'build', 'great', 'organization', 'where', 'people', 'thrive', 'and', 'and', 'very', 'quickly', 'came', 'to', 'believe', 'that', 'the', 'people', 'are', 'everything', 'if', 'you', 'get', 'the', 'people', 'right', 'you', 'can', 'just', 'get', 'everything', 'else', 'wrong', 'and', 'still', 'be', 'okay', 'and', 'so', 'it', 'all', 'it', 'all', 'started', 'there', 'yeah', 'sure', 'uh', 'we', 'have', 'uh', 'we', 'have', 'about', 'employees', 'at', 'the', 'company', 'were', 'number', 'of', 'global', 'offices', 'uh', 'in', 'the', 'united', 'states', 'where', 'san', 'francisco', 'utah', 'new', 'york', 'chicago', 'and', 'internationally', 'we', 'have', 'hub', 'in', 'dublin', 'office', 'in', 'london', 'and', 'then', 'sydney', 'and', 'tokyo', 'um', 'and', 'uh', 'we', 'are', 'uh', 'continuing', 'to', 'grow', 'very', 'fast', 'as', 'company', 'um', 'about', 'about', 'third', 'of', 'the', 'company', 'is', 'focused', 'on', 'engineering', 'and', 'resources', 'so', 'we', 'have', 'had', 'to', 'deal', 'with', 'lot', 'of', 'remember', 'back', 'in', 'when', 'we', 'went', 'from', 'one', 'office', 'to', 'bunch', 'of', 'offices', 'and', 'that', 'was', 'sort', 'of', 'pivotal', 'moment', 'for', 'us', 'and', 'you', 'know', 'as', 'we', 'expanded', 'different', 'in', 'the', 'different', 'offices', 'different', 'places', 'how', 'do', 'we', 'make', 'sure', 'that', 'things', 'so', 'this', 'is', 'the', 'culture', 'does', 'not', 'go', 'sideways', 'felt', 'like', 'the', 'biggest', 'risk', 'at', 'that', 'point', 'because', 'we', 'were', 'such', 'connected', 'company', 'how', 'do', 'we', 'make', 'sure', 'we', 'do', 'not', 'start', 'going', 'into', 'an', 'immediate', 'direction', 'well', 'think', 'they', 'are', 'kind', 'of', 'restorative', 'connected', 'in', 'some', 'ways', 'am', 'like', 'said', 'you', 'got', 'to', 'start', 'with', 'your', 'employees', 'everything', 'is', 'derived', 'from', 'your', 'employees', 'if', 'your', 'employees', 'are', 'not', 'clued', 'in', 'to', 'the', 'right', 'values', 'we', 'have', 'value', 'around', 'do', 'right', 'by', 'the', 'customer', 'and', 'the', 'community', 'actually', 'which', 'is', 'customers', 'employees', 'unless', 'you', 'have', 'way', 'of', 'setting', 'setting', 'the', 'direction', 'setting', 'values', 'for', 'your', 'employees', 'they', 'will', 'never', 'really', 'know', 'naturally', 'that', 'at', 'our', 'company', 'we', 'prioritize', 'spending', 'time', 'with', 'with', 'the', 'customers', 'so', 'it', 'all', 'it', 'all', 'stems', 'from', 'the', 'culture', 'you', 'set', 'yes', 'that', 'completely', 'resonates', 'with', 'me', 'sure', 'think', 'yeah', 'there', 'is', 'that', 'hundred', 'number', 'where', 'the', 'thing', 'is', 'there', 'is', 'only', 'people', 'that', 'you', 'can', 'really', 'know', 'intimately', 'and', 'know', 'their', 'names', 'and', 'once', 'you', 'get', 'past', 'that', 'number', 'things', 'really', 'changed', 'we', 'had', 'that', 'some', 'sort', 'of', 'crisis', 'is', 'when', 'we', 'moved', 'from', 'one', 'floor', 'to', 'two', 'floors', 'or', 'open', 'up', 'international', 'offices', 'here', 'and', 'uh', 'and', 'there', 'is', 'an', 'onion', 'headline', 'love', 'which', 'says', 'boss', 'wants', 'friendly', 'relaxed', 'uh', 'office', 'by', 'friday', 'so', 'its', 'like', 'its', 'culture', 'is', 'not', 'something', 'you', 'can', 'mandate', 'from', 'the', 'top', 'its', 'hard', 'for', 'ceo', 'to', 'go', 'and', 'say', 'like', 'heres', 'the', 'culture', 'that', 'were', 'going', 'to', 'have', 'and', 'bring', 'tablets', 'you', 'really', 'need', 'to', 'um', 'as', 'leader', 'culture', 'follows', 'the', 'leader', 'so', 'you', 'need', 'to', 'set', 'the', 'example', 'feel', 'that', 'is', 'the', 'only', 'kind', 'of', 'like', 'half', 'of', 'it', 'uh', 'you', 'really', 'need', 'to', 'figure', 'out', 'ways', 'to', 'like', 'involve', 'all', 'your', 'um', 'employees', 'and', 'get', 'them', 'to', 'kind', 'of', 'live', 'those', 'ways', 'too', 'one', 'thing', 'that', 'we', 'did', 'it', 'was', 'not', 'really', 'to', 'deliberate', 'but', 'it', 'ended', 'up', 'being', 'really', 'important', 'is', 'we', 'came', 'up', 'with', 'six', 'spirit', 'animals', 'for', 'the', 'adroll', 'values', 'actually', 'wearing', 'my', 'uh', 'one', 'of', 'them', 'today', 'which', 'is', 'jellyfish', 'which', 'stands', 'for', 'transparency', 'and', 'um', 'for', 'whatever', 'reason', 'that', 'really', 'brought', 'the', 'company', 'values', 'to', 'life', 'and', 'uh', 'you', 'know', 'instead', 'of', 'having', 'an', 'employee', 'handbook', 'with', 'your', 'values', 'that', 'you', 'kind', 'of', 'give', 'the', 'new', 'employees', 'and', 'it', 'kind', 'of', 'gathers', 'dust', 'on', 'it', 'you', 'have', 'these', 'different', 'mascots', 'or', 'icons', 'and', 'there', 'is', 'probably', 'million', 'ways', 'of', 'doing', 'this', 'where', 'you', 'are', 'able', 'to', 'evoke', 'those', 'different', 'um', 'those', 'different', 'mascots', 'in', 'different', 'decisions', 'you', 'make', 'or', 'projects', 'or', 'even', 'teams', 'or', 'working', 'groups', 'and', 'people', 'and', 'people', 'have', 'really', 'enjoyed', 'that', 'part', 'of', 'the', 'company', 'so', 'and', 'were', 'actually', 'when', 'we', 'have', 'done', 'surveys', 'really', 'large', 'percentage', 'of', 'the', 'company', 'actually', 'understands', 'the', 'values', 'and', 'says', 'we', 'live', 'by', 'them', 'so', 'feel', 'like', 'that', 'was', 'really', 'important', 'codifying', 'the', 'values', 'in', 'way', 'that', 'was', 'like', 'really', 'useful', 'to', 'the', 'company', 'some', 'of', 'us', 'brainstorming', 'happen', 'to', 'come', 'from', 'seattle', 'that', 'is', 'where', 'grew', 'up', 'in', 'my', 'parents', 'live', 'in', 'wall', 'and', 'there', 'is', 'native', 'american', 'totem', 'pole', 'nearby', 'um', 'so', 'think', 'some', 'of', 'it', 'was', 'actually', 'inspired', 'by', 'kind', 'of', 'my', 'childhood', 'where', 'you', 'could', 'have', 'these', 'different', 'mascots', 'represent', 'or', 'you', 'know', 'different', 'animals', 'represent', 'different', 'ideas', 'uh', 'that', 'thought', 'was', 'pretty', 'interesting', 'and', 'uh', 'yeah', 'and', 'then', 'and', 'then', 'it', 'was', 'just', 'we', 'had', 'we', 'painted', 'mural', 'that', 'was', 'at', 'the', 'front', 'door', 'of', 'our', 'office', 'with', 'the', 'different', 'icons', 'on', 'them', 'would', 'say', 'were', 'radically', 'transparent', 'there', 'are', 'silicon', 'valley', 'at', 'episode', 'they', 'were', 'making', 'fun', 'of', 'radical', 'candor', 'but', 'we', 'try', 'to', 'be', 'radically', 'transparent', 'which', 'is', 'good', 'am', 'actually', 'its', 'kind', 'of', 'fun', 'there', 'is', 'like', 'all', 'these', 'values', 'are', 'sort', 'of', 'linked', 'together', 'our', 'first', 'value', 'is', 'hire', 'great', 'people', 'and', 'help', 'them', 'grow', 'hiring', 'great', 'people', 'is', 'not', 'unique', 'thing', 'in', 'our', 'industry', 'but', 'to', 'help', 'them', 'grow', 'as', 'our', 'first', 'value', 'is', 'important', 'and', 'actually', 'think', 'think', 'helping', 'people', 'grow', 'helping', 'each', 'other', 'grow', 'is', 'really', 'tied', 'to', 'transparency', 'am', 'like', 'if', 'you', 'have', 'manager', 'who', 'goes', 'to', 'an', 'employee', 'and', 'its', 'just', 'like', 'ran', 'radically', 'direct', 'with', 'them', 'all', 'the', 'time', 'uh', 'you', 'know', 'its', 'hard', 'that', 'can', 'be', 'challenging', 'relationship', 'come', 'off', 'as', 'abusive', 'but', 'if', 'those', 'two', 'people', 'are', 'working', 'in', 'company', 'where', 'they', 'know', 'how', 'important', 'personal', 'growth', 'is', 'um', 'its', 'much', 'more', 'likely', 'for', 'that', 'employee', 'to', 'see', 'that', 'transparency', 'that', 'feed', 'as', 'coaching', 'that', 'my', 'managers', 'really', 'in', 'my', 'corner', 'my', 'companys', 'really', 'my', 'corner', 'to', 'try', 'and', 'get', 'me', 'from', 'to', 'and', 'and', 'its', 'its', 'good', 'its', 'good', 'feedback', 'for', 'me', 'um', 'yeah', 'and', 'then', 'we', 'try', 'to', 'do', 'radical', 'he', 'tried', 'to', 'do', 'lot', 'with', 'the', 'other', 'direction', 'too', 'so', 'actually', 'if', 'you', 'do', 'not', 'mind', 'me', 'talking', 'about', 'this', 'little', 'bit', 'more', 'we', 'use', 'technology', 'lot', 'in', 'uh', 'in', 'transparency', 'um', 'every', 'friday', 'we', 'have', 'an', 'all', 'hands', 'and', 'we', 'encourage', 'people', 'to', 'post', 'questions', 'on', 'and', 'board', 'uh', 'which', 'allows', 'anonymous', 'questions', 'we', 'encourage', 'people', 'to', 'post', 'fears', 'uncertainties', 'and', 'doubts', 'and', 'we', 'have', 'view', 'its', 'much', 'better', 'to', 'confront', 'peoples', 'ideas', 'and', 'talk', 'about', 'them', 'in', 'the', 'open', 'rather', 'than', 'let', 'them', 'fester', 'behind', 'the', 'scenes', 'or', 'at', 'the', 'bar', 'after', 'work', 'and', 'could', 'actually', 'plug', 'we', 'recently', 'uh', 'some', 'some', 'um', 'um', 'employees', 'who', 'are', 'at', 'ad', 'roll', 'uh', 'have', 'built', 'product', 'called', 'jellyfish', 'which', 'is', 'slack', 'extension', 'which', 'allows', 'anybody', 'in', 'slack', 'to', 'run', 'am', 'an', 'interview', 'or', 'not', 'interview', 'like', 'am', 'type', 'of', 'reddit', 'style', 'and', 'with', 'someone', 'which', 'you', 'can', 'do', 'before', 'meeting', 'or', 'before', 'an', 'all', 'hands', 'and', 'let', 'us', 'people', 'ask', 'questions', 'and', 'slack', 'and', 'put', 'them', 'up', 'and', 'down', 'in', 'preparation', 'for', 'meeting', 'or', 'an', 'all', 'hands', 'uh', 'yeah', 'so', 'um', 'we', 'in', 'silicon', 'valley', 'there', 'is', 'this', 'this', 'competition', 'for', 'talent', 'um', 'you', 'know', 'the', 'the', 'dotcom', 'days', 'or', 'the', 'early', 'two', 'thousands', 'it', 'was', 'all', 'about', 'perks', 'like', 'how', 'much', 'free', 'food', 'free', 'lunches', 'pool', 'tables', 'those', 'sorts', 'of', 'things', 'and', 'we', 'have', 'sort', 'of', 'decided', 'early', 'on', 'id', 'rather', 'spend', 'dollar', 'on', 'trading', 'and', 'investing', 'in', 'somebody', 'and', 'uh', 'rather', 'than', 'on', 'some', 'sort', 'of', 'perk', 'um', 'that', 'is', 'kind', 'of', 'more', 'temporary', 'uh', 'so', 'we', 'we', 'we', 'tried', 'to', 'put', 'our', 'money', 'there', 'and', 'at', 'ad', 'roll', 'we', 'teach', 'thousands', 'of', 'classes', 'per', 'year', 'we', 'have', 'employees', 'teach', 'classes', 'maybe', 'on', 'like', 'how', 'to', 'use', 'tablo', 'or', 'you', 'know', 'how', 'to', 'use', 'something', 'in', 'our', 'dough', 'how', 'to', 'understand', 'saying', 'in', 'our', 'domain', 'we', 'bring', 'in', 'lot', 'of', 'external', 'teachers', 'too', 'am', 'on', 'almost', 'like', 'virtual', 'mba', 'type', 'stuff', 'uh', 'we', 'also', 'have', 'you', 'know', 'the', 'whole', 'the', 'whole', 'whole', 'body', 'type', 'of', 'stuff', 'where', 'we', 'have', 'we', 'have', 'had', 'teachers', 'come', 'in', 'and', 'teach', 'zoomba', 'classes', 'or', 'other', 'sorts', 'of', 'health', 'related', 'am', 'pretty', 'frequently', 'so', 'there', 'is', 'over', 'classes', 'taught', 'year', 'here', 'for', 'person', 'company', 'yeah', 'think', 'that', 'there', 'is', 'three', 'pillars', 'around', 'culture', 'there', 'is', 'community', 'which', 'is', 'how', 'do', 'people', 'interact', 'how', 'do', 'they', 'get', 'along', 'how', 'inclusive', 'is', 'your', 'environment', 'how', 'comfortable', 'people', 'asking', 'questions', 'uh', 'you', 'know', 'the', 'people', 'will', 'actually', 'enjoy', 'coming', 'to', 'work', 'they', 'want', 'to', 'spend', 'time', 'together', 'are', 'they', 'going', 'to', 'recommend', 'their', 'friends', 'to', 'come', 'there', 'um', 'and', 'think', 'adderall', 'is', 'done', 'really', 'well', 'in', 'that', 'category', 'and', 'as', 'as', 'we', 'grow', 'as', 'company', 'uh', 'the', 'areas', 'where', 'were', 'needing', 'to', 'grow', 'the', 'most', 'are', 'around', 'performance', 'um', 'which', 'is', 'which', 'is', 'you', 'have', 'performance', 'culture', 'do', 'you', 'have', 'way', 'of', 'setting', 'goals', 'is', 'your', 'leadership', 'telling', 'me', 'what', 'mountain', 'you', 'are', 'going', 'to', 'climb', 'um', 'oftentimes', 'people', 'have', 'defined', 'culture', 'is', 'like', 'who', 'gets', 'promoted', 'who', 'gets', 'hired', 'who', 'gets', 'fired', 'they', 'are', 'so', 'visible', 'and', 'that', 'really', 'shows', 'like', 'what', 'success', 'looks', 'like', 'your', 'company', 'and', 'kind', 'of', 'defined', 'that', 'performance', 'culture', 'and', 'the', 'last', 'thing', 'is', 'like', 'governance', 'culture', 'and', 'feel', 'like', 'this', 'is', 'an', 'area', 'that', 'really', 'has', 'not', 'been', 'not', 'lot', 'as', 'mid', 'stage', 'leader', 'at', 'company', 'its', 'hard', 'to', 'find', 'information', 'about', 'good', 'governance', 'at', 'our', 'at', 'our', 'size', 'and', 'stage', 'because', 'you', 'are', 'at', 'this', 'awkward', 'place', 'between', 'having', 'you', 'know', 'just', 'being', 'bunch', 'of', 'people', 'in', 'one', 'office', 'or', 'like', 'in', 'the', 'back', 'you', 'know', 'in', 'in', 'garage', 'somewhere', 'versus', 'being', 'like', 'corporate', 'company', 'like', 'if', 'you', 'want', 'to', 'make', 'change', 'the', 'front', 'page', 'of', 'the', 'website', 'but', 'different', 'texts', 'on', 'there', 'are', 'different', 'like', 'who', 'makes', 'that', 'decision', 'does', 'the', 'ceo', 'have', 'sign', 'off', 'on', 'it', 'is', 'the', 'product', 'people', 'marketing', 'like', 'what', 'are', 'the', 'chains', 'there', 'and', 'find', 'almost', 'every', 'mid', 'stage', 'company', 'its', 'really', 'loosely', 'defined', 'and', 'so', 'how', 'do', 'you', 'how', 'do', 'you', 'deal', 'with', 'that', 'and', 'uh', 'you', 'know', 'how', 'do', 'you', 'deal', 'with', 'deal', 'with', 'communication', 'outside', 'of', 'the', 'reporting', 'structure', 'so', 'that', 'is', 'all', 'about', 'governance', 'how', 'do', 'you', 'make', 'decisions', 'and', 'does', 'everybody', 'speak', 'the', 'same', 'language', 'around', 'decisions', 'at', 'your', 'company', 'yeah', 'so', 'you', 'definitely', 'want', 'uh', 'you', 'know', 'the', 'the', 'the', 'ceo', 'or', 'leadership', 'really', 'has', 'three', 'um', 'you', 'know', 'number', 'one', 'is', 'they', 'got', 'to', 'set', 'up', 'paints', 'bold', 'vision', 'of', 'the', 'future', 'of', 'the', 'company', 'so', 'everybody', 'the', 'company', 'really', 'imagined', 'it', 'all', 'fitting', 'on', 'one', 'sheet', 'of', 'paper', 'everybody', 'at', 'the', 'company', 'should', 'be', 'able', 'to', 'recite', 'that', 'and', 'make', 'sure', 'they', 'are', 'aligned', 'with', 'that', 'the', 'top', 'level', 'and', 'then', 'the', 'ceo', 'is', 'also', 'responsible', 'for', 'making', 'sure', 'there', 'is', 'money', 'in', 'the', 'bank', 'and', 'setting', 'the', 'cultural', 'tone', 'think', 'um', 'and', 'from', 'there', 'think', 'its', 'good', 'to', 'have', 'some', 'sort', 'of', 'rhythm', 'uh', 'maybe', 'not', 'when', 'you', 'are', 'just', 'really', 'small', 'upstart', 'but', 'kind', 'of', 'getting', 'towards', 'the', 'mid', 'stages', 'where', 'like', 'quarterly', 'system', 'even', 'though', 'you', 'are', 'not', 'public', 'where', 'there', 'is', 'goal', 'setting', 'and', 'accountability', 'around', 'those', 'goal', 'settings', 'and', 'trying', 'to', 'be', 'as', 'as', 'data', 'driven', 'in', 'that', 'goal', 'setting', 'as', 'possible', 'um', 'for', 'an', 'early', 'stage', 'company', 'run', 'product', 'today', 'at', 'ad', 'roll', 'think', 'its', 'important', 'that', 'the', 'goals', 'are', 'very', 'much', 'set', 'on', 'outcomes', 'like', 'what', 'metrics', 'do', 'you', 'want', 'to', 'drive', 'versus', 'outputs', 'and', 'outputs', 'like', 'for', 'example', 'we', 'need', 'to', 'ship', 'product', 'on', 'date', 'why', 'uh', 'its', 'really', 'hard', 'is', 'going', 'back', 'to', 'the', 'customer', 'centricity', 'its', 'hard', 'to', 'really', 'predict', 'exactly', 'what', 'your', 'customers', 'are', 'going', 'to', 'want', 'six', 'months', 'from', 'now', 'as', 'you', 'kind', 'of', 'go', 'on', 'your', 'journey', 'so', 'we', 'try', 'to', 'focus', 'more', 'on', 'the', 'metrics', 'then', 'the', 'actual', 'roadmap', 'items', 'but', 'having', 'some', 'sort', 'of', 'rhythm', 'on', 'quarterly', 'basis', 'that', 'kind', 'of', 'fits', 'into', 'like', 'big', 'thematic', 'big', 'thematic', 'uh', 'initiatives', 'for', 'the', 'year', 'is', 'how', 'we', 'have', 'always', 'done', 'it', 'yeah', 'one', 'thing', 'and', 'its', 'its', 'its', 'there', 'is', 'always', 'this', 'question', 'of', 'do', 'you', 'tie', 'peoples', 'compensation', 'to', 'performance', 'and', 'would', 'say', 'no', 'try', 'to', 'keep', 'them', 'separate', 'um', 'the', 'performance', 'like', 'the', 'goals', 'you', 'set', 'mean', 'let', 'me', 'take', 'that', 'back', 'compensation', 'should', 'be', 'tied', 'to', 'performance', 'of', 'course', 'but', 'when', 'you', 'are', 'setting', 'goals', 'at', 'company', 'those', 'are', 'really', 'supposed', 'to', 'be', 'more', 'of', 'stretch', 'based', 'goals', 'thinking', 'big', 'making', 'sure', 'you', 'are', 'not', 'thinking', 'too', 'small', 'and', 'you', 'know', 'coming', 'up', 'with', 'like', 'target', 'it', 'would', 'be', 'good', 'if', 'you', 'know', 'you', 'reach', 'to', 'percent', 'of', 'your', 'goals', 'uh', 'and', 'making', 'that', 'part', 'of', 'the', 'conversation', 'when', 'you', 'do', 'reviews', 'um', 'but', 'making', 'sure', 'people', 'are', 'are', 'are', 'setting', 'goals', 'quarterly', 'and', 'its', 'also', 'important', 'make', 'sure', 'those', 'quarterly', 'goals', 'are', 'not', 'just', 'focused', 'on', 'that', 'one', 'quarter', 'that', 'you', 'are', 'actually', 'like', 'those', 'quarterly', 'goals', 'fit', 'into', 'longer', 'like', 'month', 'themes', 'or', 'else', 'you', 'could', 'have', 'people', 'just', 'try', 'and', 'make', 'their', 'numbers', 'look', 'right', 'for', 'that', 'one', 'quarter', 'um', 'from', 'from', 'lot', 'of', 'different', 'things', 'that', 'we', 'from', 'product', 'perspective', 'we', 'really', 'try', 'to', 'focus', 'on', 'doing', 'lot', 'of', 'customer', 'discovery', 'and', 'that', 'is', 'things', 'like', 'having', 'were', 'were', 'interesting', 'because', 'its', 'its', 'not', 'an', 'adderall', 'is', 'not', 'consumer', 'product', 'meaning', 'its', 'it', 'can', 'be', 'little', 'more', 'challenging', 'to', 'find', 'potential', 'customers', 'and', 'so', 'we', 'have', 'customer', 'advisory', 'boards', 'that', 'we', 'have', 'built', 'out', 'which', 'are', 'great', 'sometimes', 'your', 'customer', 'advisory', 'boards', 'can', 'have', 'lot', 'of', 'early', 'adopters', 'on', 'it', 'which', 'maybe', 'not', 'might', 'they', 'are', 'great', 'because', 'they', 'like', 'to', 'try', 'new', 'things', 'out', 'and', 'they', 'are', 'open', 'to', 'talk', 'to', 'you', 'but', 'they', 'might', 'not', 'they', 'might', 'not', 'represent', 'who', 'your', 'ultimate', 'longterm', 'customer', 'is', 'one', 'thing', 'that', 'we', 'have', 'done', 'in', 'the', 'last', 'year', 'is', 'we', 'have', 'sales', 'team', 'here', 'and', 'we', 'use', 'program', 'called', 'chorus', 'to', 'record', 'sales', 'calls', 'and', 'we', 'get', 'the', 'whole', 'product', 'team', 'in', 'room', 'and', 'we', 'play', 'for', 'them', 'just', 'just', 'almost', 'like', 'random', 'sales', 'call', 'that', 'happened', 'and', 'uh', 'its', 'way', 'to', 'hear', 'the', 'customer', 'responding', 'in', 'kind', 'of', 'like', 'um', 'in', 'in', 'an', 'example', 'situation', 'about', 'our', 'product', 'and', 'almost', 'like', 'bunch', 'of', 'art', 'students', 'we', 'kind', 'of', 'critique', 'critique', 'what', 'happened', 'on', 'the', 'call', 'what', 'was', 'said', 'and', 'try', 'to', 'get', 'view', 'into', 'the', 'customer', 'without', 'actually', 'even', 'having', 'one', 'on', 'one', 'conversation', 'with', 'the', 'customer', 'which', 'we', 'found', 'to', 'be', 'pretty', 'interesting', 'its', 'spurring', 'lot', 'of', 'really', 'good', 'conversations', 'yeah', 'failure', 'is', 'part', 'of', 'the', 'eel', 'you', 'cannot', 'learn', 'anything', 'if', 'you', 'are', 'not', 'failing', 'at', 'things', 'if', 'you', 'are', 'not', 'taking', 'it', 'if', 'you', 'are', 'not', 'if', 'you', 'do', 'not', 'have', 'products', 'failing', 'if', 'you', 'do', 'not', 'have', 'different', 'issues', 'feeling', 'it', 'means', 'you', 'are', 'probably', 'not', 'taking', 'too', 'many', 'risks', 'uh', 'like', 'peter', 'teal', 'said', 'if', 'you', 'are', 'not', 'if', 'you', 'are', 'not', 'uncomfortable', 'and', 'you', 'are', 'probably', 'not', 'doing', 'it', 'right', 'so', 'it', 'goes', 'back', 'to', 'it', 'goes', 'back', 'to', 'the', 'values', 'again', 'hire', 'great', 'people', 'and', 'help', 'them', 'grow', 'um', 'there', 'is', 'book', 'we', 'like', 'lot', 'um', 'called', 'mindset', 'which', 'is', 'pretty', 'popular', 'book', 'in', 'education', 'circles', 'but', 'it', 'cross', 'applies', 'into', 'into', 'business', 'quite', 'quite', 'bit', 'um', 'and', 'and', 'talks', 'about', 'how', 'you', 'set', 'the', 'conditions', 'for', 'helping', 'people', 'uh', 'you', 'know', 'make', 'mistakes', 'um', 'and', 'uh', 'one', 'thing', 'we', 'have', 'taken', 'on', 'recently', 'is', 'we', 'do', 'fair', 'bit', 'of', 'retrospectives', 'so', 'you', 'do', 'not', 'make', 'it', 'so', 'retrospective', 'is', 'like', 'this', 'you', 'have', 'big', 'project', 'and', 'it', 'failed', 'instead', 'of', 'just', 'kind', 'of', 'shelving', 'and', 'moving', 'on', 'its', 'good', 'to', 'break', 'break', 'it', 'down', 'and', 'really', 'understand', 'what', 'happened', 'the', 'problem', 'is', 'when', 'you', 'are', 'at', 'company', 'of', 'our', 'stage', 'everybodys', 'so', 'busy', 'you', 'do', 'not', 'want', 'to', 'take', 'like', 'formalize', 'it', 'too', 'much', 'so', 'at', 'least', 'creating', 'some', 'time', 'and', 'space', 'and', 'having', 'some', 'structure', 'for', 'looking', 'back', 'on', 'things', 'and', 'making', 'sure', 'that', 'you', 'are', 'actually', 'taking', 'the', 'time', 'to', 'learn', 'from', 'your', 'failures', 'and', 'think', 'by', 'people', 'understanding', 'the', 'value', 'in', 'that', 'process', 'then', 'they', 'are', 'more', 'likely', 'to', 'understand', 'its', 'okay', 'to', 'make', 'mistakes', 'um', 'that', 'is', 'good', 'question', 'actually', 'uh', 'one', 'thing', 'that', 'you', 'would', 'have', 'asked', 'me', 'about', 'culture', 'would', 'be', 'um', 'well', 'one', 'thing', 'think', 'its', 'kind', 'of', 'there', 'are', 'two', 'things', 'can', 'relate', 'to', 'that', 'am', 'the', 'first', 'one', 'is', 'how', 'do', 'you', 'measure', 'culture', 'which', 'think', 'is', 'really', 'important', 'um', 'its', 'sorta', 'like', 'how', 'can', 'it', 'goes', 'back', 'to', 'this', 'idea', 'have', 'where', 'there', 'is', 'this', 'think', 'myth', 'out', 'there', 'were', 'as', 'company', 'gets', 'bigger', 'the', 'culture', 'gets', 'worse', 'it', 'gets', 'more', 'bureaucratic', 'against', 'more', 'stuffy', 'things', 'get', 'slower', 'there', 'are', 'diseconomies', 'of', 'scale', 'and', 'am', 'hell', 'bent', 'on', 'destroying', 'that', 'myth', 'so', 'actually', 'as', 'company', 'gets', 'bigger', 'how', 'do', 'you', 'make', 'sure', 'that', 'the', 'company', 'improves', 'and', 'think', 'think', 'measurements', 'will', 'be', 'part', 'of', 'that', 'so', 'we', 'use', 'software', 'called', 'culture', 'amp', 'and', 'we', 'have', 'lot', 'of', 'companies', 'do', 'this', 'actually', 'once', 'year', 'we', 'have', 'big', 'employee', 'survey', 'and', 'asked', 'bunch', 'of', 'questions', 'about', 'everything', 'like', 'how', 'we', 'ran', 'the', 'company', 'in', 'three', 'years', 'when', 'you', 'think', 'about', 'your', 'salary', 'uh', 'do', 'we', 'have', 'diverse', 'and', 'inclusive', 'environment', 'people', 'answer', 'those', 'questions', 'and', 'it', 'allows', 'us', 'to', 'we', 'basically', 'really', 'encouraged', 'the', 'whole', 'company', 'to', 'answer', 'it', 'and', 'then', 'you', 'get', 'these', 'results', 'back', 'and', 'you', 'are', 'able', 'to', 'see', 'across', 'different', 'departments', 'and', 'different', 'geographies', 'where', 'the', 'hotspots', 'are', 'and', 'where', 'were', 'adroll', 'is', 'little', 'different', 'where', 'we', 'do', 'really', 'well', 'is', 'we', 'really', 'focus', 'on', 'addressing', 'those', 'hotspots', 'so', 'we', 'immediately', 'launched', 'different', 'programs', 'every', 'year', 'to', 'help', 'us', 'bring', 'improve', 'those', 'areas', 'and', 'improve', 'the', 'culture', 'and', 'so', 'being', 'able', 'to', 'really', 'diagnostic', 'about', 'your', 'culture', 'and', 'open', 'about', 'it', 'can', 'be', 'really', 'helpful', 'with', 'tools', 'and', 'then', 'the', 'other', 'thing', 'said', 'is', 'the', 'question', 'would', 'have', 'the', 'million', 'dollar', 'question', 'is', 'do', 'you', 'think', 'culture', 'is', 'can', 'get', 'better', 'as', 'company', 'grows', 'in', 'size', 'and', 'think', 'think', 'were', 'in', 'early', 'days', 'of', 'but', 'think', 'there', 'are', 'lot', 'of', 'economies', 'of', 'scale', 'to', 'actually', 'improve', 'culture', 'and', 'have', 'all', 'kinds', 'of', 'different', 'types', 'of', 'people', 'at', 'company', 'am', 'working', 'together', 'to', 'create', 'great', 'environment', 'thanks', 'for', 'having', 'me', 'take', 'care', 'grew', 'up', 'near', 'seattle', 'in', 'bellevue', 'and', 'was', 'precocious', 'nerdy', 'kid', 'drawn', 'to', 'computers', 'at', 'an', 'early', 'age', 'started', 'playing', 'around', 'with', 'programs', 'and', 'creating', 'my', 'own', 'games', 'eventually', 'my', 'neighbor', 'took', 'notice', 'of', 'me', 'he', 'had', 'software', 'company', 'and', 'they', 'developed', 'christmas', 'software', 'with', 'screen', 'savers', 'and', 'games', 'so', 'was', 'jewish', 'boy', 'creating', 'santas', 'workshop', 'and', 'games', 'where', 'you', 'fly', 'reindeer', 'around', 'loved', 'it', 'my', 'dad', 'would', 'pick', 'me', 'up', 'after', 'middle', 'school', 'and', 'drive', 'me', 'to', 'work', 'in', 'redmond', 'nearby', 'in', 'bit', 'of', 'serendipity', 'microsoft', 'was', 'two', 'blocks', 'down', 'the', 'street', 'and', 'they', 'were', 'hungry', 'for', 'engineers', 'gobbling', 'up', 'talent', 'whenever', 'they', 'could', 'find', 'it', 'they', 'started', 'pulling', 'people', 'from', 'my', 'neighbors', 'company', 'to', 'work', 'for', 'microsoft', 'and', 'as', 'more', 'people', 'left', 'took', 'on', 'more', 'responsibility', 'at', 'this', 'software', 'company', 'pretty', 'soon', 'was', 'leading', 'the', 'christmas', 'software', 'project', 'was', 'years', 'old', 'as', 'the', 'people', 'worked', 'with', 'went', 'to', 'microsoft', 'they', 'then', 'told', 'the', 'company', 'about', 'me', 'and', 'suddenly', 'was', 'interviewing', 'at', 'microsoft', 'when', 'was', 'they', 'asked', 'programming', 'questions', 'but', 'they', 'also', 'asked', 'interview', 'questions', 'like', 'how', 'do', 'you', 'know', 'the', 'light', 'goes', 'off', 'in', 'the', 'refrigerator', 'when', 'you', 'close', 'the', 'door', 'had', 'baby', 'sister', 'so', 'said', 'would', 'put', 'my', 'baby', 'sister', 'in', 'the', 'refrigerator', 'and', 'then', 'pull', 'her', 'out', 'and', 'check', 'the', 'dilation', 'of', 'her', 'eyes', 'they', 'said', 'that', 'is', 'morbid', 'but', 'its', 'pretty', 'clever', 'and', 'they', 'hired', 'me', 'spent', 'about', 'six', 'years', 'at', 'microsoft', 'was', 'able', 'to', 'work', 'it', 'out', 'with', 'my', 'high', 'school', 'where', 'classes', 'would', 'end', 'at', 'noon', 'for', 'me', 'and', 'then', 'id', 'go', 'to', 'microsoft', 'and', 'try', 'to', 'stay', 'within', 'the', 'labor', 'laws', 'for', 'hours', 'worked', 'during', 'the', 'summers', 'would', 'transition', 'to', 'intern', 'and', 'take', 'advantage', 'of', 'those', 'programs', 'did', 'manage', 'to', 'spend', 'some', 'time', 'with', 'bill', 'gates', 'every', 'summer', 'he', 'would', 'have', 'barbecue', 'for', 'the', 'interns', 'after', 'being', 'there', 'for', 'so', 'many', 'summers', 'figured', 'out', 'the', 'pattern', 'he', 'would', 'come', 'out', 'of', 'his', 'house', 'and', 'go', 'right', 'to', 'the', 'dinner', 'line', 'so', 'would', 'wait', 'by', 'the', 'door', 'and', 'when', 'he', 'came', 'out', 'id', 'get', 'in', 'the', 'dinner', 'line', 'with', 'him', 'that', 'way', 'id', 'get', 'to', 'sit', 'next', 'to', 'him', 'too', 'have', 'this', 'overall', 'philosophy', 'that', 'company', 'is', 'like', 'human', 'body', 'which', 'builds', 'up', 'toxins', 'over', 'time', 'every', 'company', 'has', 'problems', 'and', 'issues', 'that', 'build', 'up', 'and', 'you', 'need', 'to', 'find', 'outlets', 'for', 'those', 'things', 'think', 'lot', 'about', 'how', 'you', 'come', 'up', 'with', 'different', 'practices', 'in', 'the', 'company', 'that', 'are', 'kind', 'of', 'cleanse', 'so', 'we', 'do', 'weekly', 'all', 'hands', 'meeting', 'and', 'its', 'weekly', 'flush', 'to', 'get', 'the', 'toxins', 'out', 'before', 'our', 'all', 'hands', 'meetings', 'send', 'out', 'an', 'email', 'with', 'question', 'and', 'answer', 'board', 'and', 'encourage', 'people', 'to', 'post', 'their', 'questions', 'you', 'can', 'vote', 'up', 'your', 'favorite', 'questions', 'and', 'they', 'are', 'anonymous', 'if', 'you', 'give', 'someone', 'mask', 'they', 'will', 'tell', 'you', 'the', 'truth', 'also', 'encourage', 'people', 'to', 'post', 'their', 'fears', 'their', 'uncertainties', 'and', 'doubts', 'and', 'there', 'is', 'guarantee', 'that', 'any', 'question', 'that', 'is', 'asked', 'will', 'get', 'answered', 'or', 'addressed', 'by', 'me', 'unless', 'they', 'are', 'personal', 'in', 'nature', 'about', 'someone', 'in', 'particular', 'the', 'alternative', 'if', 'you', 'do', 'not', 'do', 'that', 'is', 'that', 'you', 'have', 'people', 'behind', 'closed', 'doors', 'chatting', 'about', 'the', 'company', 'gossiping', 'saying', 'negative', 'things', 'if', 'you', 'address', 'everything', 'people', 'feel', 'much', 'more', 'trust', 'they', 'feel', 'like', 'they', 'know', 'what', 'is', 'happening', 'and', 'they', 'are', 'going', 'to', 'make', 'better', 'decisions', 'because', 'they', 'know', 'what', 'is', 'going', 'on', 'after', 'you', 'have', 'been', 'at', 'adroll', 'for', 'six', 'months', 'you', 'have', 'to', 'write', 'letter', 'to', 'yourself', 'as', 'new', 'employee', 'about', 'what', 'you', 'wish', 'you', 'had', 'known', 'and', 'had', 'been', 'taught', 'then', 'we', 'compile', 'those', 'and', 'new', 'hires', 'get', 'page', 'book', 'of', 'these', 'letters', 'it', 'encourages', 'people', 'to', 'really', 'help', 'each', 'other', 'out', 'there', 'is', 'no', 'silver', 'bullet', 'question', 'but', 'usually', 'advise', 'my', 'employees', 'to', 'ask', 'themselves', 'about', 'the', 'person', 'they', 'are', 'interviewing', 'what', 'is', 'the', 'no', 'thing', 'you', 'are', 'worried', 'about', 'when', 'you', 'leave', 'the', 'interview', 'what', 'are', 'you', 'going', 'to', 'be', 'thinking', 'about', 'or', 'wondering', 'about', 'then', 'tell', 'them', 'to', 'spend', 'all', 'their', 'time', 'drilling', 'into', 'that', 'one', 'area', 'keep', 'asking', 'questions', 'its', 'to', 'prod', 'during', 'interviews', 'also', 'like', 'to', 'look', 'at', 'transitions', 'between', 'jobs', 'because', 'that', 'is', 'time', 'when', 'someone', 'kind', 'of', 'popped', 'their', 'head', 'up', 'and', 'said', 'this', 'is', 'not', 'working', 'for', 'me', 'either', 'they', 'got', 'fired', 'or', 'it', 'was', 'mutually', 'not', 'working', 'or', 'there', 'is', 'some', 'other', 'explanation', 'but', 'will', 'try', 'to', 'get', 'the', 'real', 'story', 'of', 'what', 'happened', 'for', 'company', 'at', 'our', 'stage', 'of', 'growth', 'id', 'also', 'say', 'its', 'really', 'important', 'to', 'find', 'people', 'who', 'are', 'interested', 'in', 'building', 'something', 'great', 'rather', 'than', 'people', 'who', 'are', 'interested', 'in', 'joining', 'something', 'great', 'so', 'having', 'people', 'who', 'care', 'is', 'big', 'thing', 'in', 'those', 'transitions', 'on', 'their', 'rsum', 'you', 'can', 'understand', 'lot', 'of', 'things', 'if', 'they', 'talk', 'about', 'problems', 'at', 'previous', 'company', 'then', 'the', 'question', 'is', 'were', 'you', 'part', 'of', 'the', 'solution', 'or', 'are', 'you', 'just', 'complaining', 'about', 'it', 'definitely', 'suggest', 'people', 'work', 'for', 'early', 'stage', 'or', 'midstage', 'companies', 'because', 'you', 'are', 'going', 'to', 'learn', 'lot', 'more', 'try', 'to', 'steer', 'them', 'away', 'from', 'larger', 'companies', 'the', 'company', 'is', 'going', 'through', 'more', 'change', 'at', 'smaller', 'companies', 'and', 'you', 'tend', 'to', 'be', 'in', 'deeper', 'end', 'of', 'the', 'pool', 'where', 'things', 'are', 'going', 'to', 'get', 'done', 'so', 'its', 'just', 'more', 'of', 'an', 'extension', 'of', 'college', 'there', 'is', 'accelerated', 'learning', 'in', 'that', 'period']]"
     ]
    },
    {
     "name": "stdout",
     "output_type": "stream",
     "text": [
      "\n"
     ]
    }
   ],
   "source": [
    "def sent_to_words(sentences):\n",
    "    for sentence in sentences:\n",
    "        yield(gensim.utils.simple_preprocess(str(sentence), deacc=True))  # deacc=True removes punctuations\n",
    "\n",
    "data_words = list(sent_to_words(data))\n",
    "\n",
    "print(data_words[:1])"
   ]
  },
  {
   "cell_type": "markdown",
   "metadata": {},
   "source": [
    "## lemmatizing "
   ]
  },
  {
   "cell_type": "code",
   "execution_count": 9,
   "metadata": {},
   "outputs": [
    {
     "name": "stderr",
     "output_type": "stream",
     "text": [
      "C:\\Users\\2918261\\AppData\\Local\\Continuum\\anaconda3\\lib\\importlib\\_bootstrap.py:219: RuntimeWarning: cymem.cymem.Pool size changed, may indicate binary incompatibility. Expected 48 from C header, got 64 from PyObject\n",
      "  return f(*args, **kwds)\n",
      "C:\\Users\\2918261\\AppData\\Local\\Continuum\\anaconda3\\lib\\importlib\\_bootstrap.py:219: RuntimeWarning: cymem.cymem.Address size changed, may indicate binary incompatibility. Expected 24 from C header, got 40 from PyObject\n",
      "  return f(*args, **kwds)\n"
     ]
    },
    {
     "name": "stdout",
     "output_type": "stream",
     "text": [
      "['very well thank have so little bit adroll first be found mission bring advertising brand size back when start advertising world be very different advertisement see online work so different one see offline know typical campaign would be nike run sponsorship front page there be not much space all emerge brand out there so set change fast forward today be now most widely adopt market tech platform out there brand size have business unit focus consumer call adroll then sister brand call inaudible which be focus advertiser start company  background adderall be almost engineer so come very love build thing when begin ceo here can admit be pretty far  comfort zone have think way adapt  background know build code write program software how do build great organization where people thrive very quickly come believe people be everything get people can just get everything else wrong still be okay so start there have have employee company be number global office united state where san francisco utah new york chicago internationally have hub dublin office london then sydney tokyo be continue grow very fast company about third company be focus engineering resource have have deal lot remember back in when go office bunch office be sort of pivotal moment know expand different different office different place how do make sure thing be culture do not go sideways feel big risk point be such connected company how do make sure do not start go immediate direction well think be kind of restorative connect way be say get start  employee everything be derive  employee  employee be not clue right value have value around do right customer community actually which be customer employee have way set set direction set value  employee will never really know naturally  company prioritize spend time customer stem culture set completely resonate sure think there be number where thing be there be only people can really know intimately know  name get past number thing really change have sort crisis be when move floor floor open international office here there be onion headline love which say boss want friendly relaxed office friday so   culture be not something can mandate top  hard ceo go say here culture that be go have bring tablet really need leader culture follow leader need set example feel that be only kind of half really need figure way involve  employee get kind of live way too thing that do be not really deliberate end be really important be come spirit animal adroll value actually wear  today which be jellyfish which stand transparency whatev reason that really bring company value life know instead have employee handbook  value that kind of give new employee kind of gather dust have different mascot icon there be probably way do where be able evoke different different mascot different decision make project even team work group people people have really enjoy part company so be actually when have do survey really large percentage company actually understand value say live so feel be really important codify value way that be really useful company brainstorm happen come seattle that be where grow  parent live wall there be native american totem pole nearby so think be actually inspire kind  childhood where could have different mascot represent know different animal represent different idea thought be pretty interesting then then be just have paint mural that be front door  office different icon would say be radically transparent there be silicon valley episode be make fun radical candor try be radically transparent which be good be actually  kind fun there be all value be sort of link together  first value be hire great people help grow hire great people be not unique thing  industry help grow  first value be important actually think think help people grow help other grow be really tie transparency be have manager who go employee  just run radically direct all time know  hard that can be challenge relationship come as abusive people be work company where know how important personal growth be  much more likely employee see transparency feed coach  manager really  corner  companys really  corner try get   good  good feedback then try do radical try do lot other direction too so actually do not mind talk little bit more use technology lot transparency friday have hand encourage people post question board which allow anonymous question encourage people post fear uncertainty doubt have view  much good confront people idea talk open rather let fester scene bar work could actually plug recently employee who be ad roll have build product call jellyfish which be slack extension which allow anybody slack run be interview not interview be type reddit style someone which can do meet hand let people ask question slack put down preparation meeting hand so silicon valley there be competition talent know dotcom day early thousand be all perk how much free food free lunch pool table sort thing have sort of decide early would rather spend dollar trading invest somebody rather sort perk be kind of more temporary so try put  money there ad roll teach thousand class year have employee teach class maybe how use tablo know how use something  dough how understand say  domain bring lot external teacher too be on almost virtual mba type stuff also have know whole whole whole body type stuff where have have have teacher come teach zoomba class other sort health relate be pretty frequently so there be class teach year here person company think there be pillar culture there be community which be how do people interact how do get how inclusive be  environment how comfortable people ask question know people will actually enjoy come work want spend time together be go recommend  friend come there think adderall be do really well category grow company area where be need grow most be performance which be which be have performance culture do have way set goal be  leadership tell what mountain be go climb people have define culture be who get promote who get hire who get fire be so visible really show what success look  company kind of define performance culture last thing be governance culture feel be area that really have not be not lot mid stage leader company  hard find information good governance   size stage be awkward place have know just be bunch people office back know garage somewhere be corporate company want make change front page website different text there be different who make decision do ceo have sign be product people market what be chain there find almost mid stage company  really loosely define so how do how do deal know how do deal deal communication reporting structure be all governance how do make decision do everybody speak same language decision  company so definitely want know ceo leadership really have know number be get set paint bold vision future company so everybody company really imagine fitting sheet paper everybody company should be able recite make sure be align top level then ceo be also responsible make sure there be money bank set cultural tone think there think  good have sort rhythm maybe not when be just really small upstart kind of get mid stage where quarterly system even be not public where there be goal setting accountability goal setting try be datum drive goal set possible early stage company run product today ad roll think  important goal be very much set outcome what metric do want drive output output example need ship product date why  really hard be go back customer centricity  hard really predict exactly what  customer be go want month now kind of go  journey so try focus more metric then actual roadmap item have sort rhythm quarterly basis kind fit big thematic big thematic initiative year be how have always do thing    there be always question do tie people compensation performance would say try keep separate performance goal set let take back compensation should be tie performance course when be set goal company be really suppose be more stretch base goal think big make sure be not think too small know come target would be good know reach percent  goal make part conversation when do review make sure people be be be set goal quarterly  also important make sure quarterly goal be not just focused quarter that be actually quarterly goal fit longer month theme else could have people just try make  number look right quarter lot different thing that product perspective really try focus do lot customer discovery be thing have be be interesting   not adderall be not consumer product mean  can be little more challenging find potential customer so have customer advisory board that have build which be great sometimes  customer advisory board can have lot early adopter which maybe not may be great like try new thing be open talk may not may not represent who  ultimate longterm customer be thing that have do last year be have sale team here use program call chorus record sale call get whole product team room play just just almost random sale call that happen  way hear customer respond kind of in example situation  product almost bunch art student kind critique critique what happen call what be say try get view customer actually even have conversation customer which find be pretty interesting  spurring lot really good conversation failure be part eel can not learn anything be not fail thing be not take be not do not have product fail do not have different issue feel mean be probably not take too many risk peter teal say be not be not uncomfortable be probably not do right so go back go back value again hire great people help grow there be book lot call mindset which be pretty popular book education circle cross apply business quite quite bit talk how set condition help people know make mistake thing have take recently be do fair bit retrospective do not make so retrospective be have big project fail instead just kind of shelve move  good break break really understand what happen problem be when be company  stage everybody so busy do not want take formalize too much so least create time space have structure look back thing make sure be actually take time learn  failure think people understand value process then be more likely understand  okay make mistake be good question actually thing that would have ask culture would be thing think  kind of there be thing can relate be first one be how do measure culture which think be really important  sorta how can go back idea have where there be think myth out there be company get big culture get bad get more bureaucratic more stuffy thing get slow there be diseconomie scale be hell bent destroy myth so actually company get big how do make sure company improve think think measurement will be part so use software call culture amp have lot company do actually once year have big employee survey ask bunch question everything how run company year when think  salary do have diverse inclusive environment people answer question allow basically really encourage whole company answer then get result back be able see different department different geography where hotspot be where be adroll be little different where do really well be really focus address hotspot immediately launch different program year help bring improve area improve culture so be able really diagnostic  culture open can be really helpful tool then other thing say be question would have dollar question be do think culture be can get good company grow size think think be early day think there be lot economy scale actually improve culture have kind different type people company be work together create great environment thank have take care grow seattle bellevue be precocious nerdy kid draw computer early age start play program create  own game eventually  neighbor take notice have software company develop christma software screen saver game so be jewish boy create santa workshop game where fly reindeer around love  dad would pick middle school drive work redmond nearby bit serendipity microsoft be block street be hungry engineer gobble talent whenever could find start pull people  neighbor company work microsoft more people leave take more responsibility software company pretty soon be lead christma software project be year old people work go microsoft then tell company suddenly be interview microsoft when be ask programming question also ask interview question how do know light go refrigerator when close door have baby sister so say would put  baby sister refrigerator then pull check dilation  eye say be morbid  pretty clever hire spend about year microsoft be able work  high school where class would end noon then would go microsoft try stay labor law hour work summer would transition intern take advantage program do manage spend time bill gate summer would have barbecue intern be there so many summer figure pattern would come  house go right dinner line so would wait door when come would get dinner line way would get sit next too have overall philosophy company be human body which build toxin time company have problem issue that build need find outlet thing think lot how come different practice company that be kind of cleanse so do weekly hand meeting  weekly flush get toxin  hand meeting send email question answer board encourage people post  question can vote  favorite question be anonymous give someone mask will tell truth also encourage people post  fear  uncertainty doubt there be guarantee question that be ask will get answer address be personal nature someone particular alternative do not do be have people closed door chat company gossip say negative thing address everything people feel much more trust feel know what be happen be go make good decision know what be go have be adroll month have write letter new employee what wish have know have be teach then compile new hire get page book letter encourage people really help other out there be silver bullet question usually advise  employee ask person be interview what be thing be worried when leave interview what be go be think wonder about then tell spend all  time drill area keep ask question  prod interview also like look transition job be time when someone kind of pop  head say be not work get fire be mutually not work there be other explanation will try get real story what happen company  stage growth would also say  really important find people who be interested build something great rather people who be interested join something great so have people who care be big thing transition  rsum can understand lot thing talk problem previous company then question be be part solution be just complain definitely suggest people work early stage midstage company be go learn lot more try steer away large company company be go more change small company tend be deep end pool where thing be go get do so  just more extension college there be accelerate learn period', 'do kick show thank be glad re profess  love  be good few year obviously lot craziness  space probably just have go public so year later be public think have do something order earning call be be pretty good experience little revenue last year now have talk lot more scrutiny be aim guide little revenue year path about revenue next few year all fun joy be public company be cashflow positive there be form profitability valley be middle tier do not have adword yet be work much wise look certain angle just get gray patch look lot old thank say couple company feel be just be glad include other be rough ride get really unlucky moment file go public there be very brief correction saa valuation get right center  ipo process be know burn lot cash reason be be build pretty significant enterprise sale force do lot deep engineering scale  platform intent make sure fortune company bank hospital life science company would be able actually deploy box entire organization have have certain amount enterprise scale be able get there be where be spend  money singular bet be go go empower fortune how work share collaborate fortunately number year later now have percent fortune company customer lilly pfizer amgen coca cola general electric use box be able manage secure  datum content be go little bit evolution where start sell end user file sharing collaboration now have be build much broad platform which have have have platform obviously day whole idea be can be end end platform that help company manage secure govern  most important information heart really be able secure manage content which be obviously space that know love deeply have thing gdpr have very specific industry regulation then have datum residence then have cybersecurity challenge company be deal just massive nightmare how do modernize way that  organization work way collaborate way that accomplish  daily task new challenge that have decade decade legacy technology company have manage  datum center  particular category there be probably be spend year technology customer datum center well be try go company fortune say listen can deliver much simple way manage  information be go be able collaborate work much more modern way be go be able stay secure be go be able stay compliant be go be able handle all privacy requirement large multinational company salesforce workday be part obviously much big movement so lot sale work be be do think crux moment be in right now company space be fortune which be basically proxy large business world be deal challenge have bunch practice have bunch behavior have bunch way that  culture work style have evolve year be company that be be around year sudden whole digital thing happen now have airbnb attack  industry have netflix attack  industry have lyft uber that be attack  industry depend which space be sudden have modernize way that serve  customer have modernize  internal work style have modernize way do product development have modernize way that collaborate be fortune be look partner that can help journey be how see  role environment see earlier do take time today mission criticality type service be only grow day be use hospital be use medical procedure be use disaster relief be use movie company that have be able collaborate real time script go be not secure do not have right compliance have ability go serve  customer that be big issue foundation everything do be security robustness reliability thing that ensure large regulated company can have safe place  content certainly have consumer movement that impact how technology work enterprise be part movement when found company year ago do not really think consumer enterprise just say people want be able share collaborate use business environment consumer environment folklore be always good start company focus people basically independent market be do not think be business consumer just focus people what happen be  business model change year half launch where say do not think there be viable business consumer market then start buy suit start look more serious start die  hair gray now have way too much year half past year have basically be percent market realize money be go be enterprise fortunately have decade headstart trend consumerization enterprise technology idea why workplace be use bad technology  personal life when actually spend way more money technology workplace there be variety reason just legacy enterprise software vendor never care user experience factor now finally have not lock yet monopoly control datum do not really matter buyer be buyer not end user end user really have power affect kind decision that be be make software development process that be change past couple year think  important obviously silicon valley dynamic be feel  box dropbox environment think would recognize market be obviously far big have go public probably wish be just head head battle reality be have microsoft have have more traditional company emc other be where actual spend be go how company manage  information  datum  job startup public startup be make sure be out innovate much large incumbent market deliver much good user experience be fundamentally more open integrate rest technology ecosystem which be not something that microsoft be particularly suit then make sure can constantly out innovate big competition  competitive advantage fundamentally startup be can move faster can get close customer better serve be much more open interoperable rest  technology landscape would say there be difference facebook microsoft just term  helpful do not break  talking point so significantly  good just believe  corporate marketing message be very good satyas really great leader s get great set team  be incredible see how s just matter year completely transform very different bomber style term organization kind of see juncture enterprise market be face right now be go repeat think mistake which be give power company know name company oracle world microsoft world enterprise industry big company say would actually rather have innovation come multitude vendor slack workplace facebook servicenow workday salesforce want technology company be really really deeply integrated one benefit that be go get enterprise buyer be be go get constant innovation swing lane sector mash together do think be sure morgan stanley frank quattrone really think mash thing together be certainly fan fiction enterprise software industry may be trap have not yet do full zen experience no be there kind be not meditator think be good pool analogy be swim same direction giant pool basically there be pool next which have lane  just giant shark infested water that be just really yacht think be not even pool basically see future be go come do customer want innovation good breed vendor work together which mean even work microsoft incumbent do not mean  go be microsoft sudden disappear think be where startup side get wrong microsoft be go be dominant force technology effectively perpetuity question be will there also be space good breed technology that can deliver innovation that google make huge push think be see more success computing side so really infrastructure space just cloud compute what diane greene have be drive think suite doc gmail  more consumer could be  kid think also work adult use box have couple employee certainly there be nothing suite gmail that do not scale large enterprise think there be just traditional approach that corporate have which be okay be go be use microsoft exchange outlook be go use cloud microsoft there be new set technology have enterprise have lot smb be really where focus be  hard when have such have such incredible business model thing search android youtube do not even know certainly fly car probably be little bit more exciting do corporate security see video seem float water why have not do test flight be too neurotic test flight be actually dangerous be not crash water have get swim be right have see hover be  point  still buggy  still buggy can see  arm pop cloak can actually s few people can sergey just float around be future think be what be see customer look coca cola lilly pfizer ge  stack look very different would have year ago have workday have servicenow have salesforce have box work together not necessarily perfectly time get drive more think thing that  more insurgent ecosystem be go face be can work together deliver incredible experience jointly be as integrate what microsoft oracle be go be able provide demand way more consumer expectation have dramatically change have poll expectation workplace be say am not go fill expense report software that be year old that be just too painful be not go share file inside legacy system what do be bring  own tool create massive security vulnerability company then be where come say can hopefully solve whole problem will sound obtuse amorphous  really idea what do future work look be company that have employee have bunch practice have bunch behavior have bunch business process that have be codify decade decade be successful be retailer be car manufacturer be life science company how do begin change pace innovation how do begin change speed which make decision drive new product market how do get close  customer whole idea digital age be really mean be business be move lot fast customer have way high expectation do not respond be go get disrupt think where enterprise software be go have go where customer be demand go be say how do begin work digital age how do begin appreciate be synopsis talking point obviously know idea amazon pizza team much more modular innovation where small team be able work much broad technology stack deliver customer innovation local customer that be not how percent world work that be not how large company that be build very slow year business process get new product market customer have request new expectation then entire giant ship have turn just little bit  faster just use new tool then question be how do large company get point where can have small team that be much more agile that be much close customer part  culture be chro large fortune enterprise be say have change  culture  organization get there be cio side also have have modern technology stack that be thing slack that be go let have team collaboration small level that be much more local around specific business problem specific product hmm be way more zen stuff read have hear name do not read kind of be right be always remove thing that be exactly what principle be exactly what most organization need be able have  environment then question be okay be fortune company be cpg company sudden have tool that make easy share real time make  organization much more open much more transparent that be fuck culture be use environment where information be power have very extreme hierarchy term how make decision organization sudden year old just come college may have good idea new product how do culture organization begin adapt fact have flat environment where good idea can come anywhere where people need lot more transparency have information make type decision faster what do mean traditional corporate structure what do mean how company be run operate be exciting set change that be come thank  company think people just have incredibly low expectation what expect twitter do not think  think  everybody else appreciate thank be actor studio something feel room would say there be probably unfortunately there be not that much thought process other try say what be  mind can kind of word way that people then feel good when get like think twitter fascinating outlet be able get  thought grow very mean internet be core  be grow so be just chat forum more  more broadcast chat forum mean unfortunately not lot methodology just tweet thank sometimes be mean airline that be general try not be too mean just way life do think election cycle get little bit more casual nature trump stuff general think that have have try focus policy oppose politician think  hard maintain sort policy orient structure just give amount climate that be in be  general approach then again just try not overthink too much delete tweet sometimes that be just stupid will type something then  mom will text will be be really stupid will be be right mom then delete will call tweet will just be tweet be not funny be not funny do not make sense will be be right will be misspell something will be fuck so have go delete get lot real time text  mom twitter issue have good editor just imessage do would accidentally tweet then would be sort of awkward so be speech language pathologist like word like have pronounce accurately so be up seattle work year old be level help tend give need well think aside second think twitter be hand  amazing platform  give anybody voice anywhere world that be awesome do not think anybody would say forget arab spring just community that now have much broad voice that be awesome same time also can see  harassment  lot more anger negativity area do not know how solve do not know how do not well then now do not have medium really do not know shareholder be really be okay be benevolent that be certainly approach private equity be just buy thing shut just pray get return there be return know call bill bill gate see can help endeavor could could think be deal lot harassment would just buy twitter shut do not know what do be jack dorsey have incredible democratizing force that can have bring lot good world same have all other challenge that maybe magically machine learning help maybe just have hire editor know editor that can do all different control abuse kinda claim think something need change do not think be good spot think need continue evolve how do assess mean think  kinda wish have never discover twitter be mean measurement bad way do not follow do not even follow do not know what do probably just like supreme court exclamation point have not do many cap try spell thing good do kinda stuff thank be sure that draw houston do not like that much be good well think situation be right now think be awakening how much responsibility valley have basically role technology platform kind of have impact  democracy know how world literally function think company facebook google other be wake  role society much more extreme way less intellectual way think  always intellectually people have know now  emotional can feel so actually be down be bullshit think problem be thing be not binary  increase boil frog issue zuckerberg know impact facebook when do thing where year beacon thank so know impact could actually hurt people personal life publish thing that people do not know be publish do not know ever do scenario say let imagine have nation state that be try impact  election what be way that could manipulate election how many degree could that become away nation state would not even know be come could be actually rout somebody else be fun conversation have completely hypothetical way then see happen real start realize what have create here so be sure extent  bullshit say be of sudden surprised impact think what be see be all sort new compounding layer way that platform be impact world mean be founder least know origin process how company get create be generally only think positive thing when be start be year old be be go build cool startup that can solve how people socially network other be not think well what russia hack thing so then  core ethos company do not have deep paranoia skepticism think possible way could break be really think more optimistic scenario what family member be more connect all world what could stay touch somebody go college year ago so then be real world be way more serious there be way more apocalyptic way use thing know what should do have career job chief risk officer chief paranoia officer chief nag cno would be great could probably do bunch company that be depressing may be accurate may be pessimistic then will solve way faster elon musk be probably very aligned one s out too well sure be talk full universe be too bad ais go work do not have worry ai point not personally would go there be consequence could get back week right be  point  like week long kind of endeavor absolutely would love go mar not can not do life change sort thing can not be uproot right now just have too many priority right now have job can not take time mar moment totally maybe day would be position where could think mar be just try store file right now mar be just so much think what happen reckoning so be go say have sort multinational challenge which be democracy risk nation state cybersecurity then have very local issue housing what be do  local community then diversity inclusion why be company so hard get so closed why be not able impact leadership rank company diversity inclusion standpoint so think there be lot stuff where have get get  house order be take variety different work stream be cultural be policy be technological be broad community thing think what just need be consistent push back  company need continue see path remediate improve tension majority do not know probably so be silicon valley then rest be distribute other country mostly here think problem have be lack focus prioritizing issue leadership team ceo think could definitely blame pipeline do not know have fully read brotopia be actually real interesting today be blame pipeline cause pipeline problem that be create decade ago so  create very problem that be now face be blame pipeline that do not see podcast so think fundamentally have be focus ceo leadership team organization which mean have evolve  hiring practice have evolve  recruiting program have think internal promotion equitability so have get make sure do not have very small pocket group that be sort of not fully integrate rest culture organization which obviously also mean have get critical mass  organization have look lot more broad population so do not think there be silver bullet other be focus priority joelle emerson be deeply focused issue be lawyer training do lot public interest law kind employee lawsuit whatnot kind of realize there be legal dimension which be let sue when harassment have get so bad also there be cultural dimension which be why do not just fix underlie practice that harassment diversity issue so lot  own evolution personally when think have obviously kind of be influence again  sort how hire how would track talent how retain talent then culture that be drive inclusion standpoint dimension matter would say few thing that have do well think have implement rooney rule basically which be leadership hire director above so not just  executive staff population few leader box make sure have couple candidate be able hire anybody be dramatically change mix candidate pool that look  changed impact direction hire which then go change hiring will then do  own team now have leader that may be woman person color be area have try put huge focus internal inclusion so focus  employee research group organization internally that be mean drive much more community company then be able hear lesson issue that different group be face how do good support immigrant how do better support  latinx population how do make sure be know thing be much more tie culture company think  make sure hold team accountable diversity rank  organization look metric single quarter population individual function boxs sale marketing engineering ensure think  trend much good direction where can get gender standpoint least next few year then additional program recruiting side create fellowship program call box business fellow where go hbcus try have people come box week learn all role  company not just engineering side all business rol sale finance recruiting then use way hopefully create little bit more opening valley individual who would not have think would have career silicon valley be school atlanta  logical opportunity be go coca cola go consult firm be say actually silicon valley have lot more job just crazy ai engineer that read when see news  bunch kind program just make priority leadership team be able drive probably not pressure be more outspoken  more think  just maybe  nature maybe already be outspoken type topic obviously be very focused try drive much good dialogue immigration front hopefully ultimately policy change do not think be go see anything next couple year do not think would not matter what use case be would be pretty horrid be definitely get arena where be have really interesting difficult question that company be face think maybe be just fortunate  government operation be so nascent have not have deal have not have deal issue be  ai be use drone know kinda dodge bullet be too early scale standpoint think be where have listen pulse organization where  definitely not space unilateral decision think employee have be passionate company that work have be passionate technology that come work day go build be be use way that be align  purpose now problem be there be not homogenous purpose company generally speak there be share ethic share belief how company work so think feel  technology be be use harm other people make america bad place again kind employee community that work think would decline kind contract officially official answer be something her deal do about last year be path guide do year be market that be think spend year so be so early space so  goal be make sure can capture as much possible companys goal be make sure capture as much possible generally lead be want be independent public company that be have listen think definitely go entire process think through ask what be really try build offer come think have use same framework past year which be do believe there be way bright future ahead independent company do think need pair somebody big be able accomplish what be try do so far have always land there be bright future ahead independent company can actually go take as much opportunity independent organization need pair somebody big class whatev  actually really interesting work think little new depend how classify that think  totally right think part  there be not lot opportunity be just be just solve slight gap incumbent have incumbent just go mow so be build tweak search engine tweak social network  so easy be fast follower be facebook be market that remember week half be right be long weekend be cool think be what happen so many space be try build next photo share app  not go work so just sorry break news so think then question be where be next opportunity technology company frankly be market that take lot longer build so  go be health care  go be life science maybe well continue see more innovation education  go be manufacture be not market that facebook become dollar company year be not particularly viral do not just spread overnight people think be reality era that be in right now which be next airbnb next uber next lyft next box be go be not just solve deficiency exist technology industry be go go out solve very different kind problem use technology enable bring back  enterprise cloud content management platform online cloud storage  really lame be why  evaluation be very low begin  first funding round be post money valuation be basically mom be neighbor mom local folk seattle be day when do angel round cuban be investor month then get tired think be too annoying fortunately have not be ask what else would do think would be go market would have be non be not again solve problem that microsoft oracle be try solve do not know  be do not know think be lot money think what be happen be so there be difference do microsoft have too much power dimension society that be really interesting conversation do control too much how live  daily life answer second will let be person answer next question be do control too much power silicon valley relate startup survival  hard do not know facebook should not be able copy little app that be say government regulatory pressure well challenge be do not know where break company be go give facebook news feed that be go be now different independent company be all mini conglomerate not mini massive conglomerate semi overlap more careful be almost aggregate  customer what be be certainly not run not exactly how use  product totally agree think be actually probably block most country would be dilemma government face which be what should regulation look relate silicon valley there be not single regulation could have there be probably campaign advertising regulation there be probably how should medical device use ai future how should  transportation future transportation infrastructure work have self drive car so there be probably wholesale regulation could apply vast just fierce nature company difference space occupy what need though be probably major regulatory body agency super super savvy regulator that be look industry lens world ai world machine learn when utility be actually no longer objective utility instead make decision behalf  consumer what news be go see news feed unfortunately which person maybe have be harm self drive car accident be fundamental decision which mean need regulator actually weigh society what be outcome that want do find acceptable be question that be so early incapable answering industry as well government that be focus so know how regulate red hen do not know do not know why have not be there why have not do podcast there thank would love stop news feed think what be worried would be customer serve serve probably top life scienc company many lead bank many lead hospital be almost proxy regulate build software technology regulated customer have pretty large compliance legal function box already be more less regulated  customer base so think bad case scenario be silicon valley get so far behind issue that just can not be trust industry then start have company other country have just completely different approach architecture technology rely fortune trusting silicon valley technology extent  success when see tool can be manipulate be be use more harmful way regulator be stamp then that think impact anybody be consumer enterprise so actually have extremely strong vested interest ensure silicon valley be operate effectively so do not know will be box specifically be regulate be outcome care get mess facebook resolve  issue resolve  issue so  contagion  go reduce trust type platform do not know how love do not know love quotient moment will take  word think be low love state right now percent job thing think industry again perfectly similar cambridge analytica facebook thing way too cavalier lack empathy how be people go perceive technology roll industry be people go be able learn how use be competitive  job be go be able be retrain area now same time would say be still very early process so rhetoric probably exceed actual job disruption that be actually occur be come which mean  time get ahead now start have conversation there use be file cabinet so person administer file cabinet have probably least get rid file cabinet job globally would not be employ be  only job do should be cloud who keep all  file be just leverage future need do print podcast later something have file would be be not go mess have get document okay have get pdfs be think again maybe be nave optimism naive optimism silicon valley general when look  technology when look salesforce workday kinda tool think actually what be see be company can be more efficient particular area  collaboration sale process  not hire few people   business be able better serve  customer actually often will create more job more everything talk point  just word let give really bad example very local example do not want judge do not want judge  example what  example not good be be stupid fucking example ever hear so box have datum science team  job be make  business process more efficient have process which be try identify lead that be most likely close so  sale rep be able better serve  customer invent good algorithm that could do much good way can better sell  customer do not result hire few sale rep mean could actually hire more people  sale process be more efficient so now something that be inefficient previously particular area get more efficient which mean could actually fund more be now economically viable way go serve particular customer base so think what have remember be have not reach exact perfect symmetry supply demand globally what have reach be perfect symmetry supply demand today level efficiency so could make transportation tenth price could dramatically increase number people that be consume service same health care same consumer product have inefficiency everywhere so technology can make particular job particular process more efficient potentially will actually hire more people do task now  not actually be able better serve customer be able do then have get all indirect ad job nobody really track so truck driver be why begin say be bad example be not go go direction do not wanna even use now no be go say not even sure also just think all surround industry that grow when can go make logistic more efficient have be thoughtful fact there may be specific task that change do not necessarily mean entire job change even when entire job change then what have do be find way route labor different part market do not mean fall trap be sorry  only talking point would just be when atms first come think be go destroy bank teller job have probably reach peak bank teller past couple year there be stat that be more retail branch moment that atm be invent do not take specific number banking grow now be more accessible people thus growth bank explode percent be why again wanna make sure be not give out anybody that be not think be just say there will be commensurate maybe not commensurate quantitative there will be everything that make more efficient there will likely be job growth direct area surround function what have do silicon valley be be way more thoughtful identify area growth make sure there be impact job how do ensure more people can discover new opportunity how train think be more responsibility silicon valley do not think somehow should be fully exempt think do not change think  market job be go be college that be go be community college that be go be online education that be go be company do retrain then be go be government hopefully get ahead just tad can tilt where do want education go where do want public school be move may have wait couple more year be hockey right unfortunately  go sound little bit similar what be talk couple advertisement break ago idea business be get fast company no matter what industry be have serve customer much more digitally drive way again be hospital how do provide experience patient be life science company how do learn what andme be do have more precise experience personalize medicine be transportation know be go be move be more demand more rental base probably less ownership car companys go be digitize industry be go be digitize  job box probably job largely enterprise software space be provide tool provide weaponry that help company modernize  work place  business process so where be go be go be literally entire spectrum wanna power how company work share collaborate just datum that be able move  organization wanna be platform application be build application relate content manage so be bank how do have good experience  customer where can exchange document seamlessly do not have fax document do not have fedex datum information anymore be so there go be paper people love paper people mean still have market as long there be paper people have customer now see  opportunity there be law there be security exactly most people be usually year behind term actually state compliance regulatory parameter call paper people be people that also have filing cabinet probably do  first internship be paramount picture that be where get idea box not first internship could have be file movie studio get idea box be literally fax information literally be paper person that be what do intern so put document filing cabinet then fax fedexd be holy shit be crazy be contract love lucy rural america literally contract would be rerun residual love lucy be literally just fax back forth so nothing glamorous whatsoever think may have see lisa kudrow once be drive golf cart be golf cart let use golf cart intern have move all paper around can not do would have love move script around be just contract again think be distance  not even clear be time have imagine be celebrity good celebrity that have meet really be time run harrison ford try explain cloud compute be good moment  life be really brief conversation do not go very far think be why be front be pretty cool be now should be would love now could just respond tweet dt good chat everyone have start mentality still be small enough where get right kind energy dedication everyone feel really part what be do people be able question other strategy be market engineering product try keep fairly low hierarchy everyone be encourage be entrepreneurial people tend be extremely passionate  not take credit be arrogant what be do have be able do away just lot corporate kind thing that think slow organization do not result productive behavior instead have be able get lot people focus really have good time which help stay fast innovative think ultimately be only reason people even want go work want stay business have good time collaborate accomplish big vision have  first ever hackathon box few month ago engineering team pull nighter noon next day project  daily job description then have judge panel lunch entire company get watch engineer present amazing new feature be fun people goof be also really inspiring think bring whole group together middle school do magic show actually apply what be do now  get front people tell story something that people buy be hopefully entertain  all capture people imagination get excited what be possible think big jump be manage help manager people do most hand work project be degree away action figure understand what mean term leadership as much would love be involve single decision that get make organization not only be not scalable  also not leverage capitalize amazing experience people that have team  really hard let detail go sort decision be really interesting so come big goal hopefully everyone come together figure how accomplish have make mistake term get involve wrong level problem wrong time will think be speed thing say let just solve way then turn be slow thing be break healthy system that be emerge thing that be really important be understand what have do  career just walk how get where be today what be factor that lead specific decision that can give level insight behavior how make decision thing that be ask now be talk project job what could have do differently do big get more revenue execute better see can look back  decision find where could have improve energy persistence be most important factor addition just have clean rsum where there be nothing crazy go business have be super super competitive have be able get people who be go be persistent relentless have level energy that get challenge thing curiosity be big thing way identify who be go be energetic have right attitude sometimes good people be one who be very curious  business model how be go grow actually care lot company that be actually be pretty good way find people who be go be really dedicated business ultimately be look hire people who can adapt what role may become not just what be today when be start thing move scale very quickly want hire people who can grow company role that expand job description be hire what question do have that will help see how be think challenge lot time will say when be think box opportunity how do compare other organization what do have want be part get articulate value back what kind organization want be part can actually be very useful think people be always able achieve more think can while be clich do not know manager think enough have set  sight extremely high often go process think good way execute something  product launch sale strategy then come back again day figure how can do even big better often lead good decision idea  also important know where  gap be what resource need so thing that often do  co founder be look organization figure what be miss where  gap be where  weakness be then how do solve thing know  strength sometimes  important look  strength way sort of continue push invest area  really important constantly know why would not succeed what need do change feedback be really critical too day notice there be challenge issue get involve do not let thing boil think bad politic be incredibly dangerous so  important make sure people be communicate well culture morale be super important  good not force let happen organically genuinely certainly help know couple magic trick do not then there be other thing can do probably people be corporate event do corporate party stuff when be year old be make more money now so be very happy']"
     ]
    },
    {
     "name": "stdout",
     "output_type": "stream",
     "text": [
      "\n"
     ]
    }
   ],
   "source": [
    "def lemmatization(texts, allowed_postags=['NOUN', 'ADJ', 'VERB', 'ADV']):\n",
    "    \"\"\"https://spacy.io/api/annotation\"\"\"\n",
    "    texts_out = []\n",
    "    for sent in texts:\n",
    "        doc = nlp(\" \".join(sent)) \n",
    "        texts_out.append(\" \".join([token.lemma_ if token.lemma_ not in ['-PRON-'] else '' for token in doc if token.pos_ in allowed_postags]))\n",
    "    return texts_out\n",
    "\n",
    "# Initialize spacy 'en' model, keeping only tagger component (for efficiency)\n",
    "# Run in terminal: python3 -m spacy download en\n",
    "nlp = spacy.load('en_core_web_sm', disable=['parser', 'ner'])\n",
    "\n",
    "# Do lemmatization keeping only Noun, Adj, Verb, Adverb\n",
    "data_lemmatized = lemmatization(data_words, allowed_postags=['NOUN', 'ADJ', 'VERB', 'ADV'])\n",
    "\n",
    "print(data_lemmatized[:2])"
   ]
  },
  {
   "cell_type": "code",
   "execution_count": 10,
   "metadata": {},
   "outputs": [],
   "source": [
    "table['data_lemmatized'] = data_lemmatized"
   ]
  },
  {
   "cell_type": "code",
   "execution_count": 11,
   "metadata": {},
   "outputs": [
    {
     "data": {
      "text/html": [
       "<div>\n",
       "<style scoped>\n",
       "    .dataframe tbody tr th:only-of-type {\n",
       "        vertical-align: middle;\n",
       "    }\n",
       "\n",
       "    .dataframe tbody tr th {\n",
       "        vertical-align: top;\n",
       "    }\n",
       "\n",
       "    .dataframe thead th {\n",
       "        text-align: right;\n",
       "    }\n",
       "</style>\n",
       "<table border=\"1\" class=\"dataframe\">\n",
       "  <thead>\n",
       "    <tr style=\"text-align: right;\">\n",
       "      <th></th>\n",
       "      <th>filename</th>\n",
       "      <th>text</th>\n",
       "      <th>Name</th>\n",
       "      <th>Gender</th>\n",
       "      <th>Organization</th>\n",
       "      <th>Current Age</th>\n",
       "      <th>NativeSpeaker</th>\n",
       "      <th>Traded</th>\n",
       "      <th>MBA</th>\n",
       "      <th>Sector_Grouped</th>\n",
       "      <th>Female</th>\n",
       "      <th>Sector_Grouped_Dic</th>\n",
       "      <th>Femininity</th>\n",
       "      <th>Masculinity</th>\n",
       "      <th>data_lemmatized</th>\n",
       "    </tr>\n",
       "  </thead>\n",
       "  <tbody>\n",
       "    <tr>\n",
       "      <th>0</th>\n",
       "      <td>AaronBellCombined.txt</td>\n",
       "      <td>Very well. Thanks for having me.\\nYeah. So a little bit about adroll. First of all we were founded in 2007 uh with a...</td>\n",
       "      <td>AaronBell</td>\n",
       "      <td>M</td>\n",
       "      <td>AdRoll</td>\n",
       "      <td>42</td>\n",
       "      <td>1</td>\n",
       "      <td>0</td>\n",
       "      <td>0</td>\n",
       "      <td>2</td>\n",
       "      <td>0</td>\n",
       "      <td>Communications</td>\n",
       "      <td>64.47</td>\n",
       "      <td>38.83</td>\n",
       "      <td>very well thank have so little bit adroll first be found mission bring advertising brand size back when start advert...</td>\n",
       "    </tr>\n",
       "    <tr>\n",
       "      <th>1</th>\n",
       "      <td>AaronLevieCombined.txt</td>\n",
       "      <td>Oh boy.Wow. Did we kick off this show\\nThank you. I am glad that you re-professed your love for B2B. \\nYeah its bee...</td>\n",
       "      <td>AaronLevie</td>\n",
       "      <td>M</td>\n",
       "      <td>Box Inc</td>\n",
       "      <td>33</td>\n",
       "      <td>1</td>\n",
       "      <td>1</td>\n",
       "      <td>0</td>\n",
       "      <td>3</td>\n",
       "      <td>0</td>\n",
       "      <td>Technology</td>\n",
       "      <td>63.35</td>\n",
       "      <td>37.73</td>\n",
       "      <td>do kick show thank be glad re profess  love  be good few year obviously lot craziness  space probably just have go p...</td>\n",
       "    </tr>\n",
       "    <tr>\n",
       "      <th>10</th>\n",
       "      <td>AlastairMitchellCombined.txt</td>\n",
       "      <td>The most important thing you can do as a business leader is find the right team to help you run your company  cofoun...</td>\n",
       "      <td>AlastairMitchell</td>\n",
       "      <td>M</td>\n",
       "      <td>Huddle</td>\n",
       "      <td>43</td>\n",
       "      <td>0</td>\n",
       "      <td>0</td>\n",
       "      <td>0</td>\n",
       "      <td>3</td>\n",
       "      <td>0</td>\n",
       "      <td>Technology</td>\n",
       "      <td>66.10</td>\n",
       "      <td>38.01</td>\n",
       "      <td>most important thing can do business leader be find right team help run  company cofounder manager director business...</td>\n",
       "    </tr>\n",
       "    <tr>\n",
       "      <th>100</th>\n",
       "      <td>ChristopherCabreraCombined.txt</td>\n",
       "      <td>welcome thanks for having me Gerhard always great to talk with you \\nwell there is a lot of exciting stuff happening...</td>\n",
       "      <td>ChristopherCabrera</td>\n",
       "      <td>M</td>\n",
       "      <td>Xactly</td>\n",
       "      <td>52</td>\n",
       "      <td>1</td>\n",
       "      <td>0</td>\n",
       "      <td>1</td>\n",
       "      <td>3</td>\n",
       "      <td>0</td>\n",
       "      <td>Technology</td>\n",
       "      <td>65.74</td>\n",
       "      <td>36.78</td>\n",
       "      <td>welcome thank have gerhard always great talk there be lot exciting stuff happen  dream force know be  launch company...</td>\n",
       "    </tr>\n",
       "    <tr>\n",
       "      <th>101</th>\n",
       "      <td>ChristopherJNassettaCombined.txt</td>\n",
       "      <td>We are indeed.\\n Well I think first of all its not a milestone that many companies get to celebrate. The list of co...</td>\n",
       "      <td>ChristopherJNassetta</td>\n",
       "      <td>M</td>\n",
       "      <td>Hilton Worldwide Holdings Inc</td>\n",
       "      <td>55</td>\n",
       "      <td>1</td>\n",
       "      <td>1</td>\n",
       "      <td>0</td>\n",
       "      <td>1</td>\n",
       "      <td>0</td>\n",
       "      <td>Consumer Discretionary</td>\n",
       "      <td>58.88</td>\n",
       "      <td>39.61</td>\n",
       "      <td>be indeed well think first all  not milestone many company get celebrate list company that make year old be pretty s...</td>\n",
       "    </tr>\n",
       "  </tbody>\n",
       "</table>\n",
       "</div>"
      ],
      "text/plain": [
       "                             filename  \\\n",
       "0               AaronBellCombined.txt   \n",
       "1              AaronLevieCombined.txt   \n",
       "10       AlastairMitchellCombined.txt   \n",
       "100    ChristopherCabreraCombined.txt   \n",
       "101  ChristopherJNassettaCombined.txt   \n",
       "\n",
       "                                                                                                                        text  \\\n",
       "0    Very well. Thanks for having me.\\nYeah. So a little bit about adroll. First of all we were founded in 2007 uh with a...   \n",
       "1     Oh boy.Wow. Did we kick off this show\\nThank you. I am glad that you re-professed your love for B2B. \\nYeah its bee...   \n",
       "10   The most important thing you can do as a business leader is find the right team to help you run your company  cofoun...   \n",
       "100  welcome thanks for having me Gerhard always great to talk with you \\nwell there is a lot of exciting stuff happening...   \n",
       "101   We are indeed.\\n Well I think first of all its not a milestone that many companies get to celebrate. The list of co...   \n",
       "\n",
       "                    Name  Gender                   Organization  Current Age  \\\n",
       "0              AaronBell       M                         AdRoll           42   \n",
       "1              AaronLevie      M                        Box Inc           33   \n",
       "10       AlastairMitchell      M                         Huddle           43   \n",
       "100    ChristopherCabrera      M                         Xactly           52   \n",
       "101  ChristopherJNassetta      M  Hilton Worldwide Holdings Inc           55   \n",
       "\n",
       "     NativeSpeaker  Traded  MBA  Sector_Grouped  Female  \\\n",
       "0                1       0    0               2       0   \n",
       "1                1       1    0               3       0   \n",
       "10               0       0    0               3       0   \n",
       "100              1       0    1               3       0   \n",
       "101              1       1    0               1       0   \n",
       "\n",
       "         Sector_Grouped_Dic  Femininity  Masculinity  \\\n",
       "0            Communications       64.47        38.83   \n",
       "1                Technology       63.35        37.73   \n",
       "10               Technology       66.10        38.01   \n",
       "100              Technology       65.74        36.78   \n",
       "101  Consumer Discretionary       58.88        39.61   \n",
       "\n",
       "                                                                                                             data_lemmatized  \n",
       "0    very well thank have so little bit adroll first be found mission bring advertising brand size back when start advert...  \n",
       "1    do kick show thank be glad re profess  love  be good few year obviously lot craziness  space probably just have go p...  \n",
       "10   most important thing can do business leader be find right team help run  company cofounder manager director business...  \n",
       "100  welcome thank have gerhard always great talk there be lot exciting stuff happen  dream force know be  launch company...  \n",
       "101  be indeed well think first all  not milestone many company get celebrate list company that make year old be pretty s...  "
      ]
     },
     "execution_count": 11,
     "metadata": {},
     "output_type": "execute_result"
    }
   ],
   "source": [
    "table.head()"
   ]
  },
  {
   "cell_type": "code",
   "execution_count": null,
   "metadata": {},
   "outputs": [],
   "source": []
  },
  {
   "cell_type": "code",
   "execution_count": null,
   "metadata": {},
   "outputs": [],
   "source": []
  },
  {
   "cell_type": "code",
   "execution_count": 12,
   "metadata": {},
   "outputs": [],
   "source": [
    "import re\n",
    "\n",
    "def generate_ngrams(s, n):\n",
    "    # Convert to lowercases\n",
    "    s = s.lower()\n",
    "    \n",
    "    # Replace all none alphanumeric characters with spaces\n",
    "    s = re.sub(r'[^a-zA-Z0-9\\s]', ' ', s)\n",
    "    \n",
    "    tokens = s.split(\" \") \n",
    "    \n",
    "    # Break sentence in the token, remove empty tokens\n",
    "    tokens = [token for token in s.split(\" \") if token != \"\"]\n",
    "    \n",
    "    # Use the zip function to help us generate n-grams\n",
    "    # Concatentate the tokens into ngrams and return\n",
    "    ngrams = zip(*[tokens[i:] for i in range(n)])\n",
    "    return [\" \".join(ngram) for ngram in ngrams]"
   ]
  },
  {
   "cell_type": "code",
   "execution_count": 13,
   "metadata": {},
   "outputs": [],
   "source": [
    "import re\n",
    "\n",
    "def generate_ngrams(s, n):\n",
    "    \n",
    "    # Break sentence in the token, remove empty tokens\n",
    "    tokens = [token for token in s.split(\" \") if token != \"\"]\n",
    "    \n",
    "    # Use the zip function to help us generate n-grams\n",
    "    # Concatentate the tokens into ngrams and return\n",
    "    ngrams = zip(*[tokens[i:] for i in range(n)])\n",
    "    return [\" \".join(ngram) for ngram in ngrams]"
   ]
  },
  {
   "cell_type": "code",
   "execution_count": 14,
   "metadata": {},
   "outputs": [],
   "source": [
    "speech = ' '.join(data_lemmatized)"
   ]
  },
  {
   "cell_type": "code",
   "execution_count": 15,
   "metadata": {},
   "outputs": [],
   "source": [
    "two_grams = generate_ngrams(speech, 2)"
   ]
  },
  {
   "cell_type": "code",
   "execution_count": 16,
   "metadata": {},
   "outputs": [],
   "source": [
    "two_grams.sort()"
   ]
  },
  {
   "cell_type": "code",
   "execution_count": 17,
   "metadata": {},
   "outputs": [],
   "source": [
    "from collections import Counter"
   ]
  },
  {
   "cell_type": "code",
   "execution_count": 18,
   "metadata": {},
   "outputs": [],
   "source": [
    "x = Counter(two_grams)"
   ]
  },
  {
   "cell_type": "code",
   "execution_count": 19,
   "metadata": {},
   "outputs": [
    {
     "data": {
      "text/plain": [
       "[('do not', 8739),\n",
       " ('there be', 5556),\n",
       " ('be not', 5289),\n",
       " ('that be', 4971),\n",
       " ('be go', 4442),\n",
       " ('what be', 3666),\n",
       " ('have be', 2857),\n",
       " ('who be', 2165),\n",
       " ('be be', 2081),\n",
       " ('be do', 2036),\n",
       " ('be really', 1941),\n",
       " ('be very', 1929),\n",
       " ('think be', 1774),\n",
       " ('when be', 1627),\n",
       " ('what do', 1598),\n",
       " ('people who', 1573),\n",
       " ('can not', 1540),\n",
       " ('not have', 1519),\n",
       " ('thing that', 1360),\n",
       " ('be just', 1356),\n",
       " ('have get', 1353),\n",
       " ('be good', 1309),\n",
       " ('go be', 1306),\n",
       " ('that have', 1289),\n",
       " ('do be', 1282),\n",
       " ('which be', 1253),\n",
       " ('be what', 1246),\n",
       " ('people be', 1245),\n",
       " ('be able', 1161),\n",
       " ('say be', 1157),\n",
       " ('not be', 1106),\n",
       " ('not know', 1084),\n",
       " ('thing be', 1073),\n",
       " ('how do', 1060),\n",
       " ('be so', 1048),\n",
       " ('know be', 975),\n",
       " ('have do', 953),\n",
       " ('so be', 943),\n",
       " ('kind of', 908),\n",
       " ('would be', 903),\n",
       " ('want be', 880),\n",
       " ('have have', 866),\n",
       " ('know what', 865),\n",
       " ('not go', 863),\n",
       " ('make sure', 793),\n",
       " ('be have', 755),\n",
       " ('can be', 754),\n",
       " ('company be', 748),\n",
       " ('be more', 738),\n",
       " ('will be', 728)]"
      ]
     },
     "execution_count": 19,
     "metadata": {},
     "output_type": "execute_result"
    }
   ],
   "source": [
    "x. most_common(50)"
   ]
  },
  {
   "cell_type": "code",
   "execution_count": null,
   "metadata": {},
   "outputs": [],
   "source": []
  },
  {
   "cell_type": "code",
   "execution_count": 20,
   "metadata": {},
   "outputs": [],
   "source": [
    "from sklearn.feature_extraction.text import CountVectorizer"
   ]
  },
  {
   "cell_type": "code",
   "execution_count": 21,
   "metadata": {},
   "outputs": [],
   "source": [
    "vectorizer = CountVectorizer(analyzer='word',\n",
    "                             ngram_range = (1, 3),\n",
    "                             min_df = 10,\n",
    "                             #max_df = 0.9, # minimum reqd occurences of a word \n",
    "                             stop_words='english',             # remove stop words\n",
    "                             lowercase=True,                   # convert all words to lowercase\n",
    "                             token_pattern='[a-zA-Z0-9]{3,}',  # num chars > 3\n",
    "                             # max_features=50000,             # max number of uniq words\n",
    "                            )"
   ]
  },
  {
   "cell_type": "code",
   "execution_count": 22,
   "metadata": {},
   "outputs": [],
   "source": [
    "data_vectorized = vectorizer.fit(data_lemmatized)"
   ]
  },
  {
   "cell_type": "code",
   "execution_count": 23,
   "metadata": {},
   "outputs": [
    {
     "data": {
      "text/plain": [
       "8896"
      ]
     },
     "execution_count": 23,
     "metadata": {},
     "output_type": "execute_result"
    }
   ],
   "source": [
    "len(data_vectorized.get_feature_names())"
   ]
  },
  {
   "cell_type": "code",
   "execution_count": 24,
   "metadata": {},
   "outputs": [],
   "source": [
    "review_word_counts = vectorizer.transform(data_lemmatized)"
   ]
  },
  {
   "cell_type": "code",
   "execution_count": 25,
   "metadata": {},
   "outputs": [],
   "source": [
    "from sklearn.naive_bayes import MultinomialNB"
   ]
  },
  {
   "cell_type": "code",
   "execution_count": 26,
   "metadata": {},
   "outputs": [],
   "source": [
    "nb_classifier = MultinomialNB()"
   ]
  },
  {
   "cell_type": "code",
   "execution_count": 27,
   "metadata": {},
   "outputs": [
    {
     "data": {
      "text/plain": [
       "MultinomialNB(alpha=1.0, class_prior=None, fit_prior=True)"
      ]
     },
     "execution_count": 27,
     "metadata": {},
     "output_type": "execute_result"
    }
   ],
   "source": [
    "nb_classifier.fit(review_word_counts, table['Female'])"
   ]
  },
  {
   "cell_type": "code",
   "execution_count": 28,
   "metadata": {},
   "outputs": [
    {
     "data": {
      "text/plain": [
       "array([[-10.77946658,  -7.21463977, -11.47261376, ...,  -9.62678707,\n",
       "         -8.74258465, -11.87807887]])"
      ]
     },
     "execution_count": 28,
     "metadata": {},
     "output_type": "execute_result"
    }
   ],
   "source": [
    "nb_classifier.coef_"
   ]
  },
  {
   "cell_type": "code",
   "execution_count": 29,
   "metadata": {},
   "outputs": [],
   "source": [
    "coeficients = pd.Series(nb_classifier.coef_[0], \n",
    "                        index=vectorizer.get_feature_names())"
   ]
  },
  {
   "cell_type": "code",
   "execution_count": 30,
   "metadata": {},
   "outputs": [
    {
     "data": {
      "text/plain": [
       "stuff want              -12.571226\n",
       "intellectual property   -12.571226\n",
       "mac                     -12.571226\n",
       "ford                    -12.571226\n",
       "recur                   -12.571226\n",
       "build software          -12.571226\n",
       "innovation happen       -12.571226\n",
       "lawn                    -12.571226\n",
       "thing tough             -12.571226\n",
       "share company           -12.571226\n",
       "samsung                 -12.571226\n",
       "care care               -12.571226\n",
       "illegal                 -12.571226\n",
       "horsepower              -12.571226\n",
       "human nature            -12.571226\n",
       "funny thing             -12.571226\n",
       "hack                    -12.571226\n",
       "unify                   -12.571226\n",
       "day new                 -12.571226\n",
       "solution just           -12.571226\n",
       "dtype: float64"
      ]
     },
     "execution_count": 30,
     "metadata": {},
     "output_type": "execute_result"
    }
   ],
   "source": [
    "coeficients.sort_values()[:20]"
   ]
  },
  {
   "cell_type": "code",
   "execution_count": 31,
   "metadata": {},
   "outputs": [
    {
     "data": {
      "text/plain": [
       "people     -4.126174\n",
       "think      -4.268217\n",
       "know       -4.311768\n",
       "really     -4.512582\n",
       "say        -4.540491\n",
       "work       -4.571212\n",
       "want       -4.684769\n",
       "just       -4.693829\n",
       "thing      -4.715294\n",
       "make       -4.752394\n",
       "time       -4.900798\n",
       "good       -4.948073\n",
       "company    -5.065184\n",
       "lot        -5.185375\n",
       "need       -5.227800\n",
       "come       -5.252024\n",
       "year       -5.258673\n",
       "way        -5.286405\n",
       "business   -5.341387\n",
       "look       -5.379044\n",
       "dtype: float64"
      ]
     },
     "execution_count": 31,
     "metadata": {},
     "output_type": "execute_result"
    }
   ],
   "source": [
    "coeficients.sort_values(ascending=False)[:20]"
   ]
  },
  {
   "cell_type": "code",
   "execution_count": 32,
   "metadata": {},
   "outputs": [],
   "source": [
    "import mglearn"
   ]
  },
  {
   "cell_type": "code",
   "execution_count": 33,
   "metadata": {},
   "outputs": [
    {
     "data": {
      "image/png": "[encoded data removed]",
      "text/plain": [
       "<Figure size 1080x360 with 1 Axes>"
      ]
     },
     "metadata": {},
     "output_type": "display_data"
    }
   ],
   "source": [
    "mglearn.tools.visualize_coefficients(nb_classifier.coef_[0], vectorizer.get_feature_names(), n_top_features=30)"
   ]
  },
  {
   "cell_type": "code",
   "execution_count": 34,
   "metadata": {},
   "outputs": [
    {
     "data": {
      "text/plain": [
       "array([0, 0, 0, 0, 0, 0, 0, 1, 1, 1, 1, 1, 0, 1, 0, 0, 0, 0, 0, 1, 0, 0,\n",
       "       0, 0, 1, 1, 1, 1, 0, 0, 0, 0, 0, 0, 0, 1, 0, 0, 0, 0, 0, 1, 1, 1,\n",
       "       1, 1, 0, 1, 1, 1, 1, 0, 1, 1, 0, 0, 0, 1, 0, 0, 0, 1, 1, 1, 0, 1,\n",
       "       1, 0, 1, 0, 0, 1, 1, 0, 1, 0, 1, 0, 0, 1, 1, 0, 1, 0, 0, 1, 0, 0,\n",
       "       1, 0, 0, 0, 0, 0, 0, 0, 0, 0, 1, 0, 0, 1, 1, 0, 0, 1, 0, 0, 0, 0,\n",
       "       1, 1, 1, 0, 0, 0, 0, 0, 1, 1, 1, 1, 1, 1, 0, 0, 0, 0, 0, 0, 0, 0,\n",
       "       0, 0, 0, 0, 1, 0, 1, 1, 1, 0, 0, 1, 1, 1, 0, 1, 0, 0, 0, 1, 1, 1,\n",
       "       1, 0, 0, 0, 0, 0, 0, 0, 0, 0, 0, 0, 0, 0, 0, 0, 0, 0, 0, 0, 0, 1,\n",
       "       0, 0, 0, 0, 1, 1, 1, 1, 1, 1, 1, 0, 0, 1, 1, 1, 1, 1, 1, 1, 1, 0,\n",
       "       1, 0, 0, 0, 0, 0, 1, 1, 0, 1, 0, 0, 0, 0, 0, 1, 1, 0, 0, 0, 1, 1,\n",
       "       0, 0, 0, 0, 1, 0, 1, 1, 1, 1, 0, 1, 1, 0, 1, 1, 1, 1, 1, 1, 1, 1,\n",
       "       1, 1, 1, 0, 1, 1, 1, 1, 0, 0, 0, 1, 0, 1, 1, 1, 1, 1, 0, 0, 1, 1,\n",
       "       1, 0, 0, 1, 0, 1, 1, 1, 1, 0, 0, 0, 0, 0, 0, 0, 1, 1, 1, 0, 0, 1,\n",
       "       1, 1, 0, 0, 0, 0, 0, 0, 1, 1, 0, 1, 0, 0, 1, 1, 1, 0, 1, 0, 1, 1,\n",
       "       1, 1, 0, 0, 0, 0, 0, 1, 1, 0, 1, 0, 0, 1, 1, 0, 0, 0, 0, 1, 1, 1,\n",
       "       0, 0, 1, 0, 0, 0, 0, 0, 0, 0, 0, 0, 0, 0, 1, 0, 1, 0, 0, 0, 0, 1,\n",
       "       1, 1, 0, 0, 0, 0, 0, 0, 0, 0, 0, 1, 0, 1, 0, 0, 1, 0, 0, 0, 1, 1,\n",
       "       0, 0, 0, 1, 1, 1, 1, 1, 1, 1, 0, 1, 0, 0, 0, 0, 1, 0, 1, 0, 1, 1,\n",
       "       1, 0, 1, 1, 1, 0, 1, 1, 0, 0, 1, 0, 1, 0, 0, 0, 1, 1, 0, 0, 0, 0,\n",
       "       1, 1, 0, 1, 1, 0, 1, 1, 1, 0, 0, 1, 1, 0, 0, 0, 0, 0, 1, 1, 0, 0,\n",
       "       0, 0, 0, 0, 0, 1, 0, 1, 1, 0, 1, 1, 1, 1, 0, 0, 1, 0, 0, 1, 1, 0,\n",
       "       0, 0, 1, 1, 0, 0, 1, 0, 0, 0, 0, 0, 0, 0, 0, 0, 1, 0, 0, 0, 1, 0,\n",
       "       0, 0, 0, 0, 0, 0, 0, 0, 0, 0, 0, 1, 0, 1, 0, 0, 0, 0, 1, 1, 1, 1,\n",
       "       0, 1, 1, 1, 1, 0, 0, 0, 0, 1, 0, 0, 0, 0, 1, 1], dtype=int64)"
      ]
     },
     "execution_count": 34,
     "metadata": {},
     "output_type": "execute_result"
    }
   ],
   "source": [
    "nb_classifier.predict(review_word_counts)"
   ]
  },
  {
   "cell_type": "code",
   "execution_count": 35,
   "metadata": {},
   "outputs": [],
   "source": [
    "table['prediction']  = nb_classifier.predict(review_word_counts)"
   ]
  },
  {
   "cell_type": "code",
   "execution_count": 36,
   "metadata": {},
   "outputs": [
    {
     "data": {
      "text/html": [
       "<div>\n",
       "<style scoped>\n",
       "    .dataframe tbody tr th:only-of-type {\n",
       "        vertical-align: middle;\n",
       "    }\n",
       "\n",
       "    .dataframe tbody tr th {\n",
       "        vertical-align: top;\n",
       "    }\n",
       "\n",
       "    .dataframe thead th {\n",
       "        text-align: right;\n",
       "    }\n",
       "</style>\n",
       "<table border=\"1\" class=\"dataframe\">\n",
       "  <thead>\n",
       "    <tr style=\"text-align: right;\">\n",
       "      <th>prediction</th>\n",
       "      <th>0</th>\n",
       "      <th>1</th>\n",
       "    </tr>\n",
       "    <tr>\n",
       "      <th>Female</th>\n",
       "      <th></th>\n",
       "      <th></th>\n",
       "    </tr>\n",
       "  </thead>\n",
       "  <tbody>\n",
       "    <tr>\n",
       "      <th>0</th>\n",
       "      <td>291</td>\n",
       "      <td>27</td>\n",
       "    </tr>\n",
       "    <tr>\n",
       "      <th>1</th>\n",
       "      <td>10</td>\n",
       "      <td>194</td>\n",
       "    </tr>\n",
       "  </tbody>\n",
       "</table>\n",
       "</div>"
      ],
      "text/plain": [
       "prediction    0    1\n",
       "Female              \n",
       "0           291   27\n",
       "1            10  194"
      ]
     },
     "execution_count": 36,
     "metadata": {},
     "output_type": "execute_result"
    }
   ],
   "source": [
    "pd.crosstab(table['Female'], table['prediction'])"
   ]
  },
  {
   "cell_type": "code",
   "execution_count": 37,
   "metadata": {},
   "outputs": [],
   "source": [
    "from sklearn.model_selection import train_test_split\n",
    "\n",
    "train, test = train_test_split(table, test_size=0.2)"
   ]
  },
  {
   "cell_type": "code",
   "execution_count": 38,
   "metadata": {},
   "outputs": [
    {
     "data": {
      "text/plain": [
       "417"
      ]
     },
     "execution_count": 38,
     "metadata": {},
     "output_type": "execute_result"
    }
   ],
   "source": [
    "len(train)"
   ]
  },
  {
   "cell_type": "code",
   "execution_count": 39,
   "metadata": {},
   "outputs": [
    {
     "data": {
      "text/plain": [
       "105"
      ]
     },
     "execution_count": 39,
     "metadata": {},
     "output_type": "execute_result"
    }
   ],
   "source": [
    "len(test)"
   ]
  },
  {
   "cell_type": "code",
   "execution_count": 40,
   "metadata": {},
   "outputs": [
    {
     "data": {
      "text/plain": [
       "CountVectorizer(analyzer='word', binary=False, decode_error='strict',\n",
       "        dtype=<class 'numpy.int64'>, encoding='utf-8', input='content',\n",
       "        lowercase=True, max_df=1.0, max_features=None, min_df=10,\n",
       "        ngram_range=(1, 3), preprocessor=None, stop_words='english',\n",
       "        strip_accents=None, token_pattern='[a-zA-Z0-9]{3,}',\n",
       "        tokenizer=None, vocabulary=None)"
      ]
     },
     "execution_count": 40,
     "metadata": {},
     "output_type": "execute_result"
    }
   ],
   "source": [
    "vectorizer.fit(train['data_lemmatized'])"
   ]
  },
  {
   "cell_type": "code",
   "execution_count": 41,
   "metadata": {},
   "outputs": [],
   "source": [
    "X_train = vectorizer.transform(train['data_lemmatized'])"
   ]
  },
  {
   "cell_type": "code",
   "execution_count": 42,
   "metadata": {},
   "outputs": [
    {
     "data": {
      "text/plain": [
       "MultinomialNB(alpha=1.0, class_prior=None, fit_prior=True)"
      ]
     },
     "execution_count": 42,
     "metadata": {},
     "output_type": "execute_result"
    }
   ],
   "source": [
    "nb_classifier.fit(X_train, train['Female'])"
   ]
  },
  {
   "cell_type": "code",
   "execution_count": 43,
   "metadata": {},
   "outputs": [],
   "source": [
    "from sklearn.metrics import classification_report, confusion_matrix, accuracy_score"
   ]
  },
  {
   "cell_type": "code",
   "execution_count": 44,
   "metadata": {},
   "outputs": [
    {
     "name": "stdout",
     "output_type": "stream",
     "text": [
      "0.9256594724220624\n"
     ]
    }
   ],
   "source": [
    "print(accuracy_score(train['Female'],\n",
    "                     nb_classifier.predict(X_train)))"
   ]
  },
  {
   "cell_type": "code",
   "execution_count": 45,
   "metadata": {},
   "outputs": [
    {
     "name": "stdout",
     "output_type": "stream",
     "text": [
      "[[238  24]\n",
      " [  7 148]]\n"
     ]
    }
   ],
   "source": [
    "print(confusion_matrix(train['Female'], \n",
    "                      nb_classifier.predict(X_train)))"
   ]
  },
  {
   "cell_type": "code",
   "execution_count": 46,
   "metadata": {},
   "outputs": [
    {
     "name": "stdout",
     "output_type": "stream",
     "text": [
      "              precision    recall  f1-score   support\n",
      "\n",
      "           0       0.97      0.91      0.94       262\n",
      "           1       0.86      0.95      0.91       155\n",
      "\n",
      "   micro avg       0.93      0.93      0.93       417\n",
      "   macro avg       0.92      0.93      0.92       417\n",
      "weighted avg       0.93      0.93      0.93       417\n",
      "\n"
     ]
    }
   ],
   "source": [
    "print(classification_report(train['Female'],\n",
    "                       nb_classifier.predict(X_train)))"
   ]
  },
  {
   "cell_type": "code",
   "execution_count": 47,
   "metadata": {},
   "outputs": [],
   "source": [
    "test_wf         = vectorizer.transform(test['data_lemmatized'])\n",
    "test_prediction = nb_classifier.predict(test_wf)"
   ]
  },
  {
   "cell_type": "code",
   "execution_count": 48,
   "metadata": {},
   "outputs": [
    {
     "name": "stdout",
     "output_type": "stream",
     "text": [
      "0.7523809523809524\n"
     ]
    }
   ],
   "source": [
    "print(accuracy_score(test['Female'], test_prediction))"
   ]
  },
  {
   "cell_type": "code",
   "execution_count": 49,
   "metadata": {},
   "outputs": [
    {
     "name": "stdout",
     "output_type": "stream",
     "text": [
      "              precision    recall  f1-score   support\n",
      "\n",
      "           0       0.74      0.82      0.78        56\n",
      "           1       0.77      0.67      0.72        49\n",
      "\n",
      "   micro avg       0.75      0.75      0.75       105\n",
      "   macro avg       0.75      0.75      0.75       105\n",
      "weighted avg       0.75      0.75      0.75       105\n",
      "\n"
     ]
    }
   ],
   "source": [
    "print(classification_report(test['Female'], test_prediction))"
   ]
  },
  {
   "cell_type": "code",
   "execution_count": null,
   "metadata": {},
   "outputs": [],
   "source": []
  },
  {
   "cell_type": "code",
   "execution_count": 50,
   "metadata": {},
   "outputs": [],
   "source": [
    "X = table.data_lemmatized\n",
    "y = table.Female"
   ]
  },
  {
   "cell_type": "code",
   "execution_count": 51,
   "metadata": {},
   "outputs": [
    {
     "name": "stdout",
     "output_type": "stream",
     "text": [
      "(522,)\n",
      "(522,)\n"
     ]
    }
   ],
   "source": [
    "print(X.shape)\n",
    "print(y.shape)"
   ]
  },
  {
   "cell_type": "code",
   "execution_count": 52,
   "metadata": {},
   "outputs": [
    {
     "name": "stdout",
     "output_type": "stream",
     "text": [
      "(391,)\n",
      "(131,)\n",
      "(391,)\n",
      "(131,)\n"
     ]
    }
   ],
   "source": [
    "from sklearn.model_selection import train_test_split\n",
    "X_train, X_test, y_train, y_test = train_test_split(X, y, random_state = 1)\n",
    "print(X_train.shape)\n",
    "print(X_test.shape)\n",
    "print(y_train.shape)\n",
    "print(y_test.shape)"
   ]
  },
  {
   "cell_type": "code",
   "execution_count": 53,
   "metadata": {},
   "outputs": [
    {
     "data": {
      "text/plain": [
       "CountVectorizer(analyzer='word', binary=False, decode_error='strict',\n",
       "        dtype=<class 'numpy.int64'>, encoding='utf-8', input='content',\n",
       "        lowercase=True, max_df=1.0, max_features=None, min_df=10,\n",
       "        ngram_range=(1, 3), preprocessor=None, stop_words='english',\n",
       "        strip_accents=None, token_pattern='[a-zA-Z0-9]{3,}',\n",
       "        tokenizer=None, vocabulary=None)"
      ]
     },
     "execution_count": 53,
     "metadata": {},
     "output_type": "execute_result"
    }
   ],
   "source": [
    "vectorizer.fit(X_train)"
   ]
  },
  {
   "cell_type": "code",
   "execution_count": 54,
   "metadata": {},
   "outputs": [],
   "source": [
    "X_train_dtm = vectorizer.transform(X_train)"
   ]
  },
  {
   "cell_type": "code",
   "execution_count": 55,
   "metadata": {},
   "outputs": [],
   "source": [
    "X_train_dtm = vectorizer.fit_transform(X_train)"
   ]
  },
  {
   "cell_type": "code",
   "execution_count": 56,
   "metadata": {},
   "outputs": [],
   "source": [
    "X_test_dtm = vectorizer.transform(X_test)"
   ]
  },
  {
   "cell_type": "code",
   "execution_count": 57,
   "metadata": {},
   "outputs": [],
   "source": [
    "from sklearn.naive_bayes import MultinomialNB\n",
    "nb = MultinomialNB()"
   ]
  },
  {
   "cell_type": "code",
   "execution_count": 58,
   "metadata": {},
   "outputs": [
    {
     "data": {
      "text/plain": [
       "MultinomialNB(alpha=1.0, class_prior=None, fit_prior=True)"
      ]
     },
     "execution_count": 58,
     "metadata": {},
     "output_type": "execute_result"
    }
   ],
   "source": [
    "nb.fit(X_train_dtm, y_train)"
   ]
  },
  {
   "cell_type": "code",
   "execution_count": 59,
   "metadata": {},
   "outputs": [],
   "source": [
    "y_pred_class = nb.predict(X_test_dtm)"
   ]
  },
  {
   "cell_type": "code",
   "execution_count": 60,
   "metadata": {},
   "outputs": [
    {
     "data": {
      "text/plain": [
       "0.7786259541984732"
      ]
     },
     "execution_count": 60,
     "metadata": {},
     "output_type": "execute_result"
    }
   ],
   "source": [
    "from sklearn import metrics\n",
    "metrics.accuracy_score(y_test, y_pred_class)"
   ]
  },
  {
   "cell_type": "code",
   "execution_count": 61,
   "metadata": {},
   "outputs": [
    {
     "data": {
      "text/plain": [
       "array([[64, 15],\n",
       "       [14, 38]], dtype=int64)"
      ]
     },
     "execution_count": 61,
     "metadata": {},
     "output_type": "execute_result"
    }
   ],
   "source": [
    "metrics.confusion_matrix(y_test, y_pred_class)"
   ]
  },
  {
   "cell_type": "code",
   "execution_count": 62,
   "metadata": {},
   "outputs": [],
   "source": [
    "y_pred_prob = nb.predict_proba(X_test_dtm)[:, 1]"
   ]
  },
  {
   "cell_type": "code",
   "execution_count": 63,
   "metadata": {},
   "outputs": [
    {
     "data": {
      "text/plain": [
       "0.8392161635832522"
      ]
     },
     "execution_count": 63,
     "metadata": {},
     "output_type": "execute_result"
    }
   ],
   "source": [
    "metrics.roc_auc_score(y_test, y_pred_prob)"
   ]
  },
  {
   "cell_type": "code",
   "execution_count": 64,
   "metadata": {},
   "outputs": [],
   "source": [
    "from sklearn.linear_model import LogisticRegression \n",
    "logreg = LogisticRegression()"
   ]
  },
  {
   "cell_type": "code",
   "execution_count": 65,
   "metadata": {},
   "outputs": [
    {
     "name": "stderr",
     "output_type": "stream",
     "text": [
      "C:\\Users\\2918261\\AppData\\Local\\Continuum\\anaconda3\\lib\\site-packages\\sklearn\\linear_model\\logistic.py:433: FutureWarning: Default solver will be changed to 'lbfgs' in 0.22. Specify a solver to silence this warning.\n",
      "  FutureWarning)\n"
     ]
    },
    {
     "data": {
      "text/plain": [
       "LogisticRegression(C=1.0, class_weight=None, dual=False, fit_intercept=True,\n",
       "          intercept_scaling=1, max_iter=100, multi_class='warn',\n",
       "          n_jobs=None, penalty='l2', random_state=None, solver='warn',\n",
       "          tol=0.0001, verbose=0, warm_start=False)"
      ]
     },
     "execution_count": 65,
     "metadata": {},
     "output_type": "execute_result"
    }
   ],
   "source": [
    "logreg.fit(X_train_dtm, y_train)"
   ]
  },
  {
   "cell_type": "code",
   "execution_count": 66,
   "metadata": {},
   "outputs": [],
   "source": [
    "y_pred_class = logreg.predict(X_test_dtm)"
   ]
  },
  {
   "cell_type": "code",
   "execution_count": 67,
   "metadata": {},
   "outputs": [],
   "source": [
    "y_pred_prob = logreg.predict_proba(X_test_dtm)[:, 1] "
   ]
  },
  {
   "cell_type": "code",
   "execution_count": 68,
   "metadata": {},
   "outputs": [
    {
     "data": {
      "text/plain": [
       "0.8015267175572519"
      ]
     },
     "execution_count": 68,
     "metadata": {},
     "output_type": "execute_result"
    }
   ],
   "source": [
    "metrics.accuracy_score(y_test, y_pred_class)"
   ]
  },
  {
   "cell_type": "code",
   "execution_count": 69,
   "metadata": {},
   "outputs": [
    {
     "data": {
      "text/plain": [
       "0.875365141187926"
      ]
     },
     "execution_count": 69,
     "metadata": {},
     "output_type": "execute_result"
    }
   ],
   "source": [
    "metrics.roc_auc_score(y_test, y_pred_prob)"
   ]
  },
  {
   "cell_type": "code",
   "execution_count": 70,
   "metadata": {},
   "outputs": [
    {
     "data": {
      "text/plain": [
       "6599"
      ]
     },
     "execution_count": 70,
     "metadata": {},
     "output_type": "execute_result"
    }
   ],
   "source": [
    "X_train_tokens = vectorizer.get_feature_names()\n",
    "len(X_train_tokens)"
   ]
  },
  {
   "cell_type": "code",
   "execution_count": 71,
   "metadata": {},
   "outputs": [],
   "source": [
    "female_token_count = nb.feature_count_[1, :]"
   ]
  },
  {
   "cell_type": "code",
   "execution_count": 72,
   "metadata": {},
   "outputs": [],
   "source": [
    "male_token_count = nb.feature_count_[0, :]"
   ]
  },
  {
   "cell_type": "code",
   "execution_count": 73,
   "metadata": {},
   "outputs": [],
   "source": [
    "tokens = pd.DataFrame({'token': X_train_tokens, 'female': female_token_count, 'male': male_token_count})"
   ]
  },
  {
   "cell_type": "code",
   "execution_count": 74,
   "metadata": {},
   "outputs": [
    {
     "data": {
      "text/html": [
       "<div>\n",
       "<style scoped>\n",
       "    .dataframe tbody tr th:only-of-type {\n",
       "        vertical-align: middle;\n",
       "    }\n",
       "\n",
       "    .dataframe tbody tr th {\n",
       "        vertical-align: top;\n",
       "    }\n",
       "\n",
       "    .dataframe thead th {\n",
       "        text-align: right;\n",
       "    }\n",
       "</style>\n",
       "<table border=\"1\" class=\"dataframe\">\n",
       "  <thead>\n",
       "    <tr style=\"text-align: right;\">\n",
       "      <th></th>\n",
       "      <th>token</th>\n",
       "      <th>female</th>\n",
       "      <th>male</th>\n",
       "    </tr>\n",
       "  </thead>\n",
       "  <tbody>\n",
       "    <tr>\n",
       "      <th>0</th>\n",
       "      <td>ability</td>\n",
       "      <td>158.0</td>\n",
       "      <td>258.0</td>\n",
       "    </tr>\n",
       "    <tr>\n",
       "      <th>1</th>\n",
       "      <td>ability listen</td>\n",
       "      <td>1.0</td>\n",
       "      <td>11.0</td>\n",
       "    </tr>\n",
       "    <tr>\n",
       "      <th>2</th>\n",
       "      <td>able</td>\n",
       "      <td>358.0</td>\n",
       "      <td>518.0</td>\n",
       "    </tr>\n",
       "    <tr>\n",
       "      <th>3</th>\n",
       "      <td>able build</td>\n",
       "      <td>4.0</td>\n",
       "      <td>6.0</td>\n",
       "    </tr>\n",
       "    <tr>\n",
       "      <th>4</th>\n",
       "      <td>able come</td>\n",
       "      <td>6.0</td>\n",
       "      <td>6.0</td>\n",
       "    </tr>\n",
       "  </tbody>\n",
       "</table>\n",
       "</div>"
      ],
      "text/plain": [
       "            token  female   male\n",
       "0         ability   158.0  258.0\n",
       "1  ability listen     1.0   11.0\n",
       "2            able   358.0  518.0\n",
       "3      able build     4.0    6.0\n",
       "4       able come     6.0    6.0"
      ]
     },
     "execution_count": 74,
     "metadata": {},
     "output_type": "execute_result"
    }
   ],
   "source": [
    "tokens.head()"
   ]
  },
  {
   "cell_type": "code",
   "execution_count": 75,
   "metadata": {},
   "outputs": [
    {
     "data": {
      "text/html": [
       "<div>\n",
       "<style scoped>\n",
       "    .dataframe tbody tr th:only-of-type {\n",
       "        vertical-align: middle;\n",
       "    }\n",
       "\n",
       "    .dataframe tbody tr th {\n",
       "        vertical-align: top;\n",
       "    }\n",
       "\n",
       "    .dataframe thead th {\n",
       "        text-align: right;\n",
       "    }\n",
       "</style>\n",
       "<table border=\"1\" class=\"dataframe\">\n",
       "  <thead>\n",
       "    <tr style=\"text-align: right;\">\n",
       "      <th></th>\n",
       "      <th>token</th>\n",
       "      <th>female</th>\n",
       "      <th>male</th>\n",
       "    </tr>\n",
       "  </thead>\n",
       "  <tbody>\n",
       "    <tr>\n",
       "      <th>5220</th>\n",
       "      <td>spot</td>\n",
       "      <td>0.190789</td>\n",
       "      <td>0.351464</td>\n",
       "    </tr>\n",
       "    <tr>\n",
       "      <th>307</th>\n",
       "      <td>aware</td>\n",
       "      <td>0.328947</td>\n",
       "      <td>0.263598</td>\n",
       "    </tr>\n",
       "    <tr>\n",
       "      <th>3165</th>\n",
       "      <td>look company</td>\n",
       "      <td>0.019737</td>\n",
       "      <td>0.071130</td>\n",
       "    </tr>\n",
       "    <tr>\n",
       "      <th>1134</th>\n",
       "      <td>crash</td>\n",
       "      <td>0.072368</td>\n",
       "      <td>0.092050</td>\n",
       "    </tr>\n",
       "    <tr>\n",
       "      <th>5937</th>\n",
       "      <td>transaction</td>\n",
       "      <td>0.118421</td>\n",
       "      <td>0.209205</td>\n",
       "    </tr>\n",
       "  </tbody>\n",
       "</table>\n",
       "</div>"
      ],
      "text/plain": [
       "             token    female      male\n",
       "5220          spot  0.190789  0.351464\n",
       "307          aware  0.328947  0.263598\n",
       "3165  look company  0.019737  0.071130\n",
       "1134         crash  0.072368  0.092050\n",
       "5937   transaction  0.118421  0.209205"
      ]
     },
     "execution_count": 75,
     "metadata": {},
     "output_type": "execute_result"
    }
   ],
   "source": [
    "# convert the female and male counts into frequencies \n",
    "tokens['female'] = tokens.female / nb.class_count_[1]\n",
    "tokens['male']   = tokens.male / nb.class_count_[0]\n",
    "tokens.sample(5)"
   ]
  },
  {
   "cell_type": "code",
   "execution_count": 76,
   "metadata": {},
   "outputs": [
    {
     "data": {
      "text/html": [
       "<div>\n",
       "<style scoped>\n",
       "    .dataframe tbody tr th:only-of-type {\n",
       "        vertical-align: middle;\n",
       "    }\n",
       "\n",
       "    .dataframe tbody tr th {\n",
       "        vertical-align: top;\n",
       "    }\n",
       "\n",
       "    .dataframe thead th {\n",
       "        text-align: right;\n",
       "    }\n",
       "</style>\n",
       "<table border=\"1\" class=\"dataframe\">\n",
       "  <thead>\n",
       "    <tr style=\"text-align: right;\">\n",
       "      <th></th>\n",
       "      <th>token</th>\n",
       "      <th>female</th>\n",
       "      <th>male</th>\n",
       "      <th>female_ratio</th>\n",
       "    </tr>\n",
       "  </thead>\n",
       "  <tbody>\n",
       "    <tr>\n",
       "      <th>4891</th>\n",
       "      <td>say think</td>\n",
       "      <td>0.348684</td>\n",
       "      <td>0.389121</td>\n",
       "      <td>0.896081</td>\n",
       "    </tr>\n",
       "    <tr>\n",
       "      <th>6065</th>\n",
       "      <td>united</td>\n",
       "      <td>0.250000</td>\n",
       "      <td>0.502092</td>\n",
       "      <td>0.497917</td>\n",
       "    </tr>\n",
       "    <tr>\n",
       "      <th>1419</th>\n",
       "      <td>dirty</td>\n",
       "      <td>0.039474</td>\n",
       "      <td>0.041841</td>\n",
       "      <td>0.943421</td>\n",
       "    </tr>\n",
       "    <tr>\n",
       "      <th>5626</th>\n",
       "      <td>thing job</td>\n",
       "      <td>0.019737</td>\n",
       "      <td>0.041841</td>\n",
       "      <td>0.471711</td>\n",
       "    </tr>\n",
       "    <tr>\n",
       "      <th>5124</th>\n",
       "      <td>small company</td>\n",
       "      <td>0.078947</td>\n",
       "      <td>0.150628</td>\n",
       "      <td>0.524123</td>\n",
       "    </tr>\n",
       "  </tbody>\n",
       "</table>\n",
       "</div>"
      ],
      "text/plain": [
       "              token    female      male  female_ratio\n",
       "4891      say think  0.348684  0.389121      0.896081\n",
       "6065         united  0.250000  0.502092      0.497917\n",
       "1419          dirty  0.039474  0.041841      0.943421\n",
       "5626      thing job  0.019737  0.041841      0.471711\n",
       "5124  small company  0.078947  0.150628      0.524123"
      ]
     },
     "execution_count": 76,
     "metadata": {},
     "output_type": "execute_result"
    }
   ],
   "source": [
    "# calculate the ratio of female to male for each token \n",
    "tokens['female_ratio'] = tokens.female/tokens.male\n",
    "tokens.sample(5)"
   ]
  },
  {
   "cell_type": "code",
   "execution_count": 77,
   "metadata": {},
   "outputs": [
    {
     "data": {
      "text/html": [
       "<div>\n",
       "<style scoped>\n",
       "    .dataframe tbody tr th:only-of-type {\n",
       "        vertical-align: middle;\n",
       "    }\n",
       "\n",
       "    .dataframe tbody tr th {\n",
       "        vertical-align: top;\n",
       "    }\n",
       "\n",
       "    .dataframe thead th {\n",
       "        text-align: right;\n",
       "    }\n",
       "</style>\n",
       "<table border=\"1\" class=\"dataframe\">\n",
       "  <thead>\n",
       "    <tr style=\"text-align: right;\">\n",
       "      <th></th>\n",
       "      <th>token</th>\n",
       "      <th>female</th>\n",
       "      <th>male</th>\n",
       "      <th>female_ratio</th>\n",
       "    </tr>\n",
       "  </thead>\n",
       "  <tbody>\n",
       "    <tr>\n",
       "      <th>5786</th>\n",
       "      <td>think woman</td>\n",
       "      <td>0.203947</td>\n",
       "      <td>0.000000</td>\n",
       "      <td>inf</td>\n",
       "    </tr>\n",
       "    <tr>\n",
       "      <th>6483</th>\n",
       "      <td>work woman</td>\n",
       "      <td>0.072368</td>\n",
       "      <td>0.000000</td>\n",
       "      <td>inf</td>\n",
       "    </tr>\n",
       "    <tr>\n",
       "      <th>1551</th>\n",
       "      <td>eighth</td>\n",
       "      <td>0.092105</td>\n",
       "      <td>0.000000</td>\n",
       "      <td>inf</td>\n",
       "    </tr>\n",
       "    <tr>\n",
       "      <th>6595</th>\n",
       "      <td>young woman</td>\n",
       "      <td>0.243421</td>\n",
       "      <td>0.004184</td>\n",
       "      <td>58.177632</td>\n",
       "    </tr>\n",
       "    <tr>\n",
       "      <th>6396</th>\n",
       "      <td>woman work</td>\n",
       "      <td>0.125000</td>\n",
       "      <td>0.004184</td>\n",
       "      <td>29.875000</td>\n",
       "    </tr>\n",
       "    <tr>\n",
       "      <th>3246</th>\n",
       "      <td>lot woman</td>\n",
       "      <td>0.105263</td>\n",
       "      <td>0.004184</td>\n",
       "      <td>25.157895</td>\n",
       "    </tr>\n",
       "    <tr>\n",
       "      <th>4116</th>\n",
       "      <td>pet</td>\n",
       "      <td>0.092105</td>\n",
       "      <td>0.004184</td>\n",
       "      <td>22.013158</td>\n",
       "    </tr>\n",
       "    <tr>\n",
       "      <th>6389</th>\n",
       "      <td>woman know</td>\n",
       "      <td>0.092105</td>\n",
       "      <td>0.004184</td>\n",
       "      <td>22.013158</td>\n",
       "    </tr>\n",
       "    <tr>\n",
       "      <th>6393</th>\n",
       "      <td>woman start</td>\n",
       "      <td>0.078947</td>\n",
       "      <td>0.004184</td>\n",
       "      <td>18.868421</td>\n",
       "    </tr>\n",
       "    <tr>\n",
       "      <th>6391</th>\n",
       "      <td>woman need</td>\n",
       "      <td>0.059211</td>\n",
       "      <td>0.004184</td>\n",
       "      <td>14.151316</td>\n",
       "    </tr>\n",
       "    <tr>\n",
       "      <th>6395</th>\n",
       "      <td>woman woman</td>\n",
       "      <td>0.111842</td>\n",
       "      <td>0.008368</td>\n",
       "      <td>13.365132</td>\n",
       "    </tr>\n",
       "    <tr>\n",
       "      <th>2409</th>\n",
       "      <td>husband</td>\n",
       "      <td>0.532895</td>\n",
       "      <td>0.041841</td>\n",
       "      <td>12.736184</td>\n",
       "    </tr>\n",
       "    <tr>\n",
       "      <th>4900</th>\n",
       "      <td>say woman</td>\n",
       "      <td>0.105263</td>\n",
       "      <td>0.008368</td>\n",
       "      <td>12.578947</td>\n",
       "    </tr>\n",
       "    <tr>\n",
       "      <th>3414</th>\n",
       "      <td>mary</td>\n",
       "      <td>0.098684</td>\n",
       "      <td>0.008368</td>\n",
       "      <td>11.792763</td>\n",
       "    </tr>\n",
       "    <tr>\n",
       "      <th>3370</th>\n",
       "      <td>makeup</td>\n",
       "      <td>0.131579</td>\n",
       "      <td>0.012552</td>\n",
       "      <td>10.482456</td>\n",
       "    </tr>\n",
       "    <tr>\n",
       "      <th>2296</th>\n",
       "      <td>heel</td>\n",
       "      <td>0.085526</td>\n",
       "      <td>0.008368</td>\n",
       "      <td>10.220395</td>\n",
       "    </tr>\n",
       "    <tr>\n",
       "      <th>2785</th>\n",
       "      <td>just woman</td>\n",
       "      <td>0.085526</td>\n",
       "      <td>0.008368</td>\n",
       "      <td>10.220395</td>\n",
       "    </tr>\n",
       "    <tr>\n",
       "      <th>5183</th>\n",
       "      <td>soup</td>\n",
       "      <td>0.085526</td>\n",
       "      <td>0.008368</td>\n",
       "      <td>10.220395</td>\n",
       "    </tr>\n",
       "    <tr>\n",
       "      <th>6056</th>\n",
       "      <td>unexpected</td>\n",
       "      <td>0.118421</td>\n",
       "      <td>0.012552</td>\n",
       "      <td>9.434211</td>\n",
       "    </tr>\n",
       "    <tr>\n",
       "      <th>5021</th>\n",
       "      <td>sexual</td>\n",
       "      <td>0.197368</td>\n",
       "      <td>0.020921</td>\n",
       "      <td>9.434211</td>\n",
       "    </tr>\n",
       "    <tr>\n",
       "      <th>2801</th>\n",
       "      <td>kid really</td>\n",
       "      <td>0.078947</td>\n",
       "      <td>0.008368</td>\n",
       "      <td>9.434211</td>\n",
       "    </tr>\n",
       "    <tr>\n",
       "      <th>1859</th>\n",
       "      <td>female</td>\n",
       "      <td>0.769737</td>\n",
       "      <td>0.083682</td>\n",
       "      <td>9.198355</td>\n",
       "    </tr>\n",
       "    <tr>\n",
       "      <th>365</th>\n",
       "      <td>beauty</td>\n",
       "      <td>0.697368</td>\n",
       "      <td>0.079498</td>\n",
       "      <td>8.772161</td>\n",
       "    </tr>\n",
       "    <tr>\n",
       "      <th>3085</th>\n",
       "      <td>life say</td>\n",
       "      <td>0.072368</td>\n",
       "      <td>0.008368</td>\n",
       "      <td>8.648026</td>\n",
       "    </tr>\n",
       "    <tr>\n",
       "      <th>2368</th>\n",
       "      <td>home work</td>\n",
       "      <td>0.072368</td>\n",
       "      <td>0.008368</td>\n",
       "      <td>8.648026</td>\n",
       "    </tr>\n",
       "    <tr>\n",
       "      <th>6388</th>\n",
       "      <td>woman</td>\n",
       "      <td>5.361842</td>\n",
       "      <td>0.661088</td>\n",
       "      <td>8.110635</td>\n",
       "    </tr>\n",
       "    <tr>\n",
       "      <th>3488</th>\n",
       "      <td>merchandise</td>\n",
       "      <td>0.131579</td>\n",
       "      <td>0.016736</td>\n",
       "      <td>7.861842</td>\n",
       "    </tr>\n",
       "    <tr>\n",
       "      <th>2051</th>\n",
       "      <td>good boss</td>\n",
       "      <td>0.065789</td>\n",
       "      <td>0.008368</td>\n",
       "      <td>7.861842</td>\n",
       "    </tr>\n",
       "    <tr>\n",
       "      <th>6390</th>\n",
       "      <td>woman man</td>\n",
       "      <td>0.125000</td>\n",
       "      <td>0.016736</td>\n",
       "      <td>7.468750</td>\n",
       "    </tr>\n",
       "    <tr>\n",
       "      <th>2683</th>\n",
       "      <td>job start</td>\n",
       "      <td>0.059211</td>\n",
       "      <td>0.008368</td>\n",
       "      <td>7.075658</td>\n",
       "    </tr>\n",
       "    <tr>\n",
       "      <th>...</th>\n",
       "      <td>...</td>\n",
       "      <td>...</td>\n",
       "      <td>...</td>\n",
       "      <td>...</td>\n",
       "    </tr>\n",
       "    <tr>\n",
       "      <th>6034</th>\n",
       "      <td>unbelievably</td>\n",
       "      <td>0.006579</td>\n",
       "      <td>0.079498</td>\n",
       "      <td>0.082756</td>\n",
       "    </tr>\n",
       "    <tr>\n",
       "      <th>6091</th>\n",
       "      <td>use product</td>\n",
       "      <td>0.006579</td>\n",
       "      <td>0.083682</td>\n",
       "      <td>0.078618</td>\n",
       "    </tr>\n",
       "    <tr>\n",
       "      <th>5140</th>\n",
       "      <td>smoke</td>\n",
       "      <td>0.006579</td>\n",
       "      <td>0.087866</td>\n",
       "      <td>0.074875</td>\n",
       "    </tr>\n",
       "    <tr>\n",
       "      <th>805</th>\n",
       "      <td>cloud</td>\n",
       "      <td>0.059211</td>\n",
       "      <td>0.794979</td>\n",
       "      <td>0.074481</td>\n",
       "    </tr>\n",
       "    <tr>\n",
       "      <th>4799</th>\n",
       "      <td>sale rep</td>\n",
       "      <td>0.006579</td>\n",
       "      <td>0.100418</td>\n",
       "      <td>0.065515</td>\n",
       "    </tr>\n",
       "    <tr>\n",
       "      <th>3776</th>\n",
       "      <td>open source</td>\n",
       "      <td>0.013158</td>\n",
       "      <td>0.200837</td>\n",
       "      <td>0.065515</td>\n",
       "    </tr>\n",
       "    <tr>\n",
       "      <th>5963</th>\n",
       "      <td>triple</td>\n",
       "      <td>0.006579</td>\n",
       "      <td>0.100418</td>\n",
       "      <td>0.065515</td>\n",
       "    </tr>\n",
       "    <tr>\n",
       "      <th>2000</th>\n",
       "      <td>gaming</td>\n",
       "      <td>0.006579</td>\n",
       "      <td>0.104603</td>\n",
       "      <td>0.062895</td>\n",
       "    </tr>\n",
       "    <tr>\n",
       "      <th>2136</th>\n",
       "      <td>graphic</td>\n",
       "      <td>0.006579</td>\n",
       "      <td>0.104603</td>\n",
       "      <td>0.062895</td>\n",
       "    </tr>\n",
       "    <tr>\n",
       "      <th>4801</th>\n",
       "      <td>salesforce</td>\n",
       "      <td>0.006579</td>\n",
       "      <td>0.104603</td>\n",
       "      <td>0.062895</td>\n",
       "    </tr>\n",
       "    <tr>\n",
       "      <th>5304</th>\n",
       "      <td>steve job</td>\n",
       "      <td>0.006579</td>\n",
       "      <td>0.125523</td>\n",
       "      <td>0.052412</td>\n",
       "    </tr>\n",
       "    <tr>\n",
       "      <th>794</th>\n",
       "      <td>climate change</td>\n",
       "      <td>0.006579</td>\n",
       "      <td>0.125523</td>\n",
       "      <td>0.052412</td>\n",
       "    </tr>\n",
       "    <tr>\n",
       "      <th>5947</th>\n",
       "      <td>transportation</td>\n",
       "      <td>0.006579</td>\n",
       "      <td>0.129707</td>\n",
       "      <td>0.050722</td>\n",
       "    </tr>\n",
       "    <tr>\n",
       "      <th>1008</th>\n",
       "      <td>computing</td>\n",
       "      <td>0.006579</td>\n",
       "      <td>0.154812</td>\n",
       "      <td>0.042496</td>\n",
       "    </tr>\n",
       "    <tr>\n",
       "      <th>4327</th>\n",
       "      <td>product company</td>\n",
       "      <td>0.000000</td>\n",
       "      <td>0.050209</td>\n",
       "      <td>0.000000</td>\n",
       "    </tr>\n",
       "    <tr>\n",
       "      <th>575</th>\n",
       "      <td>business decision</td>\n",
       "      <td>0.000000</td>\n",
       "      <td>0.050209</td>\n",
       "      <td>0.000000</td>\n",
       "    </tr>\n",
       "    <tr>\n",
       "      <th>175</th>\n",
       "      <td>answer people</td>\n",
       "      <td>0.000000</td>\n",
       "      <td>0.046025</td>\n",
       "      <td>0.000000</td>\n",
       "    </tr>\n",
       "    <tr>\n",
       "      <th>1580</th>\n",
       "      <td>employee company</td>\n",
       "      <td>0.000000</td>\n",
       "      <td>0.071130</td>\n",
       "      <td>0.000000</td>\n",
       "    </tr>\n",
       "    <tr>\n",
       "      <th>6494</th>\n",
       "      <td>world big</td>\n",
       "      <td>0.000000</td>\n",
       "      <td>0.054393</td>\n",
       "      <td>0.000000</td>\n",
       "    </tr>\n",
       "    <tr>\n",
       "      <th>546</th>\n",
       "      <td>build software</td>\n",
       "      <td>0.000000</td>\n",
       "      <td>0.058577</td>\n",
       "      <td>0.000000</td>\n",
       "    </tr>\n",
       "    <tr>\n",
       "      <th>3288</th>\n",
       "      <td>make bad</td>\n",
       "      <td>0.000000</td>\n",
       "      <td>0.054393</td>\n",
       "      <td>0.000000</td>\n",
       "    </tr>\n",
       "    <tr>\n",
       "      <th>5352</th>\n",
       "      <td>stuff want</td>\n",
       "      <td>0.000000</td>\n",
       "      <td>0.054393</td>\n",
       "      <td>0.000000</td>\n",
       "    </tr>\n",
       "    <tr>\n",
       "      <th>2336</th>\n",
       "      <td>high tech</td>\n",
       "      <td>0.000000</td>\n",
       "      <td>0.054393</td>\n",
       "      <td>0.000000</td>\n",
       "    </tr>\n",
       "    <tr>\n",
       "      <th>4544</th>\n",
       "      <td>really simple</td>\n",
       "      <td>0.000000</td>\n",
       "      <td>0.046025</td>\n",
       "      <td>0.000000</td>\n",
       "    </tr>\n",
       "    <tr>\n",
       "      <th>5658</th>\n",
       "      <td>thing sort</td>\n",
       "      <td>0.000000</td>\n",
       "      <td>0.071130</td>\n",
       "      <td>0.000000</td>\n",
       "    </tr>\n",
       "    <tr>\n",
       "      <th>3425</th>\n",
       "      <td>matter good</td>\n",
       "      <td>0.000000</td>\n",
       "      <td>0.041841</td>\n",
       "      <td>0.000000</td>\n",
       "    </tr>\n",
       "    <tr>\n",
       "      <th>2962</th>\n",
       "      <td>lawn</td>\n",
       "      <td>0.000000</td>\n",
       "      <td>0.075314</td>\n",
       "      <td>0.000000</td>\n",
       "    </tr>\n",
       "    <tr>\n",
       "      <th>5436</th>\n",
       "      <td>symbol</td>\n",
       "      <td>0.000000</td>\n",
       "      <td>0.062762</td>\n",
       "      <td>0.000000</td>\n",
       "    </tr>\n",
       "    <tr>\n",
       "      <th>3972</th>\n",
       "      <td>people line</td>\n",
       "      <td>0.000000</td>\n",
       "      <td>0.050209</td>\n",
       "      <td>0.000000</td>\n",
       "    </tr>\n",
       "    <tr>\n",
       "      <th>2213</th>\n",
       "      <td>hack</td>\n",
       "      <td>0.000000</td>\n",
       "      <td>0.058577</td>\n",
       "      <td>0.000000</td>\n",
       "    </tr>\n",
       "  </tbody>\n",
       "</table>\n",
       "<p>6599 rows × 4 columns</p>\n",
       "</div>"
      ],
      "text/plain": [
       "                  token    female      male  female_ratio\n",
       "5786        think woman  0.203947  0.000000           inf\n",
       "6483         work woman  0.072368  0.000000           inf\n",
       "1551             eighth  0.092105  0.000000           inf\n",
       "6595        young woman  0.243421  0.004184     58.177632\n",
       "6396         woman work  0.125000  0.004184     29.875000\n",
       "3246          lot woman  0.105263  0.004184     25.157895\n",
       "4116                pet  0.092105  0.004184     22.013158\n",
       "6389         woman know  0.092105  0.004184     22.013158\n",
       "6393        woman start  0.078947  0.004184     18.868421\n",
       "6391         woman need  0.059211  0.004184     14.151316\n",
       "6395        woman woman  0.111842  0.008368     13.365132\n",
       "2409            husband  0.532895  0.041841     12.736184\n",
       "4900          say woman  0.105263  0.008368     12.578947\n",
       "3414               mary  0.098684  0.008368     11.792763\n",
       "3370             makeup  0.131579  0.012552     10.482456\n",
       "2296               heel  0.085526  0.008368     10.220395\n",
       "2785         just woman  0.085526  0.008368     10.220395\n",
       "5183               soup  0.085526  0.008368     10.220395\n",
       "6056         unexpected  0.118421  0.012552      9.434211\n",
       "5021             sexual  0.197368  0.020921      9.434211\n",
       "2801         kid really  0.078947  0.008368      9.434211\n",
       "1859             female  0.769737  0.083682      9.198355\n",
       "365              beauty  0.697368  0.079498      8.772161\n",
       "3085           life say  0.072368  0.008368      8.648026\n",
       "2368          home work  0.072368  0.008368      8.648026\n",
       "6388              woman  5.361842  0.661088      8.110635\n",
       "3488        merchandise  0.131579  0.016736      7.861842\n",
       "2051          good boss  0.065789  0.008368      7.861842\n",
       "6390          woman man  0.125000  0.016736      7.468750\n",
       "2683          job start  0.059211  0.008368      7.075658\n",
       "...                 ...       ...       ...           ...\n",
       "6034       unbelievably  0.006579  0.079498      0.082756\n",
       "6091        use product  0.006579  0.083682      0.078618\n",
       "5140              smoke  0.006579  0.087866      0.074875\n",
       "805               cloud  0.059211  0.794979      0.074481\n",
       "4799           sale rep  0.006579  0.100418      0.065515\n",
       "3776        open source  0.013158  0.200837      0.065515\n",
       "5963             triple  0.006579  0.100418      0.065515\n",
       "2000             gaming  0.006579  0.104603      0.062895\n",
       "2136            graphic  0.006579  0.104603      0.062895\n",
       "4801         salesforce  0.006579  0.104603      0.062895\n",
       "5304          steve job  0.006579  0.125523      0.052412\n",
       "794      climate change  0.006579  0.125523      0.052412\n",
       "5947     transportation  0.006579  0.129707      0.050722\n",
       "1008          computing  0.006579  0.154812      0.042496\n",
       "4327    product company  0.000000  0.050209      0.000000\n",
       "575   business decision  0.000000  0.050209      0.000000\n",
       "175       answer people  0.000000  0.046025      0.000000\n",
       "1580   employee company  0.000000  0.071130      0.000000\n",
       "6494          world big  0.000000  0.054393      0.000000\n",
       "546      build software  0.000000  0.058577      0.000000\n",
       "3288           make bad  0.000000  0.054393      0.000000\n",
       "5352         stuff want  0.000000  0.054393      0.000000\n",
       "2336          high tech  0.000000  0.054393      0.000000\n",
       "4544      really simple  0.000000  0.046025      0.000000\n",
       "5658         thing sort  0.000000  0.071130      0.000000\n",
       "3425        matter good  0.000000  0.041841      0.000000\n",
       "2962               lawn  0.000000  0.075314      0.000000\n",
       "5436             symbol  0.000000  0.062762      0.000000\n",
       "3972        people line  0.000000  0.050209      0.000000\n",
       "2213               hack  0.000000  0.058577      0.000000\n",
       "\n",
       "[6599 rows x 4 columns]"
      ]
     },
     "execution_count": 77,
     "metadata": {},
     "output_type": "execute_result"
    }
   ],
   "source": [
    "tokens.sort_values('female_ratio', ascending = False)"
   ]
  },
  {
   "cell_type": "code",
   "execution_count": 78,
   "metadata": {},
   "outputs": [
    {
     "data": {
      "text/plain": [
       "['ability',\n",
       " 'ability listen',\n",
       " 'able',\n",
       " 'able build',\n",
       " 'able come',\n",
       " 'able look',\n",
       " 'able make',\n",
       " 'able people',\n",
       " 'able really',\n",
       " 'able say',\n",
       " 'able sell',\n",
       " 'able use',\n",
       " 'able work',\n",
       " 'abroad',\n",
       " 'absolute',\n",
       " 'absolutely',\n",
       " 'absorb',\n",
       " 'abuse',\n",
       " 'academic',\n",
       " 'accelerate',\n",
       " 'accept',\n",
       " 'acceptable',\n",
       " 'access',\n",
       " 'access information',\n",
       " 'accessible',\n",
       " 'accident',\n",
       " 'accomplish',\n",
       " 'accomplishment',\n",
       " 'accord',\n",
       " 'account',\n",
       " 'accountability',\n",
       " 'accountable',\n",
       " 'accountant',\n",
       " 'accounting',\n",
       " 'accurate',\n",
       " 'achieve',\n",
       " 'achieve goal',\n",
       " 'achievement',\n",
       " 'acknowledge',\n",
       " 'acquire',\n",
       " 'acquisition',\n",
       " 'act',\n",
       " 'action',\n",
       " 'active',\n",
       " 'actively',\n",
       " 'activist',\n",
       " 'activity',\n",
       " 'actor',\n",
       " 'actual',\n",
       " 'actually',\n",
       " 'actually good',\n",
       " 'actually great',\n",
       " 'actually happen',\n",
       " 'actually just',\n",
       " 'actually know',\n",
       " 'actually like',\n",
       " 'actually look',\n",
       " 'actually lot',\n",
       " 'actually make',\n",
       " 'actually people',\n",
       " 'actually pretty',\n",
       " 'actually really',\n",
       " 'actually say',\n",
       " 'actually spend',\n",
       " 'actually start',\n",
       " 'actually talk',\n",
       " 'actually think',\n",
       " 'actually try',\n",
       " 'actually want',\n",
       " 'actually work',\n",
       " 'adapt',\n",
       " 'add',\n",
       " 'add value',\n",
       " 'addition',\n",
       " 'additional',\n",
       " 'address',\n",
       " 'adjust',\n",
       " 'adjustment',\n",
       " 'administration',\n",
       " 'administrative',\n",
       " 'administrator',\n",
       " 'admire',\n",
       " 'admit',\n",
       " 'adopt',\n",
       " 'adoption',\n",
       " 'adult',\n",
       " 'advance',\n",
       " 'advanced',\n",
       " 'advantage',\n",
       " 'adventure',\n",
       " 'adversity',\n",
       " 'advertise',\n",
       " 'advertiser',\n",
       " 'advertising',\n",
       " 'advice',\n",
       " 'advise',\n",
       " 'adviser',\n",
       " 'advisory',\n",
       " 'advocate',\n",
       " 'affair',\n",
       " 'affect',\n",
       " 'afford',\n",
       " 'affordable',\n",
       " 'afraid',\n",
       " 'africa',\n",
       " 'african',\n",
       " 'african american',\n",
       " 'afternoon',\n",
       " 'afterward',\n",
       " 'age',\n",
       " 'agency',\n",
       " 'agenda',\n",
       " 'agent',\n",
       " 'aggregate',\n",
       " 'aggressive',\n",
       " 'aggressively',\n",
       " 'agile',\n",
       " 'agility',\n",
       " 'ago',\n",
       " 'ago say',\n",
       " 'ago start',\n",
       " 'ago think',\n",
       " 'ago year',\n",
       " 'ago year ago',\n",
       " 'agree',\n",
       " 'agreement',\n",
       " 'ahead',\n",
       " 'ahead time',\n",
       " 'aid',\n",
       " 'aim',\n",
       " 'air',\n",
       " 'airline',\n",
       " 'airplane',\n",
       " 'airport',\n",
       " 'alert',\n",
       " 'algorithm',\n",
       " 'align',\n",
       " 'alignment',\n",
       " 'alive',\n",
       " 'allow',\n",
       " 'allow people',\n",
       " 'alternative',\n",
       " 'altogether',\n",
       " 'amazed',\n",
       " 'amazing',\n",
       " 'amazing people',\n",
       " 'amazing thing',\n",
       " 'amazingly',\n",
       " 'amazon',\n",
       " 'ambiguity',\n",
       " 'ambition',\n",
       " 'ambitious',\n",
       " 'america',\n",
       " 'american',\n",
       " 'analogy',\n",
       " 'analysis',\n",
       " 'analyst',\n",
       " 'analytic',\n",
       " 'analytical',\n",
       " 'analyze',\n",
       " 'andy',\n",
       " 'angel',\n",
       " 'angele',\n",
       " 'anger',\n",
       " 'angle',\n",
       " 'angry',\n",
       " 'animal',\n",
       " 'anniversary',\n",
       " 'announce',\n",
       " 'announcement',\n",
       " 'annual',\n",
       " 'anonymous',\n",
       " 'answer',\n",
       " 'answer ask',\n",
       " 'answer just',\n",
       " 'answer people',\n",
       " 'answer question',\n",
       " 'answer really',\n",
       " 'answer say',\n",
       " 'answer think',\n",
       " 'answer want',\n",
       " 'anti',\n",
       " 'anticipate',\n",
       " 'anxiety',\n",
       " 'anxious',\n",
       " 'anybody',\n",
       " 'anybody know',\n",
       " 'anymore',\n",
       " 'anytime',\n",
       " 'apart',\n",
       " 'apartment',\n",
       " 'apologize',\n",
       " 'app',\n",
       " 'appeal',\n",
       " 'appear',\n",
       " 'applause',\n",
       " 'apple',\n",
       " 'application',\n",
       " 'apply',\n",
       " 'apply job',\n",
       " 'appreciate',\n",
       " 'appreciation',\n",
       " 'approach',\n",
       " 'appropriate',\n",
       " 'appropriately',\n",
       " 'approval',\n",
       " 'approve',\n",
       " 'approximately',\n",
       " 'april',\n",
       " 'architect',\n",
       " 'architecture',\n",
       " 'area',\n",
       " 'area business',\n",
       " 'area need',\n",
       " 'area people',\n",
       " 'argue',\n",
       " 'argument',\n",
       " 'arm',\n",
       " 'army',\n",
       " 'arrive',\n",
       " 'arrogance',\n",
       " 'arrogant',\n",
       " 'art',\n",
       " 'article',\n",
       " 'articulate',\n",
       " 'artificial',\n",
       " 'artificial intelligence',\n",
       " 'artist',\n",
       " 'asia',\n",
       " 'asian',\n",
       " 'aside',\n",
       " 'ask',\n",
       " 'ask ask',\n",
       " 'ask come',\n",
       " 'ask experience',\n",
       " 'ask good',\n",
       " 'ask hard',\n",
       " 'ask help',\n",
       " 'ask job',\n",
       " 'ask just',\n",
       " 'ask know',\n",
       " 'ask lot',\n",
       " 'ask lot question',\n",
       " 'ask make',\n",
       " 'ask people',\n",
       " 'ask question',\n",
       " 'ask really',\n",
       " 'ask right',\n",
       " 'ask say',\n",
       " 'ask somebody',\n",
       " 'ask team',\n",
       " 'ask tell',\n",
       " 'ask tell time',\n",
       " 'ask thing',\n",
       " 'ask think',\n",
       " 'ask time',\n",
       " 'ask want',\n",
       " 'ask work',\n",
       " 'ask year',\n",
       " 'aspect',\n",
       " 'aspiration',\n",
       " 'aspire',\n",
       " 'ass',\n",
       " 'assemble',\n",
       " 'assess',\n",
       " 'assessment',\n",
       " 'asset',\n",
       " 'assign',\n",
       " 'assignment',\n",
       " 'assist',\n",
       " 'assistant',\n",
       " 'associate',\n",
       " 'association',\n",
       " 'assume',\n",
       " 'assume people',\n",
       " 'assumption',\n",
       " 'athlete',\n",
       " 'atlantic',\n",
       " 'attach',\n",
       " 'attack',\n",
       " 'attempt',\n",
       " 'attend',\n",
       " 'attention',\n",
       " 'attitude',\n",
       " 'attract',\n",
       " 'attract people',\n",
       " 'attractive',\n",
       " 'attribute',\n",
       " 'audience',\n",
       " 'august',\n",
       " 'australia',\n",
       " 'authentic',\n",
       " 'authenticity',\n",
       " 'author',\n",
       " 'authority',\n",
       " 'auto',\n",
       " 'automate',\n",
       " 'automatically',\n",
       " 'automation',\n",
       " 'automotive',\n",
       " 'autonomy',\n",
       " 'availability',\n",
       " 'available',\n",
       " 'avenue',\n",
       " 'average',\n",
       " 'avoid',\n",
       " 'award',\n",
       " 'aware',\n",
       " 'awareness',\n",
       " 'away',\n",
       " 'away just',\n",
       " 'away people',\n",
       " 'away think',\n",
       " 'awesome',\n",
       " 'awful',\n",
       " 'awkward',\n",
       " 'baby',\n",
       " 'background',\n",
       " 'backup',\n",
       " 'bad',\n",
       " 'bad boss',\n",
       " 'bad day',\n",
       " 'bad happen',\n",
       " 'bad idea',\n",
       " 'bad news',\n",
       " 'bad people',\n",
       " 'bad say',\n",
       " 'bad thing',\n",
       " 'bad thing happen',\n",
       " 'badge',\n",
       " 'badly',\n",
       " 'bag',\n",
       " 'balance',\n",
       " 'balance sheet',\n",
       " 'balanced',\n",
       " 'ball',\n",
       " 'band',\n",
       " 'bandwidth',\n",
       " 'bang',\n",
       " 'bank',\n",
       " 'banker',\n",
       " 'banking',\n",
       " 'bankruptcy',\n",
       " 'bar',\n",
       " 'barely',\n",
       " 'barrier',\n",
       " 'base',\n",
       " 'baseball',\n",
       " 'basic',\n",
       " 'basically',\n",
       " 'basically just',\n",
       " 'basically say',\n",
       " 'basis',\n",
       " 'basketball',\n",
       " 'basketball team',\n",
       " 'bat',\n",
       " 'bathroom',\n",
       " 'battery',\n",
       " 'battle',\n",
       " 'bay',\n",
       " 'bay area',\n",
       " 'beach',\n",
       " 'bear',\n",
       " 'beat',\n",
       " 'beautiful',\n",
       " 'beauty',\n",
       " 'bed',\n",
       " 'bedroom',\n",
       " 'beer',\n",
       " 'beg',\n",
       " 'begin',\n",
       " 'beginning',\n",
       " 'behalf',\n",
       " 'behave',\n",
       " 'behavior',\n",
       " 'behavioral',\n",
       " 'belief',\n",
       " 'believe',\n",
       " 'believe believe',\n",
       " 'believe company',\n",
       " 'believe good',\n",
       " 'believe know',\n",
       " 'believe make',\n",
       " 'believe people',\n",
       " 'believe really',\n",
       " 'believe think',\n",
       " 'believe want',\n",
       " 'believer',\n",
       " 'bell',\n",
       " 'belly',\n",
       " 'belong',\n",
       " 'bench',\n",
       " 'bend',\n",
       " 'benefit',\n",
       " 'best',\n",
       " 'bet',\n",
       " 'better',\n",
       " 'better think',\n",
       " 'better understand',\n",
       " 'bias',\n",
       " 'bid',\n",
       " 'big',\n",
       " 'big believer',\n",
       " 'big big',\n",
       " 'big business',\n",
       " 'big challenge',\n",
       " 'big change',\n",
       " 'big company',\n",
       " 'big datum',\n",
       " 'big deal',\n",
       " 'big decision',\n",
       " 'big difference',\n",
       " 'big fan',\n",
       " 'big idea',\n",
       " 'big impact',\n",
       " 'big issue',\n",
       " 'big job',\n",
       " 'big know',\n",
       " 'big lesson',\n",
       " 'big life',\n",
       " 'big mistake',\n",
       " 'big mistake make',\n",
       " 'big opportunity',\n",
       " 'big picture',\n",
       " 'big problem',\n",
       " 'big question',\n",
       " 'big thing',\n",
       " 'big think',\n",
       " 'big way',\n",
       " 'bike',\n",
       " 'billion',\n",
       " 'billion dollar',\n",
       " 'bind',\n",
       " 'biology',\n",
       " 'bird',\n",
       " 'birth',\n",
       " 'birthday',\n",
       " 'bit',\n",
       " 'bit just',\n",
       " 'bit time',\n",
       " 'bite',\n",
       " 'black',\n",
       " 'black white',\n",
       " 'blackberry',\n",
       " 'blame',\n",
       " 'blank',\n",
       " 'bleed',\n",
       " 'blend',\n",
       " 'bless',\n",
       " 'blind',\n",
       " 'block',\n",
       " 'blockchain',\n",
       " 'blog',\n",
       " 'blood',\n",
       " 'blow',\n",
       " 'blue',\n",
       " 'board',\n",
       " 'board director',\n",
       " 'board meeting',\n",
       " 'board member',\n",
       " 'boardroom',\n",
       " 'boat',\n",
       " 'bob',\n",
       " 'body',\n",
       " 'body language',\n",
       " 'boil',\n",
       " 'bold',\n",
       " 'bond',\n",
       " 'bonus',\n",
       " 'book',\n",
       " 'book read',\n",
       " 'boom',\n",
       " 'boot',\n",
       " 'border',\n",
       " 'bore',\n",
       " 'bored',\n",
       " 'boring',\n",
       " 'borrow',\n",
       " 'boss',\n",
       " 'boss say',\n",
       " 'boston',\n",
       " 'bother',\n",
       " 'bottle',\n",
       " 'bounce',\n",
       " 'boundary',\n",
       " 'box',\n",
       " 'boy',\n",
       " 'boyfriend',\n",
       " 'brain',\n",
       " 'brainstorm',\n",
       " 'branch',\n",
       " 'brand',\n",
       " 'brand brand',\n",
       " 'brand new',\n",
       " 'brand really',\n",
       " 'brand think',\n",
       " 'brave',\n",
       " 'brazil',\n",
       " 'bread',\n",
       " 'breadth',\n",
       " 'break',\n",
       " 'breakfast',\n",
       " 'breakthrough',\n",
       " 'breath',\n",
       " 'breathe',\n",
       " 'brian',\n",
       " 'brick',\n",
       " 'bridge',\n",
       " 'brief',\n",
       " 'bright',\n",
       " 'brilliant',\n",
       " 'bring',\n",
       " 'bring different',\n",
       " 'bring good',\n",
       " 'bring new',\n",
       " 'bring people',\n",
       " 'bring table',\n",
       " 'british',\n",
       " 'broad',\n",
       " 'broadcast',\n",
       " 'broaden',\n",
       " 'broadly',\n",
       " 'broken',\n",
       " 'broker',\n",
       " 'brooklyn',\n",
       " 'brother',\n",
       " 'brother sister',\n",
       " 'brown',\n",
       " 'brutal',\n",
       " 'bubble',\n",
       " 'buck',\n",
       " 'bucket',\n",
       " 'budget',\n",
       " 'bug',\n",
       " 'build',\n",
       " 'build brand',\n",
       " 'build business',\n",
       " 'build company',\n",
       " 'build culture',\n",
       " 'build good',\n",
       " 'build great',\n",
       " 'build great company',\n",
       " 'build kind',\n",
       " 'build new',\n",
       " 'build product',\n",
       " 'build relationship',\n",
       " 'build software',\n",
       " 'build strong',\n",
       " 'build team',\n",
       " 'build thing',\n",
       " 'build trust',\n",
       " 'builder',\n",
       " 'building',\n",
       " 'building team',\n",
       " 'bullet',\n",
       " 'bunch',\n",
       " 'bunch different',\n",
       " 'bunch people',\n",
       " 'bunch thing',\n",
       " 'burden',\n",
       " 'bureaucracy',\n",
       " 'burn',\n",
       " 'burst',\n",
       " 'bus',\n",
       " 'business',\n",
       " 'business actually',\n",
       " 'business big',\n",
       " 'business build',\n",
       " 'business business',\n",
       " 'business card',\n",
       " 'business come',\n",
       " 'business community',\n",
       " 'business company',\n",
       " 'business create',\n",
       " 'business day',\n",
       " 'business decision',\n",
       " 'business development',\n",
       " 'business different',\n",
       " 'business good',\n",
       " 'business great',\n",
       " 'business grow',\n",
       " 'business idea',\n",
       " 'business just',\n",
       " 'business know',\n",
       " 'business leader',\n",
       " 'business learn',\n",
       " 'business look',\n",
       " 'business lot',\n",
       " 'business make',\n",
       " 'business model',\n",
       " 'business need',\n",
       " 'business owner',\n",
       " 'business partner',\n",
       " 'business people',\n",
       " 'business plan',\n",
       " 'business really',\n",
       " 'business right',\n",
       " 'business say',\n",
       " 'business school',\n",
       " 'business start',\n",
       " 'business tell',\n",
       " 'business thing',\n",
       " 'business think',\n",
       " 'business time',\n",
       " 'business today',\n",
       " 'business want',\n",
       " 'business way',\n",
       " 'business work',\n",
       " 'business world',\n",
       " 'business year',\n",
       " 'busy',\n",
       " 'button',\n",
       " 'buy',\n",
       " 'buyer',\n",
       " 'cable',\n",
       " 'calculate',\n",
       " 'calendar',\n",
       " 'california',\n",
       " 'calm',\n",
       " 'cambridge',\n",
       " 'camera',\n",
       " 'camp',\n",
       " 'campaign',\n",
       " 'campus',\n",
       " 'canada',\n",
       " 'cancel',\n",
       " 'cancer',\n",
       " 'candid',\n",
       " 'candidate',\n",
       " 'candor',\n",
       " 'candy',\n",
       " 'cap',\n",
       " 'capability',\n",
       " 'capable',\n",
       " 'capacity',\n",
       " 'capital',\n",
       " 'capitalist',\n",
       " 'capitalize',\n",
       " 'captain',\n",
       " 'capture',\n",
       " 'car',\n",
       " 'carbon',\n",
       " 'card',\n",
       " 'care',\n",
       " 'care just',\n",
       " 'care lot',\n",
       " 'care make',\n",
       " 'care people',\n",
       " 'care think',\n",
       " 'career',\n",
       " 'career just',\n",
       " 'career know',\n",
       " 'career path',\n",
       " 'career really',\n",
       " 'career think',\n",
       " 'career want',\n",
       " 'career work',\n",
       " 'careful',\n",
       " 'carefully',\n",
       " 'carolina',\n",
       " 'carrier',\n",
       " 'carry',\n",
       " 'carve',\n",
       " 'case',\n",
       " 'case people',\n",
       " 'case study',\n",
       " 'cash',\n",
       " 'cash flow',\n",
       " 'cast',\n",
       " 'casual',\n",
       " 'cat',\n",
       " 'catalyst',\n",
       " 'catch',\n",
       " 'category',\n",
       " 'catholic',\n",
       " 'cause',\n",
       " 'ceiling',\n",
       " 'celebrate',\n",
       " 'celebration',\n",
       " 'celebrity',\n",
       " 'cell',\n",
       " 'cent',\n",
       " 'center',\n",
       " 'central',\n",
       " 'century',\n",
       " 'ceo',\n",
       " 'ceo company',\n",
       " 'ceo know',\n",
       " 'ceo say',\n",
       " 'certain',\n",
       " 'certain kind',\n",
       " 'certain level',\n",
       " 'certain people',\n",
       " 'certain point',\n",
       " 'certain thing',\n",
       " 'certain way',\n",
       " 'certainly',\n",
       " 'certainly know',\n",
       " 'cfo',\n",
       " 'chain',\n",
       " 'chair',\n",
       " 'chairman',\n",
       " 'challenge',\n",
       " 'challenge face',\n",
       " 'challenge know',\n",
       " 'challenge learn',\n",
       " 'challenge people',\n",
       " 'challenge want',\n",
       " 'challenging',\n",
       " 'champion',\n",
       " 'chance',\n",
       " 'chance work',\n",
       " 'change',\n",
       " 'change behavior',\n",
       " 'change business',\n",
       " 'change change',\n",
       " 'change company',\n",
       " 'change course',\n",
       " 'change culture',\n",
       " 'change happen',\n",
       " 'change industry',\n",
       " 'change job',\n",
       " 'change just',\n",
       " 'change know',\n",
       " 'change life',\n",
       " 'change lot',\n",
       " 'change make',\n",
       " 'change mind',\n",
       " 'change need',\n",
       " 'change people',\n",
       " 'change thing',\n",
       " 'change think',\n",
       " 'change time',\n",
       " 'change want',\n",
       " 'change way',\n",
       " 'change world',\n",
       " 'change year',\n",
       " 'channel',\n",
       " 'chaos',\n",
       " 'chapter',\n",
       " 'character',\n",
       " 'characteristic',\n",
       " 'characterize',\n",
       " 'charge',\n",
       " 'charity',\n",
       " 'chart',\n",
       " 'charter',\n",
       " 'chase',\n",
       " 'chat',\n",
       " 'cheap',\n",
       " 'check',\n",
       " 'chef',\n",
       " 'chemical',\n",
       " 'chemistry',\n",
       " 'chicago',\n",
       " 'chief',\n",
       " 'chief executive',\n",
       " 'chief operating',\n",
       " 'chief operating officer',\n",
       " 'child',\n",
       " 'child grow',\n",
       " 'childhood',\n",
       " 'children',\n",
       " 'chill',\n",
       " 'china',\n",
       " 'chinese',\n",
       " 'chip',\n",
       " 'choice',\n",
       " 'choice make',\n",
       " 'choose',\n",
       " 'chop',\n",
       " 'christma',\n",
       " 'church',\n",
       " 'circle',\n",
       " 'circumstance',\n",
       " 'cite',\n",
       " 'citizen',\n",
       " 'city',\n",
       " 'civil',\n",
       " 'claim',\n",
       " 'clarity',\n",
       " 'class',\n",
       " 'classic',\n",
       " 'classmate',\n",
       " 'classroom',\n",
       " 'clean',\n",
       " 'clear',\n",
       " 'clear path',\n",
       " 'clear vision',\n",
       " 'clear want',\n",
       " 'clearly',\n",
       " 'click',\n",
       " 'client',\n",
       " 'climate',\n",
       " 'climate change',\n",
       " 'climb',\n",
       " 'clinical',\n",
       " 'clock',\n",
       " 'close',\n",
       " 'closed',\n",
       " 'closely',\n",
       " 'closer',\n",
       " 'closet',\n",
       " 'clothe',\n",
       " 'clothing',\n",
       " 'cloud',\n",
       " 'club',\n",
       " 'clue',\n",
       " 'coach',\n",
       " 'coaching',\n",
       " 'coast',\n",
       " 'cocktail',\n",
       " 'code',\n",
       " 'coffee',\n",
       " 'cold',\n",
       " 'collaborate',\n",
       " 'collaboration',\n",
       " 'collaborative',\n",
       " 'colleague',\n",
       " 'collect',\n",
       " 'collection',\n",
       " 'collective',\n",
       " 'collectively',\n",
       " 'college',\n",
       " 'college graduate',\n",
       " 'college student',\n",
       " 'college think',\n",
       " 'college work',\n",
       " 'college year',\n",
       " 'color',\n",
       " 'com',\n",
       " 'combat',\n",
       " 'combination',\n",
       " 'combine',\n",
       " 'come',\n",
       " 'come actually',\n",
       " 'come answer',\n",
       " 'come ask',\n",
       " 'come big',\n",
       " 'come board',\n",
       " 'come business',\n",
       " 'come college',\n",
       " 'come come',\n",
       " 'come company',\n",
       " 'come day',\n",
       " 'come different',\n",
       " 'come end',\n",
       " 'come family',\n",
       " 'come good',\n",
       " 'come help',\n",
       " 'come home',\n",
       " 'come idea',\n",
       " 'come interview',\n",
       " 'come job',\n",
       " 'come just',\n",
       " 'come kind',\n",
       " 'come know',\n",
       " 'come little',\n",
       " 'come long',\n",
       " 'come lot',\n",
       " 'come meeting',\n",
       " 'come mind',\n",
       " 'come new',\n",
       " 'come office',\n",
       " 'come people',\n",
       " 'come place',\n",
       " 'come really',\n",
       " 'come right',\n",
       " 'come say',\n",
       " 'come talk',\n",
       " 'come tell',\n",
       " 'come thing',\n",
       " 'come think',\n",
       " 'come time',\n",
       " 'come try',\n",
       " 'come want',\n",
       " 'come way',\n",
       " 'come week',\n",
       " 'come work',\n",
       " 'come work day',\n",
       " 'come year',\n",
       " 'comfort',\n",
       " 'comfort zone',\n",
       " 'comfortable',\n",
       " 'command',\n",
       " 'command control',\n",
       " 'comment',\n",
       " 'commerce',\n",
       " 'commercial',\n",
       " 'commission',\n",
       " 'commit',\n",
       " 'commitment',\n",
       " 'committed',\n",
       " 'committee',\n",
       " 'commodity',\n",
       " 'common',\n",
       " 'common sense',\n",
       " 'communicate',\n",
       " 'communication',\n",
       " 'communication skill',\n",
       " 'community',\n",
       " 'community work',\n",
       " 'company',\n",
       " 'company acquire',\n",
       " 'company actually',\n",
       " 'company ask',\n",
       " 'company believe',\n",
       " 'company big',\n",
       " 'company bring',\n",
       " 'company build',\n",
       " 'company business',\n",
       " 'company buy',\n",
       " 'company ceo',\n",
       " 'company change',\n",
       " 'company come',\n",
       " 'company company',\n",
       " 'company create',\n",
       " 'company culture',\n",
       " 'company decide',\n",
       " 'company different',\n",
       " 'company early',\n",
       " 'company employee',\n",
       " 'company feel',\n",
       " 'company focus',\n",
       " 'company good',\n",
       " 'company great',\n",
       " 'company grow',\n",
       " 'company help',\n",
       " 'company hire',\n",
       " 'company industry',\n",
       " 'company just',\n",
       " 'company kind',\n",
       " 'company know',\n",
       " 'company large',\n",
       " 'company learn',\n",
       " 'company let',\n",
       " 'company long',\n",
       " 'company look',\n",
       " 'company lot',\n",
       " 'company love',\n",
       " 'company make',\n",
       " 'company need',\n",
       " 'company new',\n",
       " 'company offer',\n",
       " 'company people',\n",
       " 'company probably',\n",
       " 'company public',\n",
       " 'company really',\n",
       " 'company right',\n",
       " 'company run',\n",
       " 'company say',\n",
       " 'company sell',\n",
       " 'company share',\n",
       " 'company sort',\n",
       " 'company spend',\n",
       " 'company start',\n",
       " 'company successful',\n",
       " 'company talk',\n",
       " 'company team',\n",
       " 'company tell',\n",
       " 'company thing',\n",
       " 'company think',\n",
       " 'company time',\n",
       " 'company today',\n",
       " 'company try',\n",
       " 'company use',\n",
       " 'company value',\n",
       " 'company want',\n",
       " 'company way',\n",
       " 'company work',\n",
       " 'company world',\n",
       " 'company year',\n",
       " 'company year ago',\n",
       " 'companys',\n",
       " 'compare',\n",
       " 'comparison',\n",
       " 'compassion',\n",
       " 'compassionate',\n",
       " 'compelling',\n",
       " 'compensate',\n",
       " 'compensation',\n",
       " 'compete',\n",
       " 'competence',\n",
       " 'competency',\n",
       " 'competent',\n",
       " 'competition',\n",
       " 'competitive',\n",
       " 'competitive advantage',\n",
       " 'competitiveness',\n",
       " 'competitor',\n",
       " 'complain',\n",
       " 'complement',\n",
       " 'complete',\n",
       " 'completely',\n",
       " 'completely change',\n",
       " 'completely different',\n",
       " 'complex',\n",
       " 'complexity',\n",
       " 'compliance',\n",
       " 'complicate',\n",
       " ...]"
      ]
     },
     "execution_count": 78,
     "metadata": {},
     "output_type": "execute_result"
    }
   ],
   "source": [
    "vectorizer.get_feature_names()"
   ]
  },
  {
   "cell_type": "code",
   "execution_count": 79,
   "metadata": {},
   "outputs": [
    {
     "ename": "NameError",
     "evalue": "name 'frequency_array' is not defined",
     "output_type": "error",
     "traceback": [
      "\u001b[1;31m---------------------------------------------------------------------------\u001b[0m",
      "\u001b[1;31mNameError\u001b[0m                                 Traceback (most recent call last)",
      "\u001b[1;32m<ipython-input-79-c2b96f06c27a>\u001b[0m in \u001b[0;36m<module>\u001b[1;34m()\u001b[0m\n\u001b[1;32m----> 1\u001b[1;33m word_freq_df = pd.DataFrame(frequency_array.toarray(),\n\u001b[0m\u001b[0;32m      2\u001b[0m                             columns = vectorizer.get_feature_names())\n",
      "\u001b[1;31mNameError\u001b[0m: name 'frequency_array' is not defined"
     ]
    }
   ],
   "source": [
    "word_freq_df = pd.DataFrame(frequency_array.toarray(),\n",
    "                            columns = vectorizer.get_feature_names())"
   ]
  },
  {
   "cell_type": "code",
   "execution_count": null,
   "metadata": {},
   "outputs": [],
   "source": [
    "word_freq_df.info()"
   ]
  },
  {
   "cell_type": "code",
   "execution_count": null,
   "metadata": {},
   "outputs": [],
   "source": [
    "word_freq_df.head()"
   ]
  },
  {
   "cell_type": "code",
   "execution_count": null,
   "metadata": {},
   "outputs": [],
   "source": [
    "word_freq_df.sum().sort_values(ascending=False)[:20]"
   ]
  },
  {
   "cell_type": "code",
   "execution_count": null,
   "metadata": {},
   "outputs": [],
   "source": []
  },
  {
   "cell_type": "code",
   "execution_count": null,
   "metadata": {},
   "outputs": [],
   "source": [
    "# extracting two grams"
   ]
  },
  {
   "cell_type": "code",
   "execution_count": null,
   "metadata": {},
   "outputs": [],
   "source": [
    "from sklearn.feature_extraction.text import CountVectorizer"
   ]
  },
  {
   "cell_type": "code",
   "execution_count": null,
   "metadata": {},
   "outputs": [],
   "source": [
    "vectorizer = CountVectorizer(lowercase = True,\n",
    "                             # token_pattern = r\"(?u)\\b\\w+\\b\",\n",
    "                             token_pattern = r\"[a-zA-Z]\\w+\",\n",
    "                             # tokenizer=textblob_tokenizer, \n",
    "                             ngram_range = (2,2),\n",
    "                             stop_words = ['000'],\n",
    "                             max_df    = .9,\n",
    "                             min_df    = .2)"
   ]
  },
  {
   "cell_type": "code",
   "execution_count": null,
   "metadata": {},
   "outputs": [],
   "source": [
    "vectorizer.fit(table['Interview'])"
   ]
  },
  {
   "cell_type": "code",
   "execution_count": null,
   "metadata": {},
   "outputs": [],
   "source": [
    "len(vectorizer.get_feature_names())"
   ]
  },
  {
   "cell_type": "code",
   "execution_count": null,
   "metadata": {},
   "outputs": [],
   "source": [
    "frequency_array = vectorizer.transform(table['Interview'])"
   ]
  },
  {
   "cell_type": "code",
   "execution_count": null,
   "metadata": {},
   "outputs": [],
   "source": [
    "word_freq_df_twograms = pd.DataFrame(frequency_array.toarray(), \n",
    "                            columns = vectorizer.get_feature_names())"
   ]
  },
  {
   "cell_type": "code",
   "execution_count": null,
   "metadata": {},
   "outputs": [],
   "source": [
    "# extracting three grams "
   ]
  },
  {
   "cell_type": "code",
   "execution_count": null,
   "metadata": {},
   "outputs": [],
   "source": [
    "vectorizerT = CountVectorizer(lowercase = True,\n",
    "                             # token_pattern = r\"(?u)\\b\\w+\\b\",\n",
    "                             token_pattern = r\"[a-zA-Z]\\w+\",\n",
    "                             # tokenizer=textblob_tokenizer, \n",
    "                             ngram_range = (3,3),\n",
    "                             stop_words = ['000'],\n",
    "                             max_df    = .9,\n",
    "                             min_df    = .2)"
   ]
  },
  {
   "cell_type": "code",
   "execution_count": null,
   "metadata": {},
   "outputs": [],
   "source": [
    "vectorizerT.fit(table['Interview'])"
   ]
  },
  {
   "cell_type": "code",
   "execution_count": null,
   "metadata": {},
   "outputs": [],
   "source": [
    "len(vectorizerT.get_feature_names())"
   ]
  },
  {
   "cell_type": "code",
   "execution_count": null,
   "metadata": {},
   "outputs": [],
   "source": [
    "frequency_arrayT = vectorizerT.transform(table['Interview'])"
   ]
  },
  {
   "cell_type": "code",
   "execution_count": null,
   "metadata": {},
   "outputs": [],
   "source": [
    "word_freq_df_threegrams = pd.DataFrame(frequency_arrayT.toarray(), \n",
    "                            columns = vectorizerT.get_feature_names())"
   ]
  },
  {
   "cell_type": "code",
   "execution_count": null,
   "metadata": {},
   "outputs": [],
   "source": [
    "from textblob import TextBlob\n",
    "\n",
    "# Use TextBlob\n",
    "def textblob_tokenizer(str_input):\n",
    "    blob = TextBlob(str_input.lower())\n",
    "    tokens = blob.words\n",
    "    words = [token.stem() for token in tokens]\n",
    "    return words"
   ]
  },
  {
   "cell_type": "code",
   "execution_count": null,
   "metadata": {},
   "outputs": [],
   "source": [
    "# extracting words"
   ]
  },
  {
   "cell_type": "code",
   "execution_count": null,
   "metadata": {},
   "outputs": [],
   "source": [
    "from sklearn.feature_extraction.text import TfidfVectorizer"
   ]
  },
  {
   "cell_type": "code",
   "execution_count": null,
   "metadata": {},
   "outputs": [],
   "source": [
    "tfidf_vectorizer = TfidfVectorizer(lowercase = True,\n",
    "                             # token_pattern = r\"(?u)\\b\\w+\\b\",\n",
    "                             token_pattern = '[a-zA-Z]\\w+',\n",
    "                             ngram_range = (1,1),\n",
    "                             stop_words = ['000'],\n",
    "                             tokenizer=textblob_tokenizer,      \n",
    "                             max_df    = .9,\n",
    "                             min_df    = .2)"
   ]
  },
  {
   "cell_type": "code",
   "execution_count": null,
   "metadata": {},
   "outputs": [],
   "source": [
    "tfidf_vectorizer.fit(table['Interview'])"
   ]
  },
  {
   "cell_type": "code",
   "execution_count": null,
   "metadata": {},
   "outputs": [],
   "source": [
    "tfidf_array = tfidf_vectorizer.transform(table['Interview'])"
   ]
  },
  {
   "cell_type": "code",
   "execution_count": null,
   "metadata": {},
   "outputs": [],
   "source": [
    "tfidf_df = pd.DataFrame(tfidf_array.todense(),\n",
    "             columns = tfidf_vectorizer.get_feature_names())"
   ]
  },
  {
   "cell_type": "code",
   "execution_count": null,
   "metadata": {},
   "outputs": [],
   "source": [
    "len(tfidf_df.columns)"
   ]
  },
  {
   "cell_type": "code",
   "execution_count": null,
   "metadata": {},
   "outputs": [],
   "source": []
  },
  {
   "cell_type": "code",
   "execution_count": null,
   "metadata": {},
   "outputs": [],
   "source": [
    "core = pd.read_excel('C://Users//2918261//Dropbox//Corner Office Interviews//core.xlsx')"
   ]
  },
  {
   "cell_type": "code",
   "execution_count": null,
   "metadata": {},
   "outputs": [],
   "source": [
    "df_combined = pd.concat([core, word_freq_df_twograms, word_freq_df_threegrams, tfidf_df], axis=1)"
   ]
  },
  {
   "cell_type": "code",
   "execution_count": null,
   "metadata": {},
   "outputs": [],
   "source": [
    "df_combined.to_excel('FeatureTable.xlsx', index = False)"
   ]
  },
  {
   "cell_type": "code",
   "execution_count": null,
   "metadata": {},
   "outputs": [],
   "source": [
    "df_combined.info()"
   ]
  },
  {
   "cell_type": "code",
   "execution_count": null,
   "metadata": {},
   "outputs": [],
   "source": [
    "from sklearn.feature_extraction.text import TfidfVectorizer"
   ]
  },
  {
   "cell_type": "code",
   "execution_count": null,
   "metadata": {},
   "outputs": [],
   "source": [
    "tfidf_vectorizer_tri = TfidfVectorizer(lowercase = True,\n",
    "                             token_pattern = r\"(?u)\\b\\w+\\b\",\n",
    "                             ngram_range = (3,3),\n",
    "                             stop_words = ['000'],\n",
    "                             max_df    = .9,\n",
    "                             min_df    = .3)"
   ]
  },
  {
   "cell_type": "code",
   "execution_count": null,
   "metadata": {},
   "outputs": [],
   "source": [
    "tfidf_vectorizer_tri.fit(table['Interview'])"
   ]
  },
  {
   "cell_type": "code",
   "execution_count": null,
   "metadata": {},
   "outputs": [],
   "source": [
    "tfidf_array = tfidf_vectorizer_tri.transform(table['Interview'])"
   ]
  },
  {
   "cell_type": "code",
   "execution_count": null,
   "metadata": {},
   "outputs": [],
   "source": [
    "tfidf_df = pd.DataFrame(tfidf_array.todense(),\n",
    "             columns = tfidf_vectorizer_tri.get_feature_names())"
   ]
  },
  {
   "cell_type": "code",
   "execution_count": null,
   "metadata": {},
   "outputs": [],
   "source": [
    "df_combined = pd.concat([table, tfidf_df], axis=1)"
   ]
  },
  {
   "cell_type": "code",
   "execution_count": null,
   "metadata": {},
   "outputs": [],
   "source": [
    "df_combined.info()"
   ]
  },
  {
   "cell_type": "code",
   "execution_count": null,
   "metadata": {},
   "outputs": [],
   "source": []
  },
  {
   "cell_type": "code",
   "execution_count": null,
   "metadata": {},
   "outputs": [],
   "source": []
  },
  {
   "cell_type": "code",
   "execution_count": null,
   "metadata": {},
   "outputs": [],
   "source": []
  }
 ],
 "metadata": {
  "kernelspec": {
   "display_name": "Python 3",
   "language": "python",
   "name": "python3"
  },
  "language_info": {
   "codemirror_mode": {
    "name": "ipython",
    "version": 3
   },
   "file_extension": ".py",
   "mimetype": "text/x-python",
   "name": "python",
   "nbconvert_exporter": "python",
   "pygments_lexer": "ipython3",
   "version": "3.6.5"
  }
 },
 "nbformat": 4,
 "nbformat_minor": 2
}
